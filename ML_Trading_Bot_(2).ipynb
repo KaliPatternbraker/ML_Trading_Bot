{
 "cells": [
  {
   "cell_type": "code",
   "execution_count": 6,
   "id": "dyFjzpjFjnU1",
   "metadata": {
    "colab": {
     "base_uri": "https://localhost:8080/",
     "height": 660
    },
    "id": "dyFjzpjFjnU1",
    "outputId": "8af82cd3-5eaa-47d2-fca5-88463fb6eda0"
   },
   "outputs": [],
   "source": [
    "# !pip installs not needed for Jupyter Lab notebook and were deleted.\n",
    "\n",
    "# Here we imported the sdame code for the Supervised machine learning trading bot since some of the charts and graphs cannot run in Google Colab.\n",
    "\n",
    "#from getpass import getpass\n",
    "#secret = getpass('Enter the secret value')\n",
    "\n",
    "import os\n",
    "import requests\n",
    "import json\n",
    "import pandas as pd\n",
    "\n",
    "#from dotenv import load_dotenv\n",
    "#import alpaca_trade_api as tradeapi\n",
    "\n",
    "import numpy as np\n",
    "%matplotlib inline\n",
    "import hvplot.pandas\n",
    "from decouple import config\n",
    "from pathlib import Path\n",
    "import hvplot.pandas\n",
    "import matplotlib.pyplot as plt\n",
    "from sklearn import svm\n",
    "from sklearn.preprocessing import StandardScaler\n",
    "from pandas.tseries.offsets import DateOffset\n",
    "from sklearn.metrics import classification_report\n",
    "from finta import TA\n",
    "\n",
    "import pandas_datareader.data as web\n",
    "import pandas as pd\n",
    "import datetime as dt\n",
    "import numpy as np\n",
    "import matplotlib.pyplot as plt\n",
    "from matplotlib import style\n",
    "#from MCForecastTools import mc_simulation\n",
    "\n",
    "style.use('ggplot')\n",
    "\n",
    "from mc_simulation import AverageModel as am\n",
    "from mc_simulation import VolatilityModel as vm\n",
    "from mc_simulation import MonteCarloSimulation as mcs\n",
    "\n",
    "# Import the required libraries and dependencies\n",
    "import pandas as pd\n",
    "import holoviews as hv\n",
    "from fbprophet import Prophet\n",
    "import hvplot.pandas\n",
    "import datetime as dt\n",
    "%matplotlib inline\n",
    "\n",
    "\n",
    "#API_USERNAME = config('USER')\n",
    "#API_KEY = config('KEY')"
   ]
  },
  {
   "cell_type": "code",
   "execution_count": null,
   "id": "48011aac-24ea-442f-a4d0-8c456d3aaf19",
   "metadata": {
    "id": "48011aac-24ea-442f-a4d0-8c456d3aaf19"
   },
   "outputs": [],
   "source": [
    "\n",
    "\n"
   ]
  },
  {
   "cell_type": "code",
   "execution_count": null,
   "id": "4aef45e4-e87b-4b08-a9eb-d428e78d451b",
   "metadata": {
    "id": "4aef45e4-e87b-4b08-a9eb-d428e78d451b"
   },
   "outputs": [],
   "source": [
    "\n"
   ]
  },
  {
   "cell_type": "code",
   "execution_count": 12,
   "id": "6d43218c-f0ee-4ada-be1d-ca19bccd9792",
   "metadata": {
    "colab": {
     "base_uri": "https://localhost:8080/",
     "height": 206
    },
    "id": "6d43218c-f0ee-4ada-be1d-ca19bccd9792",
    "outputId": "c8476e6d-b520-4f03-de76-604daf63c02d"
   },
   "outputs": [
    {
     "data": {
      "text/html": [
       "<div>\n",
       "<style scoped>\n",
       "    .dataframe tbody tr th:only-of-type {\n",
       "        vertical-align: middle;\n",
       "    }\n",
       "\n",
       "    .dataframe tbody tr th {\n",
       "        vertical-align: top;\n",
       "    }\n",
       "\n",
       "    .dataframe thead th {\n",
       "        text-align: right;\n",
       "    }\n",
       "</style>\n",
       "<table border=\"1\" class=\"dataframe\">\n",
       "  <thead>\n",
       "    <tr style=\"text-align: right;\">\n",
       "      <th></th>\n",
       "      <th>Date</th>\n",
       "      <th>Open</th>\n",
       "      <th>High</th>\n",
       "      <th>Low</th>\n",
       "      <th>Close</th>\n",
       "      <th>Adj Close</th>\n",
       "      <th>Volume</th>\n",
       "    </tr>\n",
       "  </thead>\n",
       "  <tbody>\n",
       "    <tr>\n",
       "      <th>1</th>\n",
       "      <td>1/5/21</td>\n",
       "      <td>128.889999</td>\n",
       "      <td>131.740005</td>\n",
       "      <td>128.429993</td>\n",
       "      <td>131.009995</td>\n",
       "      <td>0.012364</td>\n",
       "      <td>97664900</td>\n",
       "    </tr>\n",
       "    <tr>\n",
       "      <th>2</th>\n",
       "      <td>1/6/21</td>\n",
       "      <td>127.720001</td>\n",
       "      <td>131.050003</td>\n",
       "      <td>126.379997</td>\n",
       "      <td>126.599998</td>\n",
       "      <td>-0.033662</td>\n",
       "      <td>155088000</td>\n",
       "    </tr>\n",
       "    <tr>\n",
       "      <th>3</th>\n",
       "      <td>1/7/21</td>\n",
       "      <td>128.360001</td>\n",
       "      <td>131.630005</td>\n",
       "      <td>127.860001</td>\n",
       "      <td>130.919998</td>\n",
       "      <td>0.034123</td>\n",
       "      <td>109578200</td>\n",
       "    </tr>\n",
       "    <tr>\n",
       "      <th>4</th>\n",
       "      <td>1/8/21</td>\n",
       "      <td>132.429993</td>\n",
       "      <td>132.630005</td>\n",
       "      <td>130.229996</td>\n",
       "      <td>132.050003</td>\n",
       "      <td>0.008631</td>\n",
       "      <td>105158200</td>\n",
       "    </tr>\n",
       "    <tr>\n",
       "      <th>5</th>\n",
       "      <td>1/11/21</td>\n",
       "      <td>129.190002</td>\n",
       "      <td>130.169998</td>\n",
       "      <td>128.500000</td>\n",
       "      <td>128.979996</td>\n",
       "      <td>-0.023249</td>\n",
       "      <td>100384500</td>\n",
       "    </tr>\n",
       "  </tbody>\n",
       "</table>\n",
       "</div>"
      ],
      "text/plain": [
       "      Date        Open        High         Low       Close  Adj Close  \\\n",
       "1   1/5/21  128.889999  131.740005  128.429993  131.009995   0.012364   \n",
       "2   1/6/21  127.720001  131.050003  126.379997  126.599998  -0.033662   \n",
       "3   1/7/21  128.360001  131.630005  127.860001  130.919998   0.034123   \n",
       "4   1/8/21  132.429993  132.630005  130.229996  132.050003   0.008631   \n",
       "5  1/11/21  129.190002  130.169998  128.500000  128.979996  -0.023249   \n",
       "\n",
       "      Volume  \n",
       "1   97664900  \n",
       "2  155088000  \n",
       "3  109578200  \n",
       "4  105158200  \n",
       "5  100384500  "
      ]
     },
     "execution_count": 12,
     "metadata": {},
     "output_type": "execute_result"
    }
   ],
   "source": [
    "# Make X and Y Data Sets\n",
    "\n",
    "\n",
    "# Read the file in dataframe\n",
    " \n",
    " # Dataset is now stored in a Pandas Dataframe\n",
    " # url_gh is the code to read the csv file from git hub \n",
    " # AAPL_gh_df is to define the dataframe that holds the csv file\n",
    "\n",
    "url_gh = 'https://raw.githubusercontent.com/KaliPatternbraker/Project_2_Team_3/main/aapl_stock_price_Jan_01_2021_to_April_7_2022.csv'\n",
    "AAPL_df = pd.read_csv(url_gh)\n",
    "\n",
    "# Full file_path name = './Users/kalyana/Desktop/Project_2_Team_3/Project_2_Team_3/aapl_stock_price_Jan_01_2021_to_April_7_2022.csv\n",
    "# This is path name of csv file: Project_2_Team_3/aapl_stock_price_Jan_01_2021_to_April_7_2022.csv\n",
    "\n",
    "#file_path = './aapl_stock_price_Jan_01_2021_to_April_7_2022.csv'\n",
    "\n",
    "#commenting out the code below because it worked n jupyter lab but not in Google Colab\n",
    "#AAPL_df = pd.read_csv(Path(file_path),index_col='Date', parse_dates=True, infer_datetime_format=True)\n",
    "\n",
    "AAPL_df['Adj Close'] = AAPL_df['Close'].pct_change()\n",
    "\n",
    "AAPL_df = AAPL_df.dropna()\n",
    "\n",
    "AAPL_df.head()\n",
    "\n"
   ]
  },
  {
   "cell_type": "code",
   "execution_count": 13,
   "id": "TppWb_81fGQ3",
   "metadata": {
    "colab": {
     "base_uri": "https://localhost:8080/",
     "height": 300
    },
    "id": "TppWb_81fGQ3",
    "outputId": "fb834224-a36d-4de5-8d98-c7d80798c72d"
   },
   "outputs": [
    {
     "data": {
      "text/plain": [
       "Text(0.5, 1.0, 'Apple Open & Close, High & Low')"
      ]
     },
     "execution_count": 13,
     "metadata": {},
     "output_type": "execute_result"
    },
    {
     "data": {
      "image/png": "[encoded data removed]",
      "text/plain": [
       "<Figure size 432x288 with 1 Axes>"
      ]
     },
     "metadata": {
      "needs_background": "light"
     },
     "output_type": "display_data"
    }
   ],
   "source": [
    "ax = AAPL_df[['Open','High','Low','Close']].plot()\n",
    "ax.set_title('Apple Open & Close, High & Low')"
   ]
  },
  {
   "cell_type": "code",
   "execution_count": 14,
   "id": "JaCERAk8fGKG",
   "metadata": {
    "colab": {
     "base_uri": "https://localhost:8080/",
     "height": 300
    },
    "id": "JaCERAk8fGKG",
    "outputId": "0a3dd176-3bc0-47de-a0cf-f4ef040bce8e"
   },
   "outputs": [
    {
     "data": {
      "text/plain": [
       "Text(0.5, 1.0, 'Apple Adjusted Close')"
      ]
     },
     "execution_count": 14,
     "metadata": {},
     "output_type": "execute_result"
    },
    {
     "data": {
      "image/png": "[encoded data removed]",
      "text/plain": [
       "<Figure size 432x288 with 1 Axes>"
      ]
     },
     "metadata": {
      "needs_background": "light"
     },
     "output_type": "display_data"
    }
   ],
   "source": [
    "ax = AAPL_df[['Adj Close']].plot()\n",
    "ax.set_title('Apple Adjusted Close')"
   ]
  },
  {
   "cell_type": "code",
   "execution_count": 15,
   "id": "D8pbAWW2fGF9",
   "metadata": {
    "colab": {
     "base_uri": "https://localhost:8080/",
     "height": 300
    },
    "id": "D8pbAWW2fGF9",
    "outputId": "76022f4e-4b90-4fb2-e0f8-2cba8696ae6b"
   },
   "outputs": [
    {
     "data": {
      "text/plain": [
       "Text(0.5, 1.0, 'Apple Volume')"
      ]
     },
     "execution_count": 15,
     "metadata": {},
     "output_type": "execute_result"
    },
    {
     "data": {
      "image/png": "[encoded data removed]",
      "text/plain": [
       "<Figure size 432x288 with 1 Axes>"
      ]
     },
     "metadata": {
      "needs_background": "light"
     },
     "output_type": "display_data"
    }
   ],
   "source": [
    "ax = AAPL_df[['Volume']].plot()\n",
    "ax.set_title('Apple Volume')"
   ]
  },
  {
   "cell_type": "code",
   "execution_count": 16,
   "id": "WArX2vmxfF8m",
   "metadata": {
    "colab": {
     "base_uri": "https://localhost:8080/",
     "height": 520
    },
    "id": "WArX2vmxfF8m",
    "outputId": "ac3a9cf9-5d5b-48c5-e90a-86363682a827"
   },
   "outputs": [
    {
     "data": {
      "text/plain": [
       "<AxesSubplot:>"
      ]
     },
     "execution_count": 16,
     "metadata": {},
     "output_type": "execute_result"
    },
    {
     "data": {
      "image/png": "[encoded data removed]",
      "text/plain": [
       "<Figure size 432x288 with 1 Axes>"
      ]
     },
     "metadata": {
      "needs_background": "light"
     },
     "output_type": "display_data"
    }
   ],
   "source": [
    "import hvplot.pandas\n",
    "\n",
    "AAPL_df.hvplot.line()\n",
    "AAPL_df[\"trade_type\"]=np.nan\n",
    "previous_price=0\n",
    "\n",
    "for index,row in AAPL_df.iterrows():\n",
    "    if previous_price==0:\n",
    "        AAPL_df.loc[index,\"trade_type\"]=\"buy\"\n",
    "        \n",
    "    elif row[\"Close\"] < previous_price:\n",
    "            AAPL_df.loc[index,\"trade_type\"]=\"buy\"\n",
    "    \n",
    "\n",
    "    elif row[\"Close\"] > (1.005*previous_price):\n",
    "            AAPL_df.loc[index,\"trade_type\"]=\"sell\"\n",
    "    else:\n",
    "         AAPL_df.loc[index, \"trade_type\"] = \"hold\"\n",
    "            \n",
    "previous_price=row[\"Close\"]\n",
    "\n",
    "if index == AAPL_df.index[-1]:\n",
    "    AAPL_df.loc[index, \"trade_type\"] = \"sell\"\n",
    "\n",
    "AAPL_df.plot()\n",
    "\n"
   ]
  },
  {
   "cell_type": "code",
   "execution_count": null,
   "id": "b12f5bc0-1b9d-495f-bc94-1fed54bff061",
   "metadata": {},
   "outputs": [],
   "source": []
  },
  {
   "cell_type": "code",
   "execution_count": 17,
   "id": "P43zwV8OjU4j",
   "metadata": {
    "id": "P43zwV8OjU4j"
   },
   "outputs": [],
   "source": [
    "AAPL_df[\"cost/proceeds\"]=np.nan\n",
    "share_size = 1\n",
    "accumulated_shares = 0\n",
    "\n",
    "for index, row in AAPL_df.iterrows():\n",
    "\n",
    "    # buy if the previous_price is 0, in other words, buy on the first day\n",
    "    if previous_price == 0:\n",
    "        AAPL_df.loc[index, \"trade_type\"] = \"buy\"\n",
    "\n",
    "        # calculate the cost of the trade by multiplying the current day's price\n",
    "        # by the share_size, or number of shares purchased\n",
    "        AAPL_df.loc[index, \"cost/proceeds\"] = -(row[\"Close\"] * share_size)\n",
    "\n",
    "        # add the number of shares purchased to the accumulated shares\n",
    "        accumulated_shares += share_size\n",
    "\n",
    "    # buy if the current day's price is less than the previous day's price\n",
    "    elif row[\"Close\"] < previous_price:\n",
    "        AAPL_df.loc[index, \"trade_type\"] = \"buy\"\n",
    "\n",
    "        # calculate the cost of the trade by multiplying the current day's price\n",
    "        # by the share_size, or number of shares purchased\n",
    "        AAPL_df.loc[index, \"cost/proceeds\"] = -(row[\"Close\"] * share_size)\n",
    "\n",
    "        # add the number of shares purchased to the accumulated shares\n",
    "        accumulated_shares += share_size\n",
    "    elif row[\"Close\"] > (1.005*previous_price):\n",
    "        AAPL_df.loc[index, \"trade_type\"] = \"sell\""
   ]
  },
  {
   "cell_type": "code",
   "execution_count": 18,
   "id": "im4MSAYvjhMz",
   "metadata": {
    "colab": {
     "base_uri": "https://localhost:8080/",
     "height": 423
    },
    "id": "im4MSAYvjhMz",
    "outputId": "1cefa274-b2e1-49d7-9014-bf6384fb044c"
   },
   "outputs": [
    {
     "data": {
      "text/html": [
       "<div>\n",
       "<style scoped>\n",
       "    .dataframe tbody tr th:only-of-type {\n",
       "        vertical-align: middle;\n",
       "    }\n",
       "\n",
       "    .dataframe tbody tr th {\n",
       "        vertical-align: top;\n",
       "    }\n",
       "\n",
       "    .dataframe thead th {\n",
       "        text-align: right;\n",
       "    }\n",
       "</style>\n",
       "<table border=\"1\" class=\"dataframe\">\n",
       "  <thead>\n",
       "    <tr style=\"text-align: right;\">\n",
       "      <th></th>\n",
       "      <th>Date</th>\n",
       "      <th>Open</th>\n",
       "      <th>High</th>\n",
       "      <th>Low</th>\n",
       "      <th>Close</th>\n",
       "      <th>Adj Close</th>\n",
       "      <th>Volume</th>\n",
       "      <th>trade_type</th>\n",
       "      <th>cost/proceeds</th>\n",
       "      <th>accumulated_shares</th>\n",
       "    </tr>\n",
       "  </thead>\n",
       "  <tbody>\n",
       "    <tr>\n",
       "      <th>1</th>\n",
       "      <td>1/5/21</td>\n",
       "      <td>128.889999</td>\n",
       "      <td>131.740005</td>\n",
       "      <td>128.429993</td>\n",
       "      <td>131.009995</td>\n",
       "      <td>0.012364</td>\n",
       "      <td>97664900</td>\n",
       "      <td>buy</td>\n",
       "      <td>-131.009995</td>\n",
       "      <td>1.0</td>\n",
       "    </tr>\n",
       "    <tr>\n",
       "      <th>2</th>\n",
       "      <td>1/6/21</td>\n",
       "      <td>127.720001</td>\n",
       "      <td>131.050003</td>\n",
       "      <td>126.379997</td>\n",
       "      <td>126.599998</td>\n",
       "      <td>-0.033662</td>\n",
       "      <td>155088000</td>\n",
       "      <td>buy</td>\n",
       "      <td>-126.599998</td>\n",
       "      <td>2.0</td>\n",
       "    </tr>\n",
       "    <tr>\n",
       "      <th>3</th>\n",
       "      <td>1/7/21</td>\n",
       "      <td>128.360001</td>\n",
       "      <td>131.630005</td>\n",
       "      <td>127.860001</td>\n",
       "      <td>130.919998</td>\n",
       "      <td>0.034123</td>\n",
       "      <td>109578200</td>\n",
       "      <td>sell</td>\n",
       "      <td>261.839996</td>\n",
       "      <td>0.0</td>\n",
       "    </tr>\n",
       "    <tr>\n",
       "      <th>4</th>\n",
       "      <td>1/8/21</td>\n",
       "      <td>132.429993</td>\n",
       "      <td>132.630005</td>\n",
       "      <td>130.229996</td>\n",
       "      <td>132.050003</td>\n",
       "      <td>0.008631</td>\n",
       "      <td>105158200</td>\n",
       "      <td>hold</td>\n",
       "      <td>NaN</td>\n",
       "      <td>0.0</td>\n",
       "    </tr>\n",
       "    <tr>\n",
       "      <th>5</th>\n",
       "      <td>1/11/21</td>\n",
       "      <td>129.190002</td>\n",
       "      <td>130.169998</td>\n",
       "      <td>128.500000</td>\n",
       "      <td>128.979996</td>\n",
       "      <td>-0.023249</td>\n",
       "      <td>100384500</td>\n",
       "      <td>buy</td>\n",
       "      <td>-128.979996</td>\n",
       "      <td>1.0</td>\n",
       "    </tr>\n",
       "    <tr>\n",
       "      <th>...</th>\n",
       "      <td>...</td>\n",
       "      <td>...</td>\n",
       "      <td>...</td>\n",
       "      <td>...</td>\n",
       "      <td>...</td>\n",
       "      <td>...</td>\n",
       "      <td>...</td>\n",
       "      <td>...</td>\n",
       "      <td>...</td>\n",
       "      <td>...</td>\n",
       "    </tr>\n",
       "    <tr>\n",
       "      <th>314</th>\n",
       "      <td>4/1/22</td>\n",
       "      <td>174.029999</td>\n",
       "      <td>174.880005</td>\n",
       "      <td>171.940002</td>\n",
       "      <td>174.309998</td>\n",
       "      <td>-0.001718</td>\n",
       "      <td>78699800</td>\n",
       "      <td>hold</td>\n",
       "      <td>NaN</td>\n",
       "      <td>0.0</td>\n",
       "    </tr>\n",
       "    <tr>\n",
       "      <th>315</th>\n",
       "      <td>4/4/22</td>\n",
       "      <td>174.570007</td>\n",
       "      <td>178.490005</td>\n",
       "      <td>174.440002</td>\n",
       "      <td>178.440002</td>\n",
       "      <td>0.023693</td>\n",
       "      <td>76468400</td>\n",
       "      <td>sell</td>\n",
       "      <td>0.000000</td>\n",
       "      <td>0.0</td>\n",
       "    </tr>\n",
       "    <tr>\n",
       "      <th>316</th>\n",
       "      <td>4/5/22</td>\n",
       "      <td>177.500000</td>\n",
       "      <td>178.300003</td>\n",
       "      <td>174.419998</td>\n",
       "      <td>175.059998</td>\n",
       "      <td>-0.018942</td>\n",
       "      <td>73401800</td>\n",
       "      <td>hold</td>\n",
       "      <td>NaN</td>\n",
       "      <td>0.0</td>\n",
       "    </tr>\n",
       "    <tr>\n",
       "      <th>317</th>\n",
       "      <td>4/6/22</td>\n",
       "      <td>172.360001</td>\n",
       "      <td>173.630005</td>\n",
       "      <td>170.130005</td>\n",
       "      <td>171.830002</td>\n",
       "      <td>-0.018451</td>\n",
       "      <td>89058800</td>\n",
       "      <td>hold</td>\n",
       "      <td>NaN</td>\n",
       "      <td>0.0</td>\n",
       "    </tr>\n",
       "    <tr>\n",
       "      <th>318</th>\n",
       "      <td>4/7/22</td>\n",
       "      <td>171.160004</td>\n",
       "      <td>173.360001</td>\n",
       "      <td>169.850006</td>\n",
       "      <td>172.139999</td>\n",
       "      <td>0.001804</td>\n",
       "      <td>77594700</td>\n",
       "      <td>sell</td>\n",
       "      <td>0.000000</td>\n",
       "      <td>0.0</td>\n",
       "    </tr>\n",
       "  </tbody>\n",
       "</table>\n",
       "<p>318 rows × 10 columns</p>\n",
       "</div>"
      ],
      "text/plain": [
       "        Date        Open        High         Low       Close  Adj Close  \\\n",
       "1     1/5/21  128.889999  131.740005  128.429993  131.009995   0.012364   \n",
       "2     1/6/21  127.720001  131.050003  126.379997  126.599998  -0.033662   \n",
       "3     1/7/21  128.360001  131.630005  127.860001  130.919998   0.034123   \n",
       "4     1/8/21  132.429993  132.630005  130.229996  132.050003   0.008631   \n",
       "5    1/11/21  129.190002  130.169998  128.500000  128.979996  -0.023249   \n",
       "..       ...         ...         ...         ...         ...        ...   \n",
       "314   4/1/22  174.029999  174.880005  171.940002  174.309998  -0.001718   \n",
       "315   4/4/22  174.570007  178.490005  174.440002  178.440002   0.023693   \n",
       "316   4/5/22  177.500000  178.300003  174.419998  175.059998  -0.018942   \n",
       "317   4/6/22  172.360001  173.630005  170.130005  171.830002  -0.018451   \n",
       "318   4/7/22  171.160004  173.360001  169.850006  172.139999   0.001804   \n",
       "\n",
       "        Volume trade_type  cost/proceeds  accumulated_shares  \n",
       "1     97664900        buy    -131.009995                 1.0  \n",
       "2    155088000        buy    -126.599998                 2.0  \n",
       "3    109578200       sell     261.839996                 0.0  \n",
       "4    105158200       hold            NaN                 0.0  \n",
       "5    100384500        buy    -128.979996                 1.0  \n",
       "..         ...        ...            ...                 ...  \n",
       "314   78699800       hold            NaN                 0.0  \n",
       "315   76468400       sell       0.000000                 0.0  \n",
       "316   73401800       hold            NaN                 0.0  \n",
       "317   89058800       hold            NaN                 0.0  \n",
       "318   77594700       sell       0.000000                 0.0  \n",
       "\n",
       "[318 rows x 10 columns]"
      ]
     },
     "execution_count": 18,
     "metadata": {},
     "output_type": "execute_result"
    }
   ],
   "source": [
    "if index == AAPL_df.index[-1]:\n",
    "    AAPL_df.loc[index, \"trade_type\"] = \"sell\"\n",
    "\n",
    "#Initialize trade_type column to track buys and sells\n",
    "AAPL_df[\"trade_type\"] = np.nan\n",
    "\n",
    "# Initialize a cost/proceeds column for recording trade metrics\n",
    "AAPL_df[\"cost/proceeds\"] = np.nan\n",
    "AAPL_df[\"accumulated_shares\"] = np.nan\n",
    "# Initialize share size and accumulated shares\n",
    "share_size = 1\n",
    "accumulated_shares = 0\n",
    "\n",
    "# Initialize variable to hold previous price\n",
    "previous_price = 0\n",
    "\n",
    "# Loop through the Pandas DataFrame and initiate a trade at each iteration\n",
    "for index, row in AAPL_df.iterrows():\n",
    "\n",
    "    # buy if the previous_price is 0, in other words, buy on the first day\n",
    "    if previous_price == 0:\n",
    "        AAPL_df.loc[index, \"trade_type\"] = \"buy\"\n",
    "\n",
    "        # calculate the cost of the trade by multiplying the current day's price\n",
    "        # by the share_size, or number of shares purchased\n",
    "        AAPL_df.loc[index, \"cost/proceeds\"] = -(row[\"Close\"] * share_size)\n",
    "\n",
    "        # add the number of shares purchased to the accumulated shares\n",
    "        accumulated_shares += share_size\n",
    "        AAPL_df.loc[index, \"accumulated_shares\"] = accumulated_shares\n",
    "    # buy if the current day's price is less than the previous day's price\n",
    "    elif row[\"Close\"] < 0.98*previous_price:\n",
    "        AAPL_df.loc[index, \"trade_type\"] = \"buy\"\n",
    "\n",
    "        # calculate the cost of the trade by multiplying the current day's price\n",
    "        # by the share_size, or number of shares purchased\n",
    "        AAPL_df.loc[index, \"cost/proceeds\"] = -(row[\"Close\"] * share_size)\n",
    "\n",
    "        # add the number of shares purchased to the accumulated shares\n",
    "        accumulated_shares += share_size\n",
    "        AAPL_df.loc[index, \"accumulated_shares\"] = accumulated_shares\n",
    "    # hold if the current day's price is greater than the previous day's price\n",
    "    elif row[\"Close\"] > 1.02*previous_price:\n",
    "        AAPL_df.loc[index, \"trade_type\"] = \"sell\"\n",
    "        AAPL_df.loc[index, \"cost/proceeds\"] = (row[\"Close\"] * accumulated_shares)\n",
    "        accumulated_shares=0\n",
    "        AAPL_df.loc[index, \"accumulated_shares\"] = accumulated_shares\n",
    "        \n",
    "    # hold if the current day's price is equal to the previous day's price\n",
    "    else:\n",
    "        AAPL_df.loc[index, \"trade_type\"] = \"hold\"\n",
    "        AAPL_df.loc[index, \"accumulated_shares\"] = accumulated_shares\n",
    "    # update the previous_price to the current row's price\n",
    "    previous_price = row[\"Close\"]\n",
    "\n",
    "    # if the index is the last index of the DataFrame, sell\n",
    "    if index == AAPL_df.index[-1]:\n",
    "        AAPL_df.loc[index, \"trade_type\"] = \"sell\"\n",
    "\n",
    "        # calculate the proceeds by multiplying the last day's price by the accumulated shares\n",
    "        AAPL_df.loc[index, \"cost/proceeds\"] = row[\"Close\"] * accumulated_shares\n",
    "        AAPL_df.loc[index, \"accumulated_shares\"] = accumulated_shares\n",
    "# Review the DataFrame\n",
    "AAPL_df"
   ]
  },
  {
   "cell_type": "code",
   "execution_count": 19,
   "id": "arwGyUkLkHKO",
   "metadata": {
    "colab": {
     "base_uri": "https://localhost:8080/"
    },
    "id": "arwGyUkLkHKO",
    "outputId": "dbb12699-99c2-4f8f-e0b9-7de512798191"
   },
   "outputs": [
    {
     "name": "stdout",
     "output_type": "stream",
     "text": [
      "The total profit/loss of the trading strategy is $69.8.\n"
     ]
    }
   ],
   "source": [
    "total_profit_loss = round(AAPL_df[\"cost/proceeds\"].sum(),2)\n",
    "print(f\"The total profit/loss of the trading strategy is ${total_profit_loss}.\")"
   ]
  },
  {
   "cell_type": "code",
   "execution_count": 20,
   "id": "5zAnOmockPEm",
   "metadata": {
    "colab": {
     "base_uri": "https://localhost:8080/"
    },
    "id": "5zAnOmockPEm",
    "outputId": "f44ef009-2856-4d92-a09c-88076c5f72c0"
   },
   "outputs": [
    {
     "name": "stdout",
     "output_type": "stream",
     "text": [
      "The trading algorithm resulted in a return on investment of 1.46%\n"
     ]
    }
   ],
   "source": [
    "invested_capital = 0\n",
    "\n",
    "# Calculate the invested capital by adding the cost of all buy trades\n",
    "for index, row in AAPL_df.iterrows():\n",
    "    if row[\"trade_type\"] == \"buy\":\n",
    "        invested_capital = invested_capital + row[\"cost/proceeds\"]\n",
    "\n",
    "\n",
    "# Calculate the return on investment (ROI)\n",
    "roi = round((total_profit_loss / -(invested_capital)) * 100, 2)\n",
    "\n",
    "# Print the ROI\n",
    "print(f\"The trading algorithm resulted in a return on investment of {roi}%\")"
   ]
  },
  {
   "cell_type": "code",
   "execution_count": 21,
   "id": "nQm2xE6ikSNB",
   "metadata": {
    "colab": {
     "base_uri": "https://localhost:8080/",
     "height": 423
    },
    "id": "nQm2xE6ikSNB",
    "outputId": "76b9fa55-7658-4f86-b826-f44ea43b23fb"
   },
   "outputs": [
    {
     "data": {
      "text/html": [
       "<div>\n",
       "<style scoped>\n",
       "    .dataframe tbody tr th:only-of-type {\n",
       "        vertical-align: middle;\n",
       "    }\n",
       "\n",
       "    .dataframe tbody tr th {\n",
       "        vertical-align: top;\n",
       "    }\n",
       "\n",
       "    .dataframe thead th {\n",
       "        text-align: right;\n",
       "    }\n",
       "</style>\n",
       "<table border=\"1\" class=\"dataframe\">\n",
       "  <thead>\n",
       "    <tr style=\"text-align: right;\">\n",
       "      <th></th>\n",
       "      <th>Close</th>\n",
       "      <th>SMA50</th>\n",
       "      <th>SMA100</th>\n",
       "      <th>Signal</th>\n",
       "    </tr>\n",
       "  </thead>\n",
       "  <tbody>\n",
       "    <tr>\n",
       "      <th>1</th>\n",
       "      <td>131.009995</td>\n",
       "      <td>NaN</td>\n",
       "      <td>NaN</td>\n",
       "      <td>0.0</td>\n",
       "    </tr>\n",
       "    <tr>\n",
       "      <th>2</th>\n",
       "      <td>126.599998</td>\n",
       "      <td>NaN</td>\n",
       "      <td>NaN</td>\n",
       "      <td>0.0</td>\n",
       "    </tr>\n",
       "    <tr>\n",
       "      <th>3</th>\n",
       "      <td>130.919998</td>\n",
       "      <td>NaN</td>\n",
       "      <td>NaN</td>\n",
       "      <td>0.0</td>\n",
       "    </tr>\n",
       "    <tr>\n",
       "      <th>4</th>\n",
       "      <td>132.050003</td>\n",
       "      <td>NaN</td>\n",
       "      <td>NaN</td>\n",
       "      <td>0.0</td>\n",
       "    </tr>\n",
       "    <tr>\n",
       "      <th>5</th>\n",
       "      <td>128.979996</td>\n",
       "      <td>NaN</td>\n",
       "      <td>NaN</td>\n",
       "      <td>0.0</td>\n",
       "    </tr>\n",
       "    <tr>\n",
       "      <th>...</th>\n",
       "      <td>...</td>\n",
       "      <td>...</td>\n",
       "      <td>...</td>\n",
       "      <td>...</td>\n",
       "    </tr>\n",
       "    <tr>\n",
       "      <th>314</th>\n",
       "      <td>174.309998</td>\n",
       "      <td>167.021001</td>\n",
       "      <td>167.548300</td>\n",
       "      <td>0.0</td>\n",
       "    </tr>\n",
       "    <tr>\n",
       "      <th>315</th>\n",
       "      <td>178.440002</td>\n",
       "      <td>167.341601</td>\n",
       "      <td>167.824600</td>\n",
       "      <td>0.0</td>\n",
       "    </tr>\n",
       "    <tr>\n",
       "      <th>316</th>\n",
       "      <td>175.059998</td>\n",
       "      <td>167.610401</td>\n",
       "      <td>168.096000</td>\n",
       "      <td>0.0</td>\n",
       "    </tr>\n",
       "    <tr>\n",
       "      <th>317</th>\n",
       "      <td>171.830002</td>\n",
       "      <td>167.851401</td>\n",
       "      <td>168.335601</td>\n",
       "      <td>0.0</td>\n",
       "    </tr>\n",
       "    <tr>\n",
       "      <th>318</th>\n",
       "      <td>172.139999</td>\n",
       "      <td>168.100401</td>\n",
       "      <td>168.557100</td>\n",
       "      <td>0.0</td>\n",
       "    </tr>\n",
       "  </tbody>\n",
       "</table>\n",
       "<p>318 rows × 4 columns</p>\n",
       "</div>"
      ],
      "text/plain": [
       "          Close       SMA50      SMA100  Signal\n",
       "1    131.009995         NaN         NaN     0.0\n",
       "2    126.599998         NaN         NaN     0.0\n",
       "3    130.919998         NaN         NaN     0.0\n",
       "4    132.050003         NaN         NaN     0.0\n",
       "5    128.979996         NaN         NaN     0.0\n",
       "..          ...         ...         ...     ...\n",
       "314  174.309998  167.021001  167.548300     0.0\n",
       "315  178.440002  167.341601  167.824600     0.0\n",
       "316  175.059998  167.610401  168.096000     0.0\n",
       "317  171.830002  167.851401  168.335601     0.0\n",
       "318  172.139999  168.100401  168.557100     0.0\n",
       "\n",
       "[318 rows x 4 columns]"
      ]
     },
     "execution_count": 21,
     "metadata": {},
     "output_type": "execute_result"
    }
   ],
   "source": [
    "signals_df = AAPL_df.loc[:,[\"Close\"]]\n",
    "\n",
    "short_window = 50\n",
    "long_window = 100\n",
    "\n",
    "signals_df['SMA50'] = signals_df['Close'].rolling(window=short_window).mean()\n",
    "signals_df['SMA100'] = signals_df['Close'].rolling(window=long_window).mean()\n",
    "signals_df['Signal'] = 0.0\n",
    "signals_df"
   ]
  },
  {
   "cell_type": "code",
   "execution_count": 22,
   "id": "HCVhIyDFklm3",
   "metadata": {
    "id": "HCVhIyDFklm3"
   },
   "outputs": [],
   "source": [
    "signals_df['Signal'][short_window:] = np.where(\n",
    "    signals_df['SMA50'][short_window:] > signals_df['SMA100'][short_window:], 1.0, 0.0\n",
    ")\n",
    "signals_df['Entry/Exit'] = signals_df['Signal'].diff()\n"
   ]
  },
  {
   "cell_type": "code",
   "execution_count": 23,
   "id": "Nzv4P6ioko-g",
   "metadata": {
    "colab": {
     "base_uri": "https://localhost:8080/",
     "height": 17
    },
    "id": "Nzv4P6ioko-g",
    "outputId": "345cff25-de66-49af-df29-7ebea4b9f094"
   },
   "outputs": [
    {
     "data": {},
     "metadata": {},
     "output_type": "display_data"
    },
    {
     "data": {
      "application/vnd.holoviews_exec.v0+json": "",
      "text/html": [
       "<div id='1002'>\n",
       "\n",
       "\n",
       "\n",
       "\n",
       "\n",
       "  <div class=\"bk-root\" id=\"6a802a70-5110-4732-b246-8d6599f0f80b\" data-root-id=\"1002\"></div>\n",
       "</div>\n",
       "<script type=\"application/javascript\">(function(root) {\n",
       "  function embed_document(root) {\n",
       "    var docs_json = {\"6b2765d3-5f5c-477c-83f9-03fa5a6982dd\":{\"defs\":[{\"extends\":null,\"module\":null,\"name\":\"ReactiveHTML1\",\"overrides\":[],\"properties\":[]},{\"extends\":null,\"module\":null,\"name\":\"FlexBox1\",\"overrides\":[],\"properties\":[{\"default\":\"flex-start\",\"kind\":null,\"name\":\"align_content\"},{\"default\":\"flex-start\",\"kind\":null,\"name\":\"align_items\"},{\"default\":\"row\",\"kind\":null,\"name\":\"flex_direction\"},{\"default\":\"wrap\",\"kind\":null,\"name\":\"flex_wrap\"},{\"default\":\"flex-start\",\"kind\":null,\"name\":\"justify_content\"}]},{\"extends\":null,\"module\":null,\"name\":\"TemplateActions1\",\"overrides\":[],\"properties\":[{\"default\":0,\"kind\":null,\"name\":\"open_modal\"},{\"default\":0,\"kind\":null,\"name\":\"close_modal\"}]},{\"extends\":null,\"module\":null,\"name\":\"MaterialTemplateActions1\",\"overrides\":[],\"properties\":[{\"default\":0,\"kind\":null,\"name\":\"open_modal\"},{\"default\":0,\"kind\":null,\"name\":\"close_modal\"}]}],\"roots\":{\"references\":[{\"attributes\":{\"source\":{\"id\":\"1211\"}},\"id\":\"1218\",\"type\":\"CDSView\"},{\"attributes\":{},\"id\":\"1016\",\"type\":\"LinearScale\"},{\"attributes\":{\"below\":[{\"id\":\"1020\"}],\"center\":[{\"id\":\"1023\"},{\"id\":\"1027\"}],\"height\":400,\"left\":[{\"id\":\"1024\"}],\"margin\":[5,5,5,5],\"min_border_bottom\":10,\"min_border_left\":10,\"min_border_right\":10,\"min_border_top\":10,\"renderers\":[{\"id\":\"1054\"},{\"id\":\"1063\"},{\"id\":\"1086\"},{\"id\":\"1208\"},{\"id\":\"1217\"}],\"right\":[{\"id\":\"1077\"}],\"sizing_mode\":\"fixed\",\"title\":{\"id\":\"1012\"},\"toolbar\":{\"id\":\"1034\"},\"width\":1000,\"x_range\":{\"id\":\"1004\"},\"x_scale\":{\"id\":\"1016\"},\"y_range\":{\"id\":\"1005\"},\"y_scale\":{\"id\":\"1018\"}},\"id\":\"1011\",\"subtype\":\"Figure\",\"type\":\"Plot\"},{\"attributes\":{\"line_alpha\":0.1,\"line_color\":\"#fc4f30\",\"line_width\":2,\"x\":{\"field\":\"index\"},\"y\":{\"field\":\"value\"}},\"id\":\"1061\",\"type\":\"Line\"},{\"attributes\":{},\"id\":\"1047\",\"type\":\"AllLabels\"},{\"attributes\":{\"angle\":{\"value\":3.141592653589793},\"fill_alpha\":{\"value\":1.0},\"fill_color\":{\"value\":\"yellow\"},\"hatch_alpha\":{\"value\":1.0},\"hatch_color\":{\"value\":\"yellow\"},\"hatch_scale\":{\"value\":12.0},\"hatch_weight\":{\"value\":1.0},\"line_alpha\":{\"value\":1.0},\"line_cap\":{\"value\":\"butt\"},\"line_color\":{\"value\":\"yellow\"},\"line_dash\":{\"value\":[]},\"line_dash_offset\":{\"value\":0},\"line_join\":{\"value\":\"bevel\"},\"line_width\":{\"value\":1},\"marker\":{\"value\":\"triangle\"},\"size\":{\"value\":14.142135623730951},\"x\":{\"field\":\"index\"},\"y\":{\"field\":\"Close\"}},\"id\":\"1219\",\"type\":\"Scatter\"},{\"attributes\":{},\"id\":\"1018\",\"type\":\"LinearScale\"},{\"attributes\":{\"coordinates\":null,\"data_source\":{\"id\":\"1048\"},\"glyph\":{\"id\":\"1051\"},\"group\":null,\"hover_glyph\":null,\"muted_glyph\":{\"id\":\"1053\"},\"nonselection_glyph\":{\"id\":\"1052\"},\"selection_glyph\":{\"id\":\"1056\"},\"view\":{\"id\":\"1055\"}},\"id\":\"1054\",\"type\":\"GlyphRenderer\"},{\"attributes\":{\"angle\":{\"value\":3.141592653589793},\"fill_alpha\":{\"value\":0.2},\"fill_color\":{\"value\":\"yellow\"},\"hatch_alpha\":{\"value\":0.2},\"hatch_color\":{\"value\":\"yellow\"},\"line_alpha\":{\"value\":0.2},\"line_color\":{\"value\":\"yellow\"},\"marker\":{\"value\":\"triangle\"},\"size\":{\"value\":14.142135623730951},\"x\":{\"field\":\"index\"},\"y\":{\"field\":\"Close\"}},\"id\":\"1216\",\"type\":\"Scatter\"},{\"attributes\":{},\"id\":\"1025\",\"type\":\"BasicTicker\"},{\"attributes\":{},\"id\":\"1021\",\"type\":\"BasicTicker\"},{\"attributes\":{\"coordinates\":null,\"group\":null,\"text\":\"Apple - SMA50, SMA100, Entry and Exit Points\",\"text_color\":\"black\",\"text_font_size\":\"12pt\"},\"id\":\"1012\",\"type\":\"Title\"},{\"attributes\":{},\"id\":\"1235\",\"type\":\"UnionRenderers\"},{\"attributes\":{\"callback\":null,\"renderers\":[{\"id\":\"1054\"},{\"id\":\"1208\"},{\"id\":\"1217\"}],\"tags\":[\"hv_created\"],\"tooltips\":[[\"index\",\"@{index}\"],[\"Close\",\"@{Close}\"]]},\"id\":\"1006\",\"type\":\"HoverTool\"},{\"attributes\":{},\"id\":\"1028\",\"type\":\"SaveTool\"},{\"attributes\":{},\"id\":\"1212\",\"type\":\"Selection\"},{\"attributes\":{\"line_color\":\"lightgray\",\"line_width\":2,\"x\":{\"field\":\"index\"},\"y\":{\"field\":\"Close\"}},\"id\":\"1056\",\"type\":\"Line\"},{\"attributes\":{},\"id\":\"1030\",\"type\":\"WheelZoomTool\"},{\"attributes\":{\"data\":{\"Close\":{\"__ndarray__\":\"DDz3Hq4vY0DsbMg/M/NlQA==\",\"dtype\":\"float64\",\"order\":\"little\",\"shape\":[2]},\"index\":[221,310]},\"selected\":{\"id\":\"1212\"},\"selection_policy\":{\"id\":\"1235\"}},\"id\":\"1211\",\"type\":\"ColumnDataSource\"},{\"attributes\":{\"margin\":[5,5,5,5],\"name\":\"HSpacer02273\",\"sizing_mode\":\"stretch_width\"},\"id\":\"1003\",\"type\":\"Spacer\"},{\"attributes\":{\"coordinates\":null,\"data_source\":{\"id\":\"1211\"},\"glyph\":{\"id\":\"1214\"},\"group\":null,\"hover_glyph\":null,\"muted_glyph\":{\"id\":\"1216\"},\"nonselection_glyph\":{\"id\":\"1215\"},\"selection_glyph\":{\"id\":\"1219\"},\"view\":{\"id\":\"1218\"}},\"id\":\"1217\",\"type\":\"GlyphRenderer\"},{\"attributes\":{\"source\":{\"id\":\"1057\"}},\"id\":\"1064\",\"type\":\"CDSView\"},{\"attributes\":{\"angle\":{\"value\":3.141592653589793},\"fill_alpha\":{\"value\":0.1},\"fill_color\":{\"value\":\"yellow\"},\"hatch_alpha\":{\"value\":0.1},\"hatch_color\":{\"value\":\"yellow\"},\"line_alpha\":{\"value\":0.1},\"line_color\":{\"value\":\"yellow\"},\"marker\":{\"value\":\"triangle\"},\"size\":{\"value\":14.142135623730951},\"x\":{\"field\":\"index\"},\"y\":{\"field\":\"Close\"}},\"id\":\"1215\",\"type\":\"Scatter\"},{\"attributes\":{},\"id\":\"1233\",\"type\":\"UnionRenderers\"},{\"attributes\":{\"children\":[{\"id\":\"1003\"},{\"id\":\"1011\"},{\"id\":\"1382\"}],\"margin\":[0,0,0,0],\"name\":\"Row02269\",\"tags\":[\"embedded\"]},\"id\":\"1002\",\"type\":\"Row\"},{\"attributes\":{\"axis\":{\"id\":\"1020\"},\"coordinates\":null,\"grid_line_color\":null,\"group\":null,\"ticker\":null},\"id\":\"1023\",\"type\":\"Grid\"},{\"attributes\":{\"line_color\":\"#fc4f30\",\"line_width\":2,\"x\":{\"field\":\"index\"},\"y\":{\"field\":\"value\"}},\"id\":\"1060\",\"type\":\"Line\"},{\"attributes\":{\"coordinates\":null,\"data_source\":{\"id\":\"1057\"},\"glyph\":{\"id\":\"1060\"},\"group\":null,\"hover_glyph\":null,\"muted_glyph\":{\"id\":\"1062\"},\"nonselection_glyph\":{\"id\":\"1061\"},\"selection_glyph\":{\"id\":\"1079\"},\"view\":{\"id\":\"1064\"}},\"id\":\"1063\",\"type\":\"GlyphRenderer\"},{\"attributes\":{\"angle\":{\"value\":0},\"fill_alpha\":{\"value\":1.0},\"fill_color\":{\"value\":\"purple\"},\"hatch_alpha\":{\"value\":1.0},\"hatch_color\":{\"value\":\"purple\"},\"hatch_scale\":{\"value\":12.0},\"hatch_weight\":{\"value\":1.0},\"line_alpha\":{\"value\":1.0},\"line_cap\":{\"value\":\"butt\"},\"line_color\":{\"value\":\"purple\"},\"line_dash\":{\"value\":[]},\"line_dash_offset\":{\"value\":0},\"line_join\":{\"value\":\"bevel\"},\"line_width\":{\"value\":1},\"marker\":{\"value\":\"triangle\"},\"size\":{\"value\":14.142135623730951},\"x\":{\"field\":\"index\"},\"y\":{\"field\":\"Close\"}},\"id\":\"1210\",\"type\":\"Scatter\"},{\"attributes\":{\"axis_label\":\"Price in $\",\"coordinates\":null,\"formatter\":{\"id\":\"1046\"},\"group\":null,\"major_label_policy\":{\"id\":\"1047\"},\"ticker\":{\"id\":\"1025\"}},\"id\":\"1024\",\"type\":\"LinearAxis\"},{\"attributes\":{},\"id\":\"1072\",\"type\":\"UnionRenderers\"},{\"attributes\":{\"tools\":[{\"id\":\"1006\"},{\"id\":\"1007\"},{\"id\":\"1028\"},{\"id\":\"1029\"},{\"id\":\"1030\"},{\"id\":\"1031\"},{\"id\":\"1032\"}]},\"id\":\"1034\",\"type\":\"Toolbar\"},{\"attributes\":{\"line_alpha\":0.1,\"line_color\":\"#e5ae38\",\"line_width\":2,\"x\":{\"field\":\"index\"},\"y\":{\"field\":\"value\"}},\"id\":\"1084\",\"type\":\"Line\"},{\"attributes\":{\"margin\":[5,5,5,5],\"name\":\"HSpacer02274\",\"sizing_mode\":\"stretch_width\"},\"id\":\"1382\",\"type\":\"Spacer\"},{\"attributes\":{\"fill_color\":{\"value\":\"purple\"},\"hatch_color\":{\"value\":\"purple\"},\"line_color\":{\"value\":\"purple\"},\"marker\":{\"value\":\"triangle\"},\"size\":{\"value\":14.142135623730951},\"x\":{\"field\":\"index\"},\"y\":{\"field\":\"Close\"}},\"id\":\"1205\",\"type\":\"Scatter\"},{\"attributes\":{\"data\":{\"Variable\":[\"SMA100\",\"SMA100\",\"SMA100\",\"SMA100\",\"SMA100\",\"SMA100\",\"SMA100\",\"SMA100\",\"SMA100\",\"SMA100\",\"SMA100\",\"SMA100\",\"SMA100\",\"SMA100\",\"SMA100\",\"SMA100\",\"SMA100\",\"SMA100\",\"SMA100\",\"SMA100\",\"SMA100\",\"SMA100\",\"SMA100\",\"SMA100\",\"SMA100\",\"SMA100\",\"SMA100\",\"SMA100\",\"SMA100\",\"SMA100\",\"SMA100\",\"SMA100\",\"SMA100\",\"SMA100\",\"SMA100\",\"SMA100\",\"SMA100\",\"SMA100\",\"SMA100\",\"SMA100\",\"SMA100\",\"SMA100\",\"SMA100\",\"SMA100\",\"SMA100\",\"SMA100\",\"SMA100\",\"SMA100\",\"SMA100\",\"SMA100\",\"SMA100\",\"SMA100\",\"SMA100\",\"SMA100\",\"SMA100\",\"SMA100\",\"SMA100\",\"SMA100\",\"SMA100\",\"SMA100\",\"SMA100\",\"SMA100\",\"SMA100\",\"SMA100\",\"SMA100\",\"SMA100\",\"SMA100\",\"SMA100\",\"SMA100\",\"SMA100\",\"SMA100\",\"SMA100\",\"SMA100\",\"SMA100\",\"SMA100\",\"SMA100\",\"SMA100\",\"SMA100\",\"SMA100\",\"SMA100\",\"SMA100\",\"SMA100\",\"SMA100\",\"SMA100\",\"SMA100\",\"SMA100\",\"SMA100\",\"SMA100\",\"SMA100\",\"SMA100\",\"SMA100\",\"SMA100\",\"SMA100\",\"SMA100\",\"SMA100\",\"SMA100\",\"SMA100\",\"SMA100\",\"SMA100\",\"SMA100\",\"SMA100\",\"SMA100\",\"SMA100\",\"SMA100\",\"SMA100\",\"SMA100\",\"SMA100\",\"SMA100\",\"SMA100\",\"SMA100\",\"SMA100\",\"SMA100\",\"SMA100\",\"SMA100\",\"SMA100\",\"SMA100\",\"SMA100\",\"SMA100\",\"SMA100\",\"SMA100\",\"SMA100\",\"SMA100\",\"SMA100\",\"SMA100\",\"SMA100\",\"SMA100\",\"SMA100\",\"SMA100\",\"SMA100\",\"SMA100\",\"SMA100\",\"SMA100\",\"SMA100\",\"SMA100\",\"SMA100\",\"SMA100\",\"SMA100\",\"SMA100\",\"SMA100\",\"SMA100\",\"SMA100\",\"SMA100\",\"SMA100\",\"SMA100\",\"SMA100\",\"SMA100\",\"SMA100\",\"SMA100\",\"SMA100\",\"SMA100\",\"SMA100\",\"SMA100\",\"SMA100\",\"SMA100\",\"SMA100\",\"SMA100\",\"SMA100\",\"SMA100\",\"SMA100\",\"SMA100\",\"SMA100\",\"SMA100\",\"SMA100\",\"SMA100\",\"SMA100\",\"SMA100\",\"SMA100\",\"SMA100\",\"SMA100\",\"SMA100\",\"SMA100\",\"SMA100\",\"SMA100\",\"SMA100\",\"SMA100\",\"SMA100\",\"SMA100\",\"SMA100\",\"SMA100\",\"SMA100\",\"SMA100\",\"SMA100\",\"SMA100\",\"SMA100\",\"SMA100\",\"SMA100\",\"SMA100\",\"SMA100\",\"SMA100\",\"SMA100\",\"SMA100\",\"SMA100\",\"SMA100\",\"SMA100\",\"SMA100\",\"SMA100\",\"SMA100\",\"SMA100\",\"SMA100\",\"SMA100\",\"SMA100\",\"SMA100\",\"SMA100\",\"SMA100\",\"SMA100\",\"SMA100\",\"SMA100\",\"SMA100\",\"SMA100\",\"SMA100\",\"SMA100\",\"SMA100\",\"SMA100\",\"SMA100\",\"SMA100\",\"SMA100\",\"SMA100\",\"SMA100\",\"SMA100\",\"SMA100\",\"SMA100\",\"SMA100\",\"SMA100\",\"SMA100\",\"SMA100\",\"SMA100\",\"SMA100\",\"SMA100\",\"SMA100\",\"SMA100\",\"SMA100\",\"SMA100\",\"SMA100\",\"SMA100\",\"SMA100\",\"SMA100\",\"SMA100\",\"SMA100\",\"SMA100\",\"SMA100\",\"SMA100\",\"SMA100\",\"SMA100\",\"SMA100\",\"SMA100\",\"SMA100\",\"SMA100\",\"SMA100\",\"SMA100\",\"SMA100\",\"SMA100\",\"SMA100\",\"SMA100\",\"SMA100\",\"SMA100\",\"SMA100\",\"SMA100\",\"SMA100\",\"SMA100\",\"SMA100\",\"SMA100\",\"SMA100\",\"SMA100\",\"SMA100\",\"SMA100\",\"SMA100\",\"SMA100\",\"SMA100\",\"SMA100\",\"SMA100\",\"SMA100\",\"SMA100\",\"SMA100\",\"SMA100\",\"SMA100\",\"SMA100\",\"SMA100\",\"SMA100\",\"SMA100\",\"SMA100\",\"SMA100\",\"SMA100\",\"SMA100\",\"SMA100\",\"SMA100\",\"SMA100\",\"SMA100\",\"SMA100\",\"SMA100\",\"SMA100\",\"SMA100\",\"SMA100\",\"SMA100\",\"SMA100\",\"SMA100\",\"SMA100\",\"SMA100\",\"SMA100\",\"SMA100\",\"SMA100\",\"SMA100\",\"SMA100\",\"SMA100\",\"SMA100\",\"SMA100\",\"SMA100\",\"SMA100\",\"SMA100\",\"SMA100\",\"SMA100\",\"SMA100\",\"SMA100\",\"SMA100\",\"SMA100\",\"SMA100\",\"SMA100\",\"SMA100\",\"SMA100\"],\"index\":[1,2,3,4,5,6,7,8,9,10,11,12,13,14,15,16,17,18,19,20,21,22,23,24,25,26,27,28,29,30,31,32,33,34,35,36,37,38,39,40,41,42,43,44,45,46,47,48,49,50,51,52,53,54,55,56,57,58,59,60,61,62,63,64,65,66,67,68,69,70,71,72,73,74,75,76,77,78,79,80,81,82,83,84,85,86,87,88,89,90,91,92,93,94,95,96,97,98,99,100,101,102,103,104,105,106,107,108,109,110,111,112,113,114,115,116,117,118,119,120,121,122,123,124,125,126,127,128,129,130,131,132,133,134,135,136,137,138,139,140,141,142,143,144,145,146,147,148,149,150,151,152,153,154,155,156,157,158,159,160,161,162,163,164,165,166,167,168,169,170,171,172,173,174,175,176,177,178,179,180,181,182,183,184,185,186,187,188,189,190,191,192,193,194,195,196,197,198,199,200,201,202,203,204,205,206,207,208,209,210,211,212,213,214,215,216,217,218,219,220,221,222,223,224,225,226,227,228,229,230,231,232,233,234,235,236,237,238,239,240,241,242,243,244,245,246,247,248,249,250,251,252,253,254,255,256,257,258,259,260,261,262,263,264,265,266,267,268,269,270,271,272,273,274,275,276,277,278,279,280,281,282,283,284,285,286,287,288,289,290,291,292,293,294,295,296,297,298,299,300,301,302,303,304,305,306,307,308,309,310,311,312,313,314,315,316,317,318],\"value\":{\"__ndarray__\":\"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\",\"dtype\":\"float64\",\"order\":\"little\",\"shape\":[318]}},\"selected\":{\"id\":\"1081\"},\"selection_policy\":{\"id\":\"1099\"}},\"id\":\"1080\",\"type\":\"ColumnDataSource\"},{\"attributes\":{\"coordinates\":null,\"data_source\":{\"id\":\"1080\"},\"glyph\":{\"id\":\"1083\"},\"group\":null,\"hover_glyph\":null,\"muted_glyph\":{\"id\":\"1085\"},\"nonselection_glyph\":{\"id\":\"1084\"},\"selection_glyph\":{\"id\":\"1103\"},\"view\":{\"id\":\"1087\"}},\"id\":\"1086\",\"type\":\"GlyphRenderer\"},{\"attributes\":{\"line_alpha\":0.2,\"line_color\":\"#e5ae38\",\"line_width\":2,\"x\":{\"field\":\"index\"},\"y\":{\"field\":\"value\"}},\"id\":\"1085\",\"type\":\"Line\"},{\"attributes\":{},\"id\":\"1203\",\"type\":\"Selection\"},{\"attributes\":{\"label\":{\"value\":\"SMA100\"},\"renderers\":[{\"id\":\"1086\"}]},\"id\":\"1102\",\"type\":\"LegendItem\"},{\"attributes\":{\"fill_alpha\":{\"value\":0.2},\"fill_color\":{\"value\":\"purple\"},\"hatch_alpha\":{\"value\":0.2},\"hatch_color\":{\"value\":\"purple\"},\"line_alpha\":{\"value\":0.2},\"line_color\":{\"value\":\"purple\"},\"marker\":{\"value\":\"triangle\"},\"size\":{\"value\":14.142135623730951},\"x\":{\"field\":\"index\"},\"y\":{\"field\":\"Close\"}},\"id\":\"1207\",\"type\":\"Scatter\"},{\"attributes\":{\"callback\":null,\"renderers\":[{\"id\":\"1063\"},{\"id\":\"1086\"}],\"tags\":[\"hv_created\"],\"tooltips\":[[\"Variable\",\"@{Variable}\"],[\"index\",\"@{index}\"],[\"value\",\"@{value}\"]]},\"id\":\"1007\",\"type\":\"HoverTool\"},{\"attributes\":{\"end\":318.0,\"reset_end\":318.0,\"reset_start\":1.0,\"start\":1.0,\"tags\":[[[\"index\",\"index\",null]]]},\"id\":\"1004\",\"type\":\"Range1d\"},{\"attributes\":{\"line_color\":\"#e5ae38\",\"line_width\":2,\"x\":{\"field\":\"index\"},\"y\":{\"field\":\"value\"}},\"id\":\"1103\",\"type\":\"Line\"},{\"attributes\":{\"angle\":{\"value\":3.141592653589793},\"fill_color\":{\"value\":\"yellow\"},\"hatch_color\":{\"value\":\"yellow\"},\"line_color\":{\"value\":\"yellow\"},\"marker\":{\"value\":\"triangle\"},\"size\":{\"value\":14.142135623730951},\"x\":{\"field\":\"index\"},\"y\":{\"field\":\"Close\"}},\"id\":\"1214\",\"type\":\"Scatter\"},{\"attributes\":{\"data\":{\"Variable\":[\"SMA50\",\"SMA50\",\"SMA50\",\"SMA50\",\"SMA50\",\"SMA50\",\"SMA50\",\"SMA50\",\"SMA50\",\"SMA50\",\"SMA50\",\"SMA50\",\"SMA50\",\"SMA50\",\"SMA50\",\"SMA50\",\"SMA50\",\"SMA50\",\"SMA50\",\"SMA50\",\"SMA50\",\"SMA50\",\"SMA50\",\"SMA50\",\"SMA50\",\"SMA50\",\"SMA50\",\"SMA50\",\"SMA50\",\"SMA50\",\"SMA50\",\"SMA50\",\"SMA50\",\"SMA50\",\"SMA50\",\"SMA50\",\"SMA50\",\"SMA50\",\"SMA50\",\"SMA50\",\"SMA50\",\"SMA50\",\"SMA50\",\"SMA50\",\"SMA50\",\"SMA50\",\"SMA50\",\"SMA50\",\"SMA50\",\"SMA50\",\"SMA50\",\"SMA50\",\"SMA50\",\"SMA50\",\"SMA50\",\"SMA50\",\"SMA50\",\"SMA50\",\"SMA50\",\"SMA50\",\"SMA50\",\"SMA50\",\"SMA50\",\"SMA50\",\"SMA50\",\"SMA50\",\"SMA50\",\"SMA50\",\"SMA50\",\"SMA50\",\"SMA50\",\"SMA50\",\"SMA50\",\"SMA50\",\"SMA50\",\"SMA50\",\"SMA50\",\"SMA50\",\"SMA50\",\"SMA50\",\"SMA50\",\"SMA50\",\"SMA50\",\"SMA50\",\"SMA50\",\"SMA50\",\"SMA50\",\"SMA50\",\"SMA50\",\"SMA50\",\"SMA50\",\"SMA50\",\"SMA50\",\"SMA50\",\"SMA50\",\"SMA50\",\"SMA50\",\"SMA50\",\"SMA50\",\"SMA50\",\"SMA50\",\"SMA50\",\"SMA50\",\"SMA50\",\"SMA50\",\"SMA50\",\"SMA50\",\"SMA50\",\"SMA50\",\"SMA50\",\"SMA50\",\"SMA50\",\"SMA50\",\"SMA50\",\"SMA50\",\"SMA50\",\"SMA50\",\"SMA50\",\"SMA50\",\"SMA50\",\"SMA50\",\"SMA50\",\"SMA50\",\"SMA50\",\"SMA50\",\"SMA50\",\"SMA50\",\"SMA50\",\"SMA50\",\"SMA50\",\"SMA50\",\"SMA50\",\"SMA50\",\"SMA50\",\"SMA50\",\"SMA50\",\"SMA50\",\"SMA50\",\"SMA50\",\"SMA50\",\"SMA50\",\"SMA50\",\"SMA50\",\"SMA50\",\"SMA50\",\"SMA50\",\"SMA50\",\"SMA50\",\"SMA50\",\"SMA50\",\"SMA50\",\"SMA50\",\"SMA50\",\"SMA50\",\"SMA50\",\"SMA50\",\"SMA50\",\"SMA50\",\"SMA50\",\"SMA50\",\"SMA50\",\"SMA50\",\"SMA50\",\"SMA50\",\"SMA50\",\"SMA50\",\"SMA50\",\"SMA50\",\"SMA50\",\"SMA50\",\"SMA50\",\"SMA50\",\"SMA50\",\"SMA50\",\"SMA50\",\"SMA50\",\"SMA50\",\"SMA50\",\"SMA50\",\"SMA50\",\"SMA50\",\"SMA50\",\"SMA50\",\"SMA50\",\"SMA50\",\"SMA50\",\"SMA50\",\"SMA50\",\"SMA50\",\"SMA50\",\"SMA50\",\"SMA50\",\"SMA50\",\"SMA50\",\"SMA50\",\"SMA50\",\"SMA50\",\"SMA50\",\"SMA50\",\"SMA50\",\"SMA50\",\"SMA50\",\"SMA50\",\"SMA50\",\"SMA50\",\"SMA50\",\"SMA50\",\"SMA50\",\"SMA50\",\"SMA50\",\"SMA50\",\"SMA50\",\"SMA50\",\"SMA50\",\"SMA50\",\"SMA50\",\"SMA50\",\"SMA50\",\"SMA50\",\"SMA50\",\"SMA50\",\"SMA50\",\"SMA50\",\"SMA50\",\"SMA50\",\"SMA50\",\"SMA50\",\"SMA50\",\"SMA50\",\"SMA50\",\"SMA50\",\"SMA50\",\"SMA50\",\"SMA50\",\"SMA50\",\"SMA50\",\"SMA50\",\"SMA50\",\"SMA50\",\"SMA50\",\"SMA50\",\"SMA50\",\"SMA50\",\"SMA50\",\"SMA50\",\"SMA50\",\"SMA50\",\"SMA50\",\"SMA50\",\"SMA50\",\"SMA50\",\"SMA50\",\"SMA50\",\"SMA50\",\"SMA50\",\"SMA50\",\"SMA50\",\"SMA50\",\"SMA50\",\"SMA50\",\"SMA50\",\"SMA50\",\"SMA50\",\"SMA50\",\"SMA50\",\"SMA50\",\"SMA50\",\"SMA50\",\"SMA50\",\"SMA50\",\"SMA50\",\"SMA50\",\"SMA50\",\"SMA50\",\"SMA50\",\"SMA50\",\"SMA50\",\"SMA50\",\"SMA50\",\"SMA50\",\"SMA50\",\"SMA50\",\"SMA50\",\"SMA50\",\"SMA50\",\"SMA50\",\"SMA50\",\"SMA50\",\"SMA50\",\"SMA50\",\"SMA50\",\"SMA50\",\"SMA50\",\"SMA50\",\"SMA50\",\"SMA50\",\"SMA50\",\"SMA50\",\"SMA50\",\"SMA50\",\"SMA50\",\"SMA50\",\"SMA50\",\"SMA50\",\"SMA50\",\"SMA50\",\"SMA50\",\"SMA50\",\"SMA50\",\"SMA50\",\"SMA50\",\"SMA50\",\"SMA50\",\"SMA50\",\"SMA50\",\"SMA50\",\"SMA50\",\"SMA50\"],\"index\":[1,2,3,4,5,6,7,8,9,10,11,12,13,14,15,16,17,18,19,20,21,22,23,24,25,26,27,28,29,30,31,32,33,34,35,36,37,38,39,40,41,42,43,44,45,46,47,48,49,50,51,52,53,54,55,56,57,58,59,60,61,62,63,64,65,66,67,68,69,70,71,72,73,74,75,76,77,78,79,80,81,82,83,84,85,86,87,88,89,90,91,92,93,94,95,96,97,98,99,100,101,102,103,104,105,106,107,108,109,110,111,112,113,114,115,116,117,118,119,120,121,122,123,124,125,126,127,128,129,130,131,132,133,134,135,136,137,138,139,140,141,142,143,144,145,146,147,148,149,150,151,152,153,154,155,156,157,158,159,160,161,162,163,164,165,166,167,168,169,170,171,172,173,174,175,176,177,178,179,180,181,182,183,184,185,186,187,188,189,190,191,192,193,194,195,196,197,198,199,200,201,202,203,204,205,206,207,208,209,210,211,212,213,214,215,216,217,218,219,220,221,222,223,224,225,226,227,228,229,230,231,232,233,234,235,236,237,238,239,240,241,242,243,244,245,246,247,248,249,250,251,252,253,254,255,256,257,258,259,260,261,262,263,264,265,266,267,268,269,270,271,272,273,274,275,276,277,278,279,280,281,282,283,284,285,286,287,288,289,290,291,292,293,294,295,296,297,298,299,300,301,302,303,304,305,306,307,308,309,310,311,312,313,314,315,316,317,318],\"value\":{\"__ndarray__\":\"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\",\"dtype\":\"float64\",\"order\":\"little\",\"shape\":[318]}},\"selected\":{\"id\":\"1058\"},\"selection_policy\":{\"id\":\"1074\"}},\"id\":\"1057\",\"type\":\"ColumnDataSource\"},{\"attributes\":{\"source\":{\"id\":\"1202\"}},\"id\":\"1209\",\"type\":\"CDSView\"},{\"attributes\":{\"axis_label\":\"\",\"coordinates\":null,\"formatter\":{\"id\":\"1043\"},\"group\":null,\"major_label_policy\":{\"id\":\"1044\"},\"ticker\":{\"id\":\"1021\"}},\"id\":\"1020\",\"type\":\"LinearAxis\"},{\"attributes\":{\"fill_alpha\":{\"value\":0.1},\"fill_color\":{\"value\":\"purple\"},\"hatch_alpha\":{\"value\":0.1},\"hatch_color\":{\"value\":\"purple\"},\"line_alpha\":{\"value\":0.1},\"line_color\":{\"value\":\"purple\"},\"marker\":{\"value\":\"triangle\"},\"size\":{\"value\":14.142135623730951},\"x\":{\"field\":\"index\"},\"y\":{\"field\":\"Close\"}},\"id\":\"1206\",\"type\":\"Scatter\"},{\"attributes\":{\"line_color\":\"#e5ae38\",\"line_width\":2,\"x\":{\"field\":\"index\"},\"y\":{\"field\":\"value\"}},\"id\":\"1083\",\"type\":\"Line\"},{\"attributes\":{},\"id\":\"1099\",\"type\":\"UnionRenderers\"},{\"attributes\":{},\"id\":\"1029\",\"type\":\"PanTool\"},{\"attributes\":{\"coordinates\":null,\"data_source\":{\"id\":\"1202\"},\"glyph\":{\"id\":\"1205\"},\"group\":null,\"hover_glyph\":null,\"muted_glyph\":{\"id\":\"1207\"},\"nonselection_glyph\":{\"id\":\"1206\"},\"selection_glyph\":{\"id\":\"1210\"},\"view\":{\"id\":\"1209\"}},\"id\":\"1208\",\"type\":\"GlyphRenderer\"},{\"attributes\":{\"data\":{\"Close\":{\"__ndarray__\":\"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\",\"dtype\":\"float64\",\"order\":\"little\",\"shape\":[318]},\"index\":[1,2,3,4,5,6,7,8,9,10,11,12,13,14,15,16,17,18,19,20,21,22,23,24,25,26,27,28,29,30,31,32,33,34,35,36,37,38,39,40,41,42,43,44,45,46,47,48,49,50,51,52,53,54,55,56,57,58,59,60,61,62,63,64,65,66,67,68,69,70,71,72,73,74,75,76,77,78,79,80,81,82,83,84,85,86,87,88,89,90,91,92,93,94,95,96,97,98,99,100,101,102,103,104,105,106,107,108,109,110,111,112,113,114,115,116,117,118,119,120,121,122,123,124,125,126,127,128,129,130,131,132,133,134,135,136,137,138,139,140,141,142,143,144,145,146,147,148,149,150,151,152,153,154,155,156,157,158,159,160,161,162,163,164,165,166,167,168,169,170,171,172,173,174,175,176,177,178,179,180,181,182,183,184,185,186,187,188,189,190,191,192,193,194,195,196,197,198,199,200,201,202,203,204,205,206,207,208,209,210,211,212,213,214,215,216,217,218,219,220,221,222,223,224,225,226,227,228,229,230,231,232,233,234,235,236,237,238,239,240,241,242,243,244,245,246,247,248,249,250,251,252,253,254,255,256,257,258,259,260,261,262,263,264,265,266,267,268,269,270,271,272,273,274,275,276,277,278,279,280,281,282,283,284,285,286,287,288,289,290,291,292,293,294,295,296,297,298,299,300,301,302,303,304,305,306,307,308,309,310,311,312,313,314,315,316,317,318]},\"selected\":{\"id\":\"1049\"},\"selection_policy\":{\"id\":\"1072\"}},\"id\":\"1048\",\"type\":\"ColumnDataSource\"},{\"attributes\":{\"source\":{\"id\":\"1080\"}},\"id\":\"1087\",\"type\":\"CDSView\"},{\"attributes\":{},\"id\":\"1074\",\"type\":\"UnionRenderers\"},{\"attributes\":{\"end\":188.5749944,\"reset_end\":188.5749944,\"reset_start\":109.79500159999999,\"start\":109.79500159999999,\"tags\":[[[\"Close\",\"Close\",null]]]},\"id\":\"1005\",\"type\":\"Range1d\"},{\"attributes\":{\"line_color\":\"#fc4f30\",\"line_width\":2,\"x\":{\"field\":\"index\"},\"y\":{\"field\":\"value\"}},\"id\":\"1079\",\"type\":\"Line\"},{\"attributes\":{\"line_alpha\":0.2,\"line_color\":\"#fc4f30\",\"line_width\":2,\"x\":{\"field\":\"index\"},\"y\":{\"field\":\"value\"}},\"id\":\"1062\",\"type\":\"Line\"},{\"attributes\":{\"click_policy\":\"mute\",\"coordinates\":null,\"group\":null,\"items\":[{\"id\":\"1078\"},{\"id\":\"1102\"}],\"location\":[0,0]},\"id\":\"1077\",\"type\":\"Legend\"},{\"attributes\":{\"line_alpha\":0.1,\"line_color\":\"lightgray\",\"line_width\":2,\"x\":{\"field\":\"index\"},\"y\":{\"field\":\"Close\"}},\"id\":\"1052\",\"type\":\"Line\"},{\"attributes\":{\"overlay\":{\"id\":\"1033\"}},\"id\":\"1031\",\"type\":\"BoxZoomTool\"},{\"attributes\":{\"axis\":{\"id\":\"1024\"},\"coordinates\":null,\"dimension\":1,\"grid_line_color\":null,\"group\":null,\"ticker\":null},\"id\":\"1027\",\"type\":\"Grid\"},{\"attributes\":{\"data\":{\"Close\":{\"__ndarray__\":\"AOXv3lHIX0AMPPcergdkQA==\",\"dtype\":\"float64\",\"order\":\"little\",\"shape\":[2]},\"index\":[108,228]},\"selected\":{\"id\":\"1203\"},\"selection_policy\":{\"id\":\"1233\"}},\"id\":\"1202\",\"type\":\"ColumnDataSource\"},{\"attributes\":{},\"id\":\"1032\",\"type\":\"ResetTool\"},{\"attributes\":{\"label\":{\"value\":\"SMA50\"},\"renderers\":[{\"id\":\"1063\"}]},\"id\":\"1078\",\"type\":\"LegendItem\"},{\"attributes\":{\"line_color\":\"lightgray\",\"line_width\":2,\"x\":{\"field\":\"index\"},\"y\":{\"field\":\"Close\"}},\"id\":\"1051\",\"type\":\"Line\"},{\"attributes\":{},\"id\":\"1058\",\"type\":\"Selection\"},{\"attributes\":{\"source\":{\"id\":\"1048\"}},\"id\":\"1055\",\"type\":\"CDSView\"},{\"attributes\":{},\"id\":\"1043\",\"type\":\"BasicTickFormatter\"},{\"attributes\":{},\"id\":\"1044\",\"type\":\"AllLabels\"},{\"attributes\":{},\"id\":\"1081\",\"type\":\"Selection\"},{\"attributes\":{\"bottom_units\":\"screen\",\"coordinates\":null,\"fill_alpha\":0.5,\"fill_color\":\"lightgrey\",\"group\":null,\"left_units\":\"screen\",\"level\":\"overlay\",\"line_alpha\":1.0,\"line_color\":\"black\",\"line_dash\":[4,4],\"line_width\":2,\"right_units\":\"screen\",\"syncable\":false,\"top_units\":\"screen\"},\"id\":\"1033\",\"type\":\"BoxAnnotation\"},{\"attributes\":{},\"id\":\"1049\",\"type\":\"Selection\"},{\"attributes\":{},\"id\":\"1046\",\"type\":\"BasicTickFormatter\"},{\"attributes\":{\"line_alpha\":0.2,\"line_color\":\"lightgray\",\"line_width\":2,\"x\":{\"field\":\"index\"},\"y\":{\"field\":\"Close\"}},\"id\":\"1053\",\"type\":\"Line\"}],\"root_ids\":[\"1002\"]},\"title\":\"Bokeh Application\",\"version\":\"2.4.2\"}};\n",
       "    var render_items = [{\"docid\":\"6b2765d3-5f5c-477c-83f9-03fa5a6982dd\",\"root_ids\":[\"1002\"],\"roots\":{\"1002\":\"6a802a70-5110-4732-b246-8d6599f0f80b\"}}];\n",
       "    root.Bokeh.embed.embed_items_notebook(docs_json, render_items);\n",
       "  }\n",
       "  if (root.Bokeh !== undefined && root.Bokeh.Panel !== undefined) {\n",
       "    embed_document(root);\n",
       "  } else {\n",
       "    var attempts = 0;\n",
       "    var timer = setInterval(function(root) {\n",
       "      if (root.Bokeh !== undefined && root.Bokeh.Panel !== undefined) {\n",
       "        clearInterval(timer);\n",
       "        embed_document(root);\n",
       "      } else if (document.readyState == \"complete\") {\n",
       "        attempts++;\n",
       "        if (attempts > 200) {\n",
       "          clearInterval(timer);\n",
       "          console.log(\"Bokeh: ERROR: Unable to run BokehJS code because BokehJS library is missing\");\n",
       "        }\n",
       "      }\n",
       "    }, 25, root)\n",
       "  }\n",
       "})(window);</script>"
      ],
      "text/plain": [
       ":Overlay\n",
       "   .Curve.I          :Curve   [index]   (Close)\n",
       "   .NdOverlay.I      :NdOverlay   [Variable]\n",
       "      :Curve   [index]   (value)\n",
       "   .Scatter.Close.I  :Scatter   [index]   (Close)\n",
       "   .Scatter.Close.II :Scatter   [index]   (Close)"
      ]
     },
     "execution_count": 23,
     "metadata": {
      "application/vnd.holoviews_exec.v0+json": {
       "id": "1002"
      }
     },
     "output_type": "execute_result"
    }
   ],
   "source": [
    "exit = signals_df[signals_df['Entry/Exit'] == -1.0]['Close'].hvplot.scatter(\n",
    "    color='yellow',\n",
    "    marker='v',\n",
    "    size=200,\n",
    "    legend=False,\n",
    "    ylabel='Price in $',\n",
    "    width=1000,\n",
    "    height=400\n",
    ")\n",
    "entry = signals_df[signals_df['Entry/Exit'] == 1.0]['Close'].hvplot.scatter(\n",
    "    color='purple',\n",
    "    marker='^',\n",
    "    size=200,\n",
    "    legend=False,\n",
    "    ylabel='Price in $',\n",
    "    width=1000,\n",
    "    height=400\n",
    ")\n",
    "\n",
    "# Visualize close price for the investment\n",
    "security_close = signals_df[['Close']].hvplot(\n",
    "    line_color='lightgray',\n",
    "    ylabel='Price in $',\n",
    "    width=1000,\n",
    "    height=400\n",
    ")\n",
    "\n",
    "# Visualize moving averages\n",
    "moving_avgs = signals_df[['SMA50', 'SMA100']].hvplot(\n",
    "    ylabel='Price in $',\n",
    "    width=1000,\n",
    "    height=400\n",
    ")\n",
    "\n",
    "# Create the overlay plot\n",
    "entry_exit_plot = security_close * moving_avgs * entry * exit\n",
    "\n",
    "# Show the plot\n",
    "entry_exit_plot.opts(\n",
    "    title=\"Apple - SMA50, SMA100, Entry and Exit Points\"\n",
    ")"
   ]
  },
  {
   "cell_type": "code",
   "execution_count": 131,
   "id": "yIzkMxD7kzXE",
   "metadata": {
    "colab": {
     "base_uri": "https://localhost:8080/",
     "height": 423
    },
    "id": "yIzkMxD7kzXE",
    "outputId": "a8621fc3-1b70-499a-d1d2-8b86b3641581"
   },
   "outputs": [
    {
     "data": {
      "text/html": [
       "<div>\n",
       "<style scoped>\n",
       "    .dataframe tbody tr th:only-of-type {\n",
       "        vertical-align: middle;\n",
       "    }\n",
       "\n",
       "    .dataframe tbody tr th {\n",
       "        vertical-align: top;\n",
       "    }\n",
       "\n",
       "    .dataframe thead th {\n",
       "        text-align: right;\n",
       "    }\n",
       "</style>\n",
       "<table border=\"1\" class=\"dataframe\">\n",
       "  <thead>\n",
       "    <tr style=\"text-align: right;\">\n",
       "      <th></th>\n",
       "      <th>Date</th>\n",
       "      <th>Open</th>\n",
       "      <th>High</th>\n",
       "      <th>Low</th>\n",
       "      <th>Close</th>\n",
       "      <th>Adj Close</th>\n",
       "      <th>Volume</th>\n",
       "      <th>trade_type</th>\n",
       "      <th>cost/proceeds</th>\n",
       "      <th>accumulated_shares</th>\n",
       "    </tr>\n",
       "  </thead>\n",
       "  <tbody>\n",
       "    <tr>\n",
       "      <th>1</th>\n",
       "      <td>1/5/21</td>\n",
       "      <td>128.889999</td>\n",
       "      <td>131.740005</td>\n",
       "      <td>128.429993</td>\n",
       "      <td>131.009995</td>\n",
       "      <td>0.012364</td>\n",
       "      <td>97664900</td>\n",
       "      <td>buy</td>\n",
       "      <td>-131.009995</td>\n",
       "      <td>1.0</td>\n",
       "    </tr>\n",
       "    <tr>\n",
       "      <th>2</th>\n",
       "      <td>1/6/21</td>\n",
       "      <td>127.720001</td>\n",
       "      <td>131.050003</td>\n",
       "      <td>126.379997</td>\n",
       "      <td>126.599998</td>\n",
       "      <td>-0.033662</td>\n",
       "      <td>155088000</td>\n",
       "      <td>buy</td>\n",
       "      <td>-126.599998</td>\n",
       "      <td>2.0</td>\n",
       "    </tr>\n",
       "    <tr>\n",
       "      <th>3</th>\n",
       "      <td>1/7/21</td>\n",
       "      <td>128.360001</td>\n",
       "      <td>131.630005</td>\n",
       "      <td>127.860001</td>\n",
       "      <td>130.919998</td>\n",
       "      <td>0.034123</td>\n",
       "      <td>109578200</td>\n",
       "      <td>sell</td>\n",
       "      <td>261.839996</td>\n",
       "      <td>0.0</td>\n",
       "    </tr>\n",
       "    <tr>\n",
       "      <th>4</th>\n",
       "      <td>1/8/21</td>\n",
       "      <td>132.429993</td>\n",
       "      <td>132.630005</td>\n",
       "      <td>130.229996</td>\n",
       "      <td>132.050003</td>\n",
       "      <td>0.008631</td>\n",
       "      <td>105158200</td>\n",
       "      <td>hold</td>\n",
       "      <td>NaN</td>\n",
       "      <td>0.0</td>\n",
       "    </tr>\n",
       "    <tr>\n",
       "      <th>5</th>\n",
       "      <td>1/11/21</td>\n",
       "      <td>129.190002</td>\n",
       "      <td>130.169998</td>\n",
       "      <td>128.500000</td>\n",
       "      <td>128.979996</td>\n",
       "      <td>-0.023249</td>\n",
       "      <td>100384500</td>\n",
       "      <td>buy</td>\n",
       "      <td>-128.979996</td>\n",
       "      <td>1.0</td>\n",
       "    </tr>\n",
       "    <tr>\n",
       "      <th>...</th>\n",
       "      <td>...</td>\n",
       "      <td>...</td>\n",
       "      <td>...</td>\n",
       "      <td>...</td>\n",
       "      <td>...</td>\n",
       "      <td>...</td>\n",
       "      <td>...</td>\n",
       "      <td>...</td>\n",
       "      <td>...</td>\n",
       "      <td>...</td>\n",
       "    </tr>\n",
       "    <tr>\n",
       "      <th>314</th>\n",
       "      <td>4/1/22</td>\n",
       "      <td>174.029999</td>\n",
       "      <td>174.880005</td>\n",
       "      <td>171.940002</td>\n",
       "      <td>174.309998</td>\n",
       "      <td>-0.001718</td>\n",
       "      <td>78699800</td>\n",
       "      <td>hold</td>\n",
       "      <td>NaN</td>\n",
       "      <td>0.0</td>\n",
       "    </tr>\n",
       "    <tr>\n",
       "      <th>315</th>\n",
       "      <td>4/4/22</td>\n",
       "      <td>174.570007</td>\n",
       "      <td>178.490005</td>\n",
       "      <td>174.440002</td>\n",
       "      <td>178.440002</td>\n",
       "      <td>0.023693</td>\n",
       "      <td>76468400</td>\n",
       "      <td>sell</td>\n",
       "      <td>0.000000</td>\n",
       "      <td>0.0</td>\n",
       "    </tr>\n",
       "    <tr>\n",
       "      <th>316</th>\n",
       "      <td>4/5/22</td>\n",
       "      <td>177.500000</td>\n",
       "      <td>178.300003</td>\n",
       "      <td>174.419998</td>\n",
       "      <td>175.059998</td>\n",
       "      <td>-0.018942</td>\n",
       "      <td>73401800</td>\n",
       "      <td>hold</td>\n",
       "      <td>NaN</td>\n",
       "      <td>0.0</td>\n",
       "    </tr>\n",
       "    <tr>\n",
       "      <th>317</th>\n",
       "      <td>4/6/22</td>\n",
       "      <td>172.360001</td>\n",
       "      <td>173.630005</td>\n",
       "      <td>170.130005</td>\n",
       "      <td>171.830002</td>\n",
       "      <td>-0.018451</td>\n",
       "      <td>89058800</td>\n",
       "      <td>hold</td>\n",
       "      <td>NaN</td>\n",
       "      <td>0.0</td>\n",
       "    </tr>\n",
       "    <tr>\n",
       "      <th>318</th>\n",
       "      <td>4/7/22</td>\n",
       "      <td>171.160004</td>\n",
       "      <td>173.360001</td>\n",
       "      <td>169.850006</td>\n",
       "      <td>172.139999</td>\n",
       "      <td>0.001804</td>\n",
       "      <td>77594700</td>\n",
       "      <td>sell</td>\n",
       "      <td>0.000000</td>\n",
       "      <td>0.0</td>\n",
       "    </tr>\n",
       "  </tbody>\n",
       "</table>\n",
       "<p>318 rows × 10 columns</p>\n",
       "</div>"
      ],
      "text/plain": [
       "        Date        Open        High         Low       Close  Adj Close  \\\n",
       "1     1/5/21  128.889999  131.740005  128.429993  131.009995   0.012364   \n",
       "2     1/6/21  127.720001  131.050003  126.379997  126.599998  -0.033662   \n",
       "3     1/7/21  128.360001  131.630005  127.860001  130.919998   0.034123   \n",
       "4     1/8/21  132.429993  132.630005  130.229996  132.050003   0.008631   \n",
       "5    1/11/21  129.190002  130.169998  128.500000  128.979996  -0.023249   \n",
       "..       ...         ...         ...         ...         ...        ...   \n",
       "314   4/1/22  174.029999  174.880005  171.940002  174.309998  -0.001718   \n",
       "315   4/4/22  174.570007  178.490005  174.440002  178.440002   0.023693   \n",
       "316   4/5/22  177.500000  178.300003  174.419998  175.059998  -0.018942   \n",
       "317   4/6/22  172.360001  173.630005  170.130005  171.830002  -0.018451   \n",
       "318   4/7/22  171.160004  173.360001  169.850006  172.139999   0.001804   \n",
       "\n",
       "        Volume trade_type  cost/proceeds  accumulated_shares  \n",
       "1     97664900        buy    -131.009995                 1.0  \n",
       "2    155088000        buy    -126.599998                 2.0  \n",
       "3    109578200       sell     261.839996                 0.0  \n",
       "4    105158200       hold            NaN                 0.0  \n",
       "5    100384500        buy    -128.979996                 1.0  \n",
       "..         ...        ...            ...                 ...  \n",
       "314   78699800       hold            NaN                 0.0  \n",
       "315   76468400       sell       0.000000                 0.0  \n",
       "316   73401800       hold            NaN                 0.0  \n",
       "317   89058800       hold            NaN                 0.0  \n",
       "318   77594700       sell       0.000000                 0.0  \n",
       "\n",
       "[318 rows x 10 columns]"
      ]
     },
     "execution_count": 131,
     "metadata": {},
     "output_type": "execute_result"
    }
   ],
   "source": [
    "AAPL_df"
   ]
  },
  {
   "cell_type": "code",
   "execution_count": null,
   "id": "7xsRLidilrMG",
   "metadata": {
    "id": "7xsRLidilrMG"
   },
   "outputs": [],
   "source": [
    "# Use Support Vector Machines (SVM) to create a classifier model known as a Support Vector Classifier (SVC)\n",
    "# Create a function to find the optimal components for the trading algorithm\n",
    "# Filter the date index and close columns\n",
    "\n",
    "\n",
    "import numpy as np\n",
    "from sklearn.pipeline import make_pipeline\n",
    "from sklearn.preprocessing import StandardScaler\n",
    "from sklearn.svm import SVC\n",
    "\n",
    "\n",
    "def trading_algo(short_window_input, long_window_input, training_period_input):\n",
    "    signals_df = AAPL_df.loc[:, [\"Close\"]]\n",
    "\n",
    "    # Use the pct_change function to generate  returns from close prices\n",
    "    signals_df[\"Actual Returns\"] = signals_df[\"Close\"].pct_change()\n",
    "\n",
    "    # Drop all NaN values from the DataFrame\n",
    "    signals_df = signals_df.dropna()\n",
    "\n",
    "\n",
    "    short_window = short_window_input\n",
    "    long_window =long_window_input\n",
    "\n",
    "# Generate the fast and slow simple moving averages (4 and 100 days, respectively)\n",
    "signals_df['SMA_Fast'] = signals_df['Close'].rolling(window=short_window).mean()\n",
    "signals_df['SMA_Slow'] = signals_df['Close'].rolling(window=long_window).mean()\n",
    "\n",
    "signals_df = signals_df.dropna()\n",
    "\n",
    "\n",
    "# Initialize the new Signal column\n",
    "signals_df['Signal'] = 0.0\n",
    "\n",
    "# When Actual Returns are greater than or equal to 0, generate signal to buy stock long\n",
    "signals_df.loc[(signals_df['Actual Returns'] >= 0), 'Signal'] = 1\n",
    "\n",
    "# When Actual Returns are less than 0, generate signal to sell stock short\n",
    "signals_df.loc[(signals_df['Actual Returns'] < 0), 'Signal'] = 0\n",
    "\n",
    "\n",
    "# Calculate the strategy returns and add them to the signals_df DataFrame\n",
    "signals_df['Strategy Returns'] = signals_df['Actual Returns'] * signals_df['Signal'].shift()\n",
    "\n",
    "# Assign a copy of the sma_fast and sma_slow columns to a features DataFrame called X\n",
    "X = signals_df[['SMA_Fast', 'SMA_Slow']].shift().dropna()\n",
    "\n",
    "# Create the target set selecting the Signal column and assiging it to y\n",
    "y = signals_df['Signal']\n",
    "\n",
    "# Select the start of the training period\n",
    "training_begin = X.index.min()\n",
    "\n",
    "# Select the ending period for the training data with an offset of 3 months\n",
    "#training_end = X.index.min() + DateOffset(months=training_period_input)\n",
    "    \n",
    "# Select the ending period for the training data with an offset of 3 months\n",
    "training_end = X.index.min() + DateOffset(months=3)\n",
    "\n",
    "# Display the training end date\n",
    "print(training_end)\n",
    "   "
   ]
  },
  {
   "cell_type": "code",
   "execution_count": null,
   "id": "77d00e8e-c932-4b0e-a1d6-1e678c653bc6",
   "metadata": {},
   "outputs": [],
   "source": [
    " # Generate the X_train and y_train DataFrames\n",
    "X_train = X.loc[training_begin:training_end]\n",
    "y_train = y.loc[training_begin:training_end]\n",
    "\n",
    "\n",
    "# Generate the X_test and y_test DataFrames\n",
    "X_test = X.loc[training_end+DateOffset(hours=1):]\n",
    "y_test = y.loc[training_end+DateOffset(hours=1):]\n",
    "\n",
    "\n",
    "# Scale the features DataFrames\n",
    "\n",
    "# Create a StandardScaler instance\n",
    "scaler = StandardScaler()\n",
    "\n",
    "# Apply the scaler model to fit the X-train data\n",
    "X_scaler = scaler.fit(X_train)\n",
    "\n",
    "# Transform the X_train and X_test DataFrames using the X_scaler\n",
    "X_train_scaled = X_scaler.transform(X_train)\n",
    "X_test_scaled = X_scaler.transform(X_test)\n",
    "X_test_scaled\n",
    "\n",
    "# From SVM, instantiate SVC classifier model instance\n",
    "svm_model = svm.SVC()\n",
    "\n",
    "# Fit the model to the data using the training data\n",
    "svm_model = svm_model.fit(X_train_scaled, y_train)\n",
    "\n",
    "# Use the testing data to make the model predictions\n",
    "svm_pred = svm_model.predict(X_test_scaled)\n",
    "\n",
    "\n",
    "# Use a classification report to evaluate the model using the predictions and testing data\n",
    "svm_testing_report = classification_report(y_test, svm_pred)\n",
    "\n",
    "\n",
    "# Create a new empty predictions DataFrame.\n",
    "\n",
    "# Create a predictions DataFrame\n",
    "predictions_df = pd.DataFrame(index=X_test.index)\n",
    "\n",
    "# Add the SVM model predictions to the DataFrame\n",
    "predictions_df['Predicted'] = svm_pred\n",
    "\n",
    "# Add the actual returns to the DataFrame\n",
    "predictions_df['Actual Returns'] = signals_df[\"Actual Returns\"]\n",
    "\n",
    "# Add the strategy returns to the DataFrame\n",
    "predictions_df['Strategy Returns'] = signals_df[\"Actual Returns\"] * predictions_df[\"Predicted\"]\n",
    "\n",
    "\n",
    "  \n",
    "# Create the column names for the dataframe to find the optimal components for the algorithm. The column names will be generated by the for loop\n",
    "predictions_df[f'{short_window}_{long_window}_{training_period_input}'] = (1+predictions_df[\"Strategy Returns\"]).cumprod()\n",
    "\n",
    "# Plot the actual returns versus the strategy returns\n",
    "#(1+predictions_df[[\"Actual Returns\", \"Strategy Returns\"]]).cumprod().plot(title= f\"{short_window}, {long_window}, {training_period_input}\")\n",
    "    \n",
    "return predictions_df\n",
    "\n",
    "\n",
    "predictions_df = trading_algo(short_window_input=10, long_window_input=200, training_period_input=20)\n",
    "   \n",
    "print(predictions_df.head())\n",
    "\n",
    "    "
   ]
  },
  {
   "cell_type": "code",
   "execution_count": 133,
   "id": "98048d3b-2b70-4268-83a9-cb3aa8eb149d",
   "metadata": {},
   "outputs": [],
   "source": [
    "# Import S&P 500 Stock price Data from January 1, 2021 to April 7, 2021"
   ]
  },
  {
   "cell_type": "code",
   "execution_count": 34,
   "id": "147626ea-e243-4985-8455-cb3d536510f3",
   "metadata": {},
   "outputs": [
    {
     "data": {
      "text/html": [
       "<div>\n",
       "<style scoped>\n",
       "    .dataframe tbody tr th:only-of-type {\n",
       "        vertical-align: middle;\n",
       "    }\n",
       "\n",
       "    .dataframe tbody tr th {\n",
       "        vertical-align: top;\n",
       "    }\n",
       "\n",
       "    .dataframe thead th {\n",
       "        text-align: right;\n",
       "    }\n",
       "</style>\n",
       "<table border=\"1\" class=\"dataframe\">\n",
       "  <thead>\n",
       "    <tr style=\"text-align: right;\">\n",
       "      <th></th>\n",
       "      <th>Date</th>\n",
       "      <th>Open</th>\n",
       "      <th>High</th>\n",
       "      <th>Low</th>\n",
       "      <th>Close</th>\n",
       "      <th>Adj Close</th>\n",
       "      <th>Volume</th>\n",
       "    </tr>\n",
       "  </thead>\n",
       "  <tbody>\n",
       "    <tr>\n",
       "      <th>0</th>\n",
       "      <td>4-Jan-21</td>\n",
       "      <td>3764.61</td>\n",
       "      <td>3769.99</td>\n",
       "      <td>3662.71</td>\n",
       "      <td>3700.65</td>\n",
       "      <td>3700.65</td>\n",
       "      <td>5.006680e+09</td>\n",
       "    </tr>\n",
       "    <tr>\n",
       "      <th>1</th>\n",
       "      <td>5-Jan-21</td>\n",
       "      <td>3698.02</td>\n",
       "      <td>3737.83</td>\n",
       "      <td>3695.07</td>\n",
       "      <td>3726.86</td>\n",
       "      <td>3726.86</td>\n",
       "      <td>4.582620e+09</td>\n",
       "    </tr>\n",
       "    <tr>\n",
       "      <th>2</th>\n",
       "      <td>6-Jan-21</td>\n",
       "      <td>3712.20</td>\n",
       "      <td>3783.04</td>\n",
       "      <td>3705.34</td>\n",
       "      <td>3748.14</td>\n",
       "      <td>3748.14</td>\n",
       "      <td>6.049970e+09</td>\n",
       "    </tr>\n",
       "    <tr>\n",
       "      <th>3</th>\n",
       "      <td>7-Jan-21</td>\n",
       "      <td>3764.71</td>\n",
       "      <td>3811.55</td>\n",
       "      <td>3764.71</td>\n",
       "      <td>3803.79</td>\n",
       "      <td>3803.79</td>\n",
       "      <td>5.080870e+09</td>\n",
       "    </tr>\n",
       "    <tr>\n",
       "      <th>4</th>\n",
       "      <td>8-Jan-21</td>\n",
       "      <td>3815.05</td>\n",
       "      <td>3826.69</td>\n",
       "      <td>3783.60</td>\n",
       "      <td>3824.68</td>\n",
       "      <td>3824.68</td>\n",
       "      <td>4.764180e+09</td>\n",
       "    </tr>\n",
       "    <tr>\n",
       "      <th>5</th>\n",
       "      <td>11-Jan-21</td>\n",
       "      <td>3803.14</td>\n",
       "      <td>3817.86</td>\n",
       "      <td>3789.02</td>\n",
       "      <td>3799.61</td>\n",
       "      <td>3799.61</td>\n",
       "      <td>4.450500e+09</td>\n",
       "    </tr>\n",
       "    <tr>\n",
       "      <th>6</th>\n",
       "      <td>12-Jan-21</td>\n",
       "      <td>3801.62</td>\n",
       "      <td>3810.78</td>\n",
       "      <td>3776.51</td>\n",
       "      <td>3801.19</td>\n",
       "      <td>3801.19</td>\n",
       "      <td>4.977210e+09</td>\n",
       "    </tr>\n",
       "    <tr>\n",
       "      <th>7</th>\n",
       "      <td>13-Jan-21</td>\n",
       "      <td>3802.23</td>\n",
       "      <td>3820.96</td>\n",
       "      <td>3791.50</td>\n",
       "      <td>3809.84</td>\n",
       "      <td>3809.84</td>\n",
       "      <td>4.590420e+09</td>\n",
       "    </tr>\n",
       "    <tr>\n",
       "      <th>8</th>\n",
       "      <td>14-Jan-21</td>\n",
       "      <td>3814.98</td>\n",
       "      <td>3823.60</td>\n",
       "      <td>3792.86</td>\n",
       "      <td>3795.54</td>\n",
       "      <td>3795.54</td>\n",
       "      <td>5.180140e+09</td>\n",
       "    </tr>\n",
       "    <tr>\n",
       "      <th>9</th>\n",
       "      <td>15-Jan-21</td>\n",
       "      <td>3788.73</td>\n",
       "      <td>3788.73</td>\n",
       "      <td>3749.62</td>\n",
       "      <td>3768.25</td>\n",
       "      <td>3768.25</td>\n",
       "      <td>5.353060e+09</td>\n",
       "    </tr>\n",
       "  </tbody>\n",
       "</table>\n",
       "</div>"
      ],
      "text/plain": [
       "        Date     Open     High      Low    Close  Adj Close        Volume\n",
       "0   4-Jan-21  3764.61  3769.99  3662.71  3700.65    3700.65  5.006680e+09\n",
       "1   5-Jan-21  3698.02  3737.83  3695.07  3726.86    3726.86  4.582620e+09\n",
       "2   6-Jan-21  3712.20  3783.04  3705.34  3748.14    3748.14  6.049970e+09\n",
       "3   7-Jan-21  3764.71  3811.55  3764.71  3803.79    3803.79  5.080870e+09\n",
       "4   8-Jan-21  3815.05  3826.69  3783.60  3824.68    3824.68  4.764180e+09\n",
       "5  11-Jan-21  3803.14  3817.86  3789.02  3799.61    3799.61  4.450500e+09\n",
       "6  12-Jan-21  3801.62  3810.78  3776.51  3801.19    3801.19  4.977210e+09\n",
       "7  13-Jan-21  3802.23  3820.96  3791.50  3809.84    3809.84  4.590420e+09\n",
       "8  14-Jan-21  3814.98  3823.60  3792.86  3795.54    3795.54  5.180140e+09\n",
       "9  15-Jan-21  3788.73  3788.73  3749.62  3768.25    3768.25  5.353060e+09"
      ]
     },
     "execution_count": 34,
     "metadata": {},
     "output_type": "execute_result"
    }
   ],
   "source": [
    "# Read the S&P 500 CSV data into a DataFrame\n",
    "\n",
    "from pathlib import Path\n",
    "\n",
    "sp500_csv = Path(\"sp500_stock_price_data_jan_01_2021_to_april_07_2022_.csv\")\n",
    "\n",
    "sp500_df = pd.read_csv(sp500_csv)\n",
    "\n",
    "sp500_df[\"Close\"] = sp500_df[\"Close\"].astype(float)\n",
    "\n",
    "\n",
    "# Display the DataFrame\n",
    "sp500_df.head(10)\n",
    "\n"
   ]
  },
  {
   "cell_type": "code",
   "execution_count": 35,
   "id": "7b5bae22-9033-46b2-b193-761d754b1a3c",
   "metadata": {},
   "outputs": [
    {
     "data": {
      "text/html": [
       "<div>\n",
       "<style scoped>\n",
       "    .dataframe tbody tr th:only-of-type {\n",
       "        vertical-align: middle;\n",
       "    }\n",
       "\n",
       "    .dataframe tbody tr th {\n",
       "        vertical-align: top;\n",
       "    }\n",
       "\n",
       "    .dataframe thead th {\n",
       "        text-align: right;\n",
       "    }\n",
       "</style>\n",
       "<table border=\"1\" class=\"dataframe\">\n",
       "  <thead>\n",
       "    <tr style=\"text-align: right;\">\n",
       "      <th></th>\n",
       "      <th>Date</th>\n",
       "      <th>Open</th>\n",
       "      <th>High</th>\n",
       "      <th>Low</th>\n",
       "      <th>Close</th>\n",
       "      <th>Adj Close</th>\n",
       "      <th>Volume</th>\n",
       "    </tr>\n",
       "  </thead>\n",
       "  <tbody>\n",
       "    <tr>\n",
       "      <th>1</th>\n",
       "      <td>5-Jan-21</td>\n",
       "      <td>3698.02</td>\n",
       "      <td>3737.83</td>\n",
       "      <td>3695.07</td>\n",
       "      <td>3726.86</td>\n",
       "      <td>0.007083</td>\n",
       "      <td>4.582620e+09</td>\n",
       "    </tr>\n",
       "    <tr>\n",
       "      <th>2</th>\n",
       "      <td>6-Jan-21</td>\n",
       "      <td>3712.20</td>\n",
       "      <td>3783.04</td>\n",
       "      <td>3705.34</td>\n",
       "      <td>3748.14</td>\n",
       "      <td>0.005710</td>\n",
       "      <td>6.049970e+09</td>\n",
       "    </tr>\n",
       "    <tr>\n",
       "      <th>3</th>\n",
       "      <td>7-Jan-21</td>\n",
       "      <td>3764.71</td>\n",
       "      <td>3811.55</td>\n",
       "      <td>3764.71</td>\n",
       "      <td>3803.79</td>\n",
       "      <td>0.014847</td>\n",
       "      <td>5.080870e+09</td>\n",
       "    </tr>\n",
       "    <tr>\n",
       "      <th>4</th>\n",
       "      <td>8-Jan-21</td>\n",
       "      <td>3815.05</td>\n",
       "      <td>3826.69</td>\n",
       "      <td>3783.60</td>\n",
       "      <td>3824.68</td>\n",
       "      <td>0.005492</td>\n",
       "      <td>4.764180e+09</td>\n",
       "    </tr>\n",
       "    <tr>\n",
       "      <th>5</th>\n",
       "      <td>11-Jan-21</td>\n",
       "      <td>3803.14</td>\n",
       "      <td>3817.86</td>\n",
       "      <td>3789.02</td>\n",
       "      <td>3799.61</td>\n",
       "      <td>-0.006555</td>\n",
       "      <td>4.450500e+09</td>\n",
       "    </tr>\n",
       "  </tbody>\n",
       "</table>\n",
       "</div>"
      ],
      "text/plain": [
       "        Date     Open     High      Low    Close  Adj Close        Volume\n",
       "1   5-Jan-21  3698.02  3737.83  3695.07  3726.86   0.007083  4.582620e+09\n",
       "2   6-Jan-21  3712.20  3783.04  3705.34  3748.14   0.005710  6.049970e+09\n",
       "3   7-Jan-21  3764.71  3811.55  3764.71  3803.79   0.014847  5.080870e+09\n",
       "4   8-Jan-21  3815.05  3826.69  3783.60  3824.68   0.005492  4.764180e+09\n",
       "5  11-Jan-21  3803.14  3817.86  3789.02  3799.61  -0.006555  4.450500e+09"
      ]
     },
     "execution_count": 35,
     "metadata": {},
     "output_type": "execute_result"
    }
   ],
   "source": [
    "sp500_df['Adj Close'] = sp500_df['Close'].pct_change()\n",
    "\n",
    "sp500_df = sp500_df.dropna()\n",
    "\n",
    "sp500_df.head()"
   ]
  },
  {
   "cell_type": "code",
   "execution_count": 36,
   "id": "62b3413e-388f-4380-8d3a-8340fec9eb0a",
   "metadata": {},
   "outputs": [
    {
     "data": {
      "text/html": [
       "<div>\n",
       "<style scoped>\n",
       "    .dataframe tbody tr th:only-of-type {\n",
       "        vertical-align: middle;\n",
       "    }\n",
       "\n",
       "    .dataframe tbody tr th {\n",
       "        vertical-align: top;\n",
       "    }\n",
       "\n",
       "    .dataframe thead th {\n",
       "        text-align: right;\n",
       "    }\n",
       "</style>\n",
       "<table border=\"1\" class=\"dataframe\">\n",
       "  <thead>\n",
       "    <tr style=\"text-align: right;\">\n",
       "      <th></th>\n",
       "      <th>Date</th>\n",
       "      <th>Open</th>\n",
       "      <th>High</th>\n",
       "      <th>Low</th>\n",
       "      <th>Close</th>\n",
       "      <th>Adj Close</th>\n",
       "      <th>Volume</th>\n",
       "    </tr>\n",
       "  </thead>\n",
       "  <tbody>\n",
       "    <tr>\n",
       "      <th>2</th>\n",
       "      <td>6-Jan-21</td>\n",
       "      <td>3712.20</td>\n",
       "      <td>3783.04</td>\n",
       "      <td>3705.34</td>\n",
       "      <td>3748.14</td>\n",
       "      <td>0.005710</td>\n",
       "      <td>6.049970e+09</td>\n",
       "    </tr>\n",
       "    <tr>\n",
       "      <th>3</th>\n",
       "      <td>7-Jan-21</td>\n",
       "      <td>3764.71</td>\n",
       "      <td>3811.55</td>\n",
       "      <td>3764.71</td>\n",
       "      <td>3803.79</td>\n",
       "      <td>0.014847</td>\n",
       "      <td>5.080870e+09</td>\n",
       "    </tr>\n",
       "    <tr>\n",
       "      <th>4</th>\n",
       "      <td>8-Jan-21</td>\n",
       "      <td>3815.05</td>\n",
       "      <td>3826.69</td>\n",
       "      <td>3783.60</td>\n",
       "      <td>3824.68</td>\n",
       "      <td>0.005492</td>\n",
       "      <td>4.764180e+09</td>\n",
       "    </tr>\n",
       "    <tr>\n",
       "      <th>5</th>\n",
       "      <td>11-Jan-21</td>\n",
       "      <td>3803.14</td>\n",
       "      <td>3817.86</td>\n",
       "      <td>3789.02</td>\n",
       "      <td>3799.61</td>\n",
       "      <td>-0.006555</td>\n",
       "      <td>4.450500e+09</td>\n",
       "    </tr>\n",
       "    <tr>\n",
       "      <th>6</th>\n",
       "      <td>12-Jan-21</td>\n",
       "      <td>3801.62</td>\n",
       "      <td>3810.78</td>\n",
       "      <td>3776.51</td>\n",
       "      <td>3801.19</td>\n",
       "      <td>0.000416</td>\n",
       "      <td>4.977210e+09</td>\n",
       "    </tr>\n",
       "  </tbody>\n",
       "</table>\n",
       "</div>"
      ],
      "text/plain": [
       "        Date     Open     High      Low    Close  Adj Close        Volume\n",
       "2   6-Jan-21  3712.20  3783.04  3705.34  3748.14   0.005710  6.049970e+09\n",
       "3   7-Jan-21  3764.71  3811.55  3764.71  3803.79   0.014847  5.080870e+09\n",
       "4   8-Jan-21  3815.05  3826.69  3783.60  3824.68   0.005492  4.764180e+09\n",
       "5  11-Jan-21  3803.14  3817.86  3789.02  3799.61  -0.006555  4.450500e+09\n",
       "6  12-Jan-21  3801.62  3810.78  3776.51  3801.19   0.000416  4.977210e+09"
      ]
     },
     "execution_count": 36,
     "metadata": {},
     "output_type": "execute_result"
    }
   ],
   "source": [
    "#sp500_df = pd.read_csv(file_path),index_col='Date', parse_dates=True, infer_datetime_format=True)\n",
    "\n",
    "sp500_df['Adj Close'] = sp500_df['Close'].pct_change()\n",
    "\n",
    "sp500_df = sp500_df.dropna()\n",
    "\n",
    "sp500_df.head()"
   ]
  },
  {
   "cell_type": "code",
   "execution_count": 37,
   "id": "620726d1-2566-48ba-a410-ea14178c44b0",
   "metadata": {},
   "outputs": [
    {
     "data": {
      "text/plain": [
       "Text(0.5, 1.0, 'S&P500 Open & Close, High & Low')"
      ]
     },
     "execution_count": 37,
     "metadata": {},
     "output_type": "execute_result"
    },
    {
     "data": {
      "image/png": "[encoded data removed]",
      "text/plain": [
       "<Figure size 432x288 with 1 Axes>"
      ]
     },
     "metadata": {
      "needs_background": "light"
     },
     "output_type": "display_data"
    }
   ],
   "source": [
    "ax = sp500_df[['Open','High','Low','Close']].plot()\n",
    "ax.set_title('S&P500 Open & Close, High & Low')"
   ]
  },
  {
   "cell_type": "code",
   "execution_count": 38,
   "id": "e0c932a4-b417-488e-b513-3c2bf21bc33e",
   "metadata": {},
   "outputs": [
    {
     "data": {
      "text/plain": [
       "Text(0.5, 1.0, 'S&P500 Adjusted Close')"
      ]
     },
     "execution_count": 38,
     "metadata": {},
     "output_type": "execute_result"
    },
    {
     "data": {
      "image/png": "[encoded data removed]",
      "text/plain": [
       "<Figure size 432x288 with 1 Axes>"
      ]
     },
     "metadata": {
      "needs_background": "light"
     },
     "output_type": "display_data"
    }
   ],
   "source": [
    "ax = sp500_df[['Adj Close']].plot()\n",
    "ax.set_title('S&P500 Adjusted Close')"
   ]
  },
  {
   "cell_type": "code",
   "execution_count": 39,
   "id": "451977d3-7a88-4f0a-a63a-371001670264",
   "metadata": {},
   "outputs": [
    {
     "data": {
      "text/plain": [
       "Text(0.5, 1.0, 'S&P500 Volume')"
      ]
     },
     "execution_count": 39,
     "metadata": {},
     "output_type": "execute_result"
    },
    {
     "data": {
      "image/png": "[encoded data removed]",
      "text/plain": [
       "<Figure size 432x288 with 1 Axes>"
      ]
     },
     "metadata": {
      "needs_background": "light"
     },
     "output_type": "display_data"
    }
   ],
   "source": [
    "ax = sp500_df[['Volume']].plot()\n",
    "ax.set_title('S&P500 Volume')"
   ]
  },
  {
   "cell_type": "code",
   "execution_count": 143,
   "id": "b43fb050-cd79-4855-b91d-789c3959ac31",
   "metadata": {},
   "outputs": [
    {
     "data": {
      "text/plain": [
       "<AxesSubplot:>"
      ]
     },
     "execution_count": 143,
     "metadata": {},
     "output_type": "execute_result"
    },
    {
     "data": {
      "image/png": "[encoded data removed]",
      "text/plain": [
       "<Figure size 432x288 with 1 Axes>"
      ]
     },
     "metadata": {
      "needs_background": "light"
     },
     "output_type": "display_data"
    }
   ],
   "source": [
    "import hvplot.pandas\n",
    "\n",
    "sp500_df.hvplot.line()\n",
    "sp500_df[\"trade_type\"]=np.nan\n",
    "previous_price=0\n",
    "\n",
    "for index,row in sp500_df.iterrows():\n",
    "    if previous_price==0:\n",
    "        sp500_df.loc[index,\"trade_type\"]=\"buy\"\n",
    "        \n",
    "    elif row[\"Close\"] < previous_price:\n",
    "            sp500_df.loc[index,\"trade_type\"]=\"buy\"\n",
    "    \n",
    "\n",
    "    elif row[\"Close\"] > (1.005*previous_price):\n",
    "            sp500_df.loc[index,\"trade_type\"]=\"sell\"\n",
    "    else:\n",
    "         sp500_df.loc[index, \"trade_type\"] = \"hold\"\n",
    "            \n",
    "previous_price=row[\"Close\"]\n",
    "\n",
    "if index == sp500_df.index[-1]:\n",
    "    sp500_df.loc[index, \"trade_type\"] = \"sell\"\n",
    "\n",
    "sp500_df.plot()\n",
    "\n"
   ]
  },
  {
   "cell_type": "code",
   "execution_count": 145,
   "id": "56811813-7a05-4d6f-97ba-93d926dffdcc",
   "metadata": {},
   "outputs": [],
   "source": [
    "sp500_df[\"cost/proceeds\"]=np.nan\n",
    "share_size = 1\n",
    "accumulated_shares = 0\n",
    "\n",
    "for index, row in sp500_df.iterrows():\n",
    "\n",
    "    # buy if the previous_price is 0, in other words, buy on the first day\n",
    "    if previous_price == 0:\n",
    "        sp500_df.loc[index, \"trade_type\"] = \"buy\"\n",
    "\n",
    "        # calculate the cost of the trade by multiplying the current day's price\n",
    "        # by the share_size, or number of shares purchased\n",
    "        sp500_df.loc[index, \"cost/proceeds\"] = -(row[\"Close\"] * share_size)\n",
    "\n",
    "        # add the number of shares purchased to the accumulated shares\n",
    "        accumulated_shares += share_size\n",
    "\n",
    "    # buy if the current day's price is less than the previous day's price\n",
    "    elif row[\"Close\"] < previous_price:\n",
    "        sp500_df.loc[index, \"trade_type\"] = \"buy\"\n",
    "\n",
    "        # calculate the cost of the trade by multiplying the current day's price\n",
    "        # by the share_size, or number of shares purchased\n",
    "        sp500_df.loc[index, \"cost/proceeds\"] = -(row[\"Close\"] * share_size)\n",
    "\n",
    "        # add the number of shares purchased to the accumulated shares\n",
    "        accumulated_shares += share_size\n",
    "    elif row[\"Close\"] > (1.005*previous_price):\n",
    "        sp500_df.loc[index, \"trade_type\"] = \"sell\""
   ]
  },
  {
   "cell_type": "code",
   "execution_count": 148,
   "id": "cc82f69d-7546-4e30-afc2-b6efcb6232ef",
   "metadata": {},
   "outputs": [
    {
     "data": {
      "text/html": [
       "<div>\n",
       "<style scoped>\n",
       "    .dataframe tbody tr th:only-of-type {\n",
       "        vertical-align: middle;\n",
       "    }\n",
       "\n",
       "    .dataframe tbody tr th {\n",
       "        vertical-align: top;\n",
       "    }\n",
       "\n",
       "    .dataframe thead th {\n",
       "        text-align: right;\n",
       "    }\n",
       "</style>\n",
       "<table border=\"1\" class=\"dataframe\">\n",
       "  <thead>\n",
       "    <tr style=\"text-align: right;\">\n",
       "      <th></th>\n",
       "      <th>Date</th>\n",
       "      <th>Open</th>\n",
       "      <th>High</th>\n",
       "      <th>Low</th>\n",
       "      <th>Close</th>\n",
       "      <th>Adj Close</th>\n",
       "      <th>Volume</th>\n",
       "      <th>trade_type</th>\n",
       "      <th>cost/proceeds</th>\n",
       "      <th>accumulated_shares</th>\n",
       "    </tr>\n",
       "  </thead>\n",
       "  <tbody>\n",
       "    <tr>\n",
       "      <th>2</th>\n",
       "      <td>6-Jan-21</td>\n",
       "      <td>3712.20</td>\n",
       "      <td>3783.04</td>\n",
       "      <td>3705.34</td>\n",
       "      <td>3748.14</td>\n",
       "      <td>0.005710</td>\n",
       "      <td>6.049970e+09</td>\n",
       "      <td>buy</td>\n",
       "      <td>-3748.14</td>\n",
       "      <td>1.0</td>\n",
       "    </tr>\n",
       "    <tr>\n",
       "      <th>3</th>\n",
       "      <td>7-Jan-21</td>\n",
       "      <td>3764.71</td>\n",
       "      <td>3811.55</td>\n",
       "      <td>3764.71</td>\n",
       "      <td>3803.79</td>\n",
       "      <td>0.014847</td>\n",
       "      <td>5.080870e+09</td>\n",
       "      <td>hold</td>\n",
       "      <td>NaN</td>\n",
       "      <td>1.0</td>\n",
       "    </tr>\n",
       "    <tr>\n",
       "      <th>4</th>\n",
       "      <td>8-Jan-21</td>\n",
       "      <td>3815.05</td>\n",
       "      <td>3826.69</td>\n",
       "      <td>3783.60</td>\n",
       "      <td>3824.68</td>\n",
       "      <td>0.005492</td>\n",
       "      <td>4.764180e+09</td>\n",
       "      <td>hold</td>\n",
       "      <td>NaN</td>\n",
       "      <td>1.0</td>\n",
       "    </tr>\n",
       "    <tr>\n",
       "      <th>5</th>\n",
       "      <td>11-Jan-21</td>\n",
       "      <td>3803.14</td>\n",
       "      <td>3817.86</td>\n",
       "      <td>3789.02</td>\n",
       "      <td>3799.61</td>\n",
       "      <td>-0.006555</td>\n",
       "      <td>4.450500e+09</td>\n",
       "      <td>hold</td>\n",
       "      <td>NaN</td>\n",
       "      <td>1.0</td>\n",
       "    </tr>\n",
       "    <tr>\n",
       "      <th>6</th>\n",
       "      <td>12-Jan-21</td>\n",
       "      <td>3801.62</td>\n",
       "      <td>3810.78</td>\n",
       "      <td>3776.51</td>\n",
       "      <td>3801.19</td>\n",
       "      <td>0.000416</td>\n",
       "      <td>4.977210e+09</td>\n",
       "      <td>hold</td>\n",
       "      <td>NaN</td>\n",
       "      <td>1.0</td>\n",
       "    </tr>\n",
       "    <tr>\n",
       "      <th>...</th>\n",
       "      <td>...</td>\n",
       "      <td>...</td>\n",
       "      <td>...</td>\n",
       "      <td>...</td>\n",
       "      <td>...</td>\n",
       "      <td>...</td>\n",
       "      <td>...</td>\n",
       "      <td>...</td>\n",
       "      <td>...</td>\n",
       "      <td>...</td>\n",
       "    </tr>\n",
       "    <tr>\n",
       "      <th>313</th>\n",
       "      <td>31-Mar-22</td>\n",
       "      <td>4599.02</td>\n",
       "      <td>4603.07</td>\n",
       "      <td>4530.41</td>\n",
       "      <td>4530.41</td>\n",
       "      <td>-0.015653</td>\n",
       "      <td>3.782040e+09</td>\n",
       "      <td>hold</td>\n",
       "      <td>NaN</td>\n",
       "      <td>0.0</td>\n",
       "    </tr>\n",
       "    <tr>\n",
       "      <th>314</th>\n",
       "      <td>1-Apr-22</td>\n",
       "      <td>4540.32</td>\n",
       "      <td>4548.70</td>\n",
       "      <td>4507.57</td>\n",
       "      <td>4545.86</td>\n",
       "      <td>0.003410</td>\n",
       "      <td>3.828290e+09</td>\n",
       "      <td>hold</td>\n",
       "      <td>NaN</td>\n",
       "      <td>0.0</td>\n",
       "    </tr>\n",
       "    <tr>\n",
       "      <th>315</th>\n",
       "      <td>4-Apr-22</td>\n",
       "      <td>4547.97</td>\n",
       "      <td>4583.50</td>\n",
       "      <td>4539.21</td>\n",
       "      <td>4582.64</td>\n",
       "      <td>0.008091</td>\n",
       "      <td>3.833500e+09</td>\n",
       "      <td>hold</td>\n",
       "      <td>NaN</td>\n",
       "      <td>0.0</td>\n",
       "    </tr>\n",
       "    <tr>\n",
       "      <th>316</th>\n",
       "      <td>5-Apr-22</td>\n",
       "      <td>4572.45</td>\n",
       "      <td>4593.45</td>\n",
       "      <td>4514.17</td>\n",
       "      <td>4525.12</td>\n",
       "      <td>-0.012552</td>\n",
       "      <td>3.906230e+09</td>\n",
       "      <td>hold</td>\n",
       "      <td>NaN</td>\n",
       "      <td>0.0</td>\n",
       "    </tr>\n",
       "    <tr>\n",
       "      <th>317</th>\n",
       "      <td>6-Apr-22</td>\n",
       "      <td>4494.17</td>\n",
       "      <td>4503.94</td>\n",
       "      <td>4450.04</td>\n",
       "      <td>4481.15</td>\n",
       "      <td>-0.009717</td>\n",
       "      <td>4.137080e+09</td>\n",
       "      <td>sell</td>\n",
       "      <td>0.00</td>\n",
       "      <td>0.0</td>\n",
       "    </tr>\n",
       "  </tbody>\n",
       "</table>\n",
       "<p>316 rows × 10 columns</p>\n",
       "</div>"
      ],
      "text/plain": [
       "          Date     Open     High      Low    Close  Adj Close        Volume  \\\n",
       "2     6-Jan-21  3712.20  3783.04  3705.34  3748.14   0.005710  6.049970e+09   \n",
       "3     7-Jan-21  3764.71  3811.55  3764.71  3803.79   0.014847  5.080870e+09   \n",
       "4     8-Jan-21  3815.05  3826.69  3783.60  3824.68   0.005492  4.764180e+09   \n",
       "5    11-Jan-21  3803.14  3817.86  3789.02  3799.61  -0.006555  4.450500e+09   \n",
       "6    12-Jan-21  3801.62  3810.78  3776.51  3801.19   0.000416  4.977210e+09   \n",
       "..         ...      ...      ...      ...      ...        ...           ...   \n",
       "313  31-Mar-22  4599.02  4603.07  4530.41  4530.41  -0.015653  3.782040e+09   \n",
       "314   1-Apr-22  4540.32  4548.70  4507.57  4545.86   0.003410  3.828290e+09   \n",
       "315   4-Apr-22  4547.97  4583.50  4539.21  4582.64   0.008091  3.833500e+09   \n",
       "316   5-Apr-22  4572.45  4593.45  4514.17  4525.12  -0.012552  3.906230e+09   \n",
       "317   6-Apr-22  4494.17  4503.94  4450.04  4481.15  -0.009717  4.137080e+09   \n",
       "\n",
       "    trade_type  cost/proceeds  accumulated_shares  \n",
       "2          buy       -3748.14                 1.0  \n",
       "3         hold            NaN                 1.0  \n",
       "4         hold            NaN                 1.0  \n",
       "5         hold            NaN                 1.0  \n",
       "6         hold            NaN                 1.0  \n",
       "..         ...            ...                 ...  \n",
       "313       hold            NaN                 0.0  \n",
       "314       hold            NaN                 0.0  \n",
       "315       hold            NaN                 0.0  \n",
       "316       hold            NaN                 0.0  \n",
       "317       sell           0.00                 0.0  \n",
       "\n",
       "[316 rows x 10 columns]"
      ]
     },
     "execution_count": 148,
     "metadata": {},
     "output_type": "execute_result"
    }
   ],
   "source": [
    "if index == sp500_df.index[-1]:\n",
    "    sp500_df.loc[index, \"trade_type\"] = \"sell\"\n",
    "\n",
    "#Initialize trade_type column to track buys and sells\n",
    "sp500_df[\"trade_type\"] = np.nan\n",
    "\n",
    "# Initialize a cost/proceeds column for recording trade metrics\n",
    "sp500_df[\"cost/proceeds\"] = np.nan\n",
    "sp500_df[\"accumulated_shares\"] = np.nan\n",
    "# Initialize share size and accumulated shares\n",
    "share_size = 1\n",
    "accumulated_shares = 0\n",
    "\n",
    "# Initialize variable to hold previous price\n",
    "previous_price = 0\n",
    "\n",
    "# Loop through the Pandas DataFrame and initiate a trade at each iteration\n",
    "for index, row in sp500_df.iterrows():\n",
    "\n",
    "    # buy if the previous_price is 0, in other words, buy on the first day\n",
    "    if previous_price == 0:\n",
    "        sp500_df.loc[index, \"trade_type\"] = \"buy\"\n",
    "\n",
    "        # calculate the cost of the trade by multiplying the current day's price\n",
    "        # by the share_size, or number of shares purchased\n",
    "        sp500_df.loc[index, \"cost/proceeds\"] = -(row[\"Close\"] * share_size)\n",
    "\n",
    "        # add the number of shares purchased to the accumulated shares\n",
    "        accumulated_shares += share_size\n",
    "        sp500_df.loc[index, \"accumulated_shares\"] = accumulated_shares\n",
    "    # buy if the current day's price is less than the previous day's price\n",
    "    elif row[\"Close\"] < 0.98*previous_price:\n",
    "        sp500_df.loc[index, \"trade_type\"] = \"buy\"\n",
    "\n",
    "        # calculate the cost of the trade by multiplying the current day's price\n",
    "        # by the share_size, or number of shares purchased\n",
    "        sp500_df.loc[index, \"cost/proceeds\"] = -(row[\"Close\"] * share_size)\n",
    "\n",
    "        # add the number of shares purchased to the accumulated shares\n",
    "        accumulated_shares += share_size\n",
    "        sp500_df.loc[index, \"accumulated_shares\"] = accumulated_shares\n",
    "    # hold if the current day's price is greater than the previous day's price\n",
    "    elif row[\"Close\"] > 1.02*previous_price:\n",
    "        sp500_df.loc[index, \"trade_type\"] = \"sell\"\n",
    "        sp500_df.loc[index, \"cost/proceeds\"] = (row[\"Close\"] * accumulated_shares)\n",
    "        accumulated_shares=0\n",
    "        sp500_df.loc[index, \"accumulated_shares\"] = accumulated_shares\n",
    "        \n",
    "    # hold if the current day's price is equal to the previous day's price\n",
    "    else:\n",
    "        sp500_df.loc[index, \"trade_type\"] = \"hold\"\n",
    "        sp500_df.loc[index, \"accumulated_shares\"] = accumulated_shares\n",
    "    # update the previous_price to the current row's price\n",
    "    previous_price = row[\"Close\"]\n",
    "\n",
    "    # if the index is the last index of the DataFrame, sell\n",
    "    if index == sp500_df.index[-1]:\n",
    "        sp500_df.loc[index, \"trade_type\"] = \"sell\"\n",
    "\n",
    "        # calculate the proceeds by multiplying the last day's price by the accumulated shares\n",
    "        sp500_df.loc[index, \"cost/proceeds\"] = row[\"Close\"] * accumulated_shares\n",
    "        sp500_df.loc[index, \"accumulated_shares\"] = accumulated_shares\n",
    "# Review the DataFrame\n",
    "sp500_df"
   ]
  },
  {
   "cell_type": "code",
   "execution_count": 151,
   "id": "ce35803c-1844-40da-8e06-782166f8e230",
   "metadata": {},
   "outputs": [
    {
     "name": "stdout",
     "output_type": "stream",
     "text": [
      "The total profit/loss of the trading strategy is $1415.56.\n"
     ]
    }
   ],
   "source": [
    "total_profit_loss = round(sp500_df[\"cost/proceeds\"].sum(),2)\n",
    "print(f\"The total profit/loss of the trading strategy is ${total_profit_loss}.\")"
   ]
  },
  {
   "cell_type": "code",
   "execution_count": 157,
   "id": "e29c96b4-fe7a-4980-89c7-f0a253dde871",
   "metadata": {},
   "outputs": [
    {
     "name": "stdout",
     "output_type": "stream",
     "text": [
      "The trading algorithm resulted in a return on investment of 3.79%\n"
     ]
    }
   ],
   "source": [
    "invested_capital = 0\n",
    "\n",
    "# Calculate the invested capital by adding the cost of all buy trades\n",
    "for index, row in sp500_df.iterrows():\n",
    "    if row[\"trade_type\"] == \"buy\":\n",
    "        invested_capital = invested_capital + row[\"cost/proceeds\"]\n",
    "\n",
    "\n",
    "# Calculate the return on investment (ROI)\n",
    "roi = round((total_profit_loss / -(invested_capital)) * 100, 2)\n",
    "\n",
    "# Print the ROI\n",
    "print(f\"The trading algorithm resulted in a return on investment of {roi}%\")"
   ]
  },
  {
   "cell_type": "code",
   "execution_count": 158,
   "id": "7030cc9c-f956-433e-9cad-c87497e22a0d",
   "metadata": {},
   "outputs": [
    {
     "data": {
      "text/html": [
       "<div>\n",
       "<style scoped>\n",
       "    .dataframe tbody tr th:only-of-type {\n",
       "        vertical-align: middle;\n",
       "    }\n",
       "\n",
       "    .dataframe tbody tr th {\n",
       "        vertical-align: top;\n",
       "    }\n",
       "\n",
       "    .dataframe thead th {\n",
       "        text-align: right;\n",
       "    }\n",
       "</style>\n",
       "<table border=\"1\" class=\"dataframe\">\n",
       "  <thead>\n",
       "    <tr style=\"text-align: right;\">\n",
       "      <th></th>\n",
       "      <th>Close</th>\n",
       "      <th>SMA50</th>\n",
       "      <th>SMA100</th>\n",
       "      <th>Signal</th>\n",
       "    </tr>\n",
       "  </thead>\n",
       "  <tbody>\n",
       "    <tr>\n",
       "      <th>2</th>\n",
       "      <td>3748.14</td>\n",
       "      <td>NaN</td>\n",
       "      <td>NaN</td>\n",
       "      <td>0.0</td>\n",
       "    </tr>\n",
       "    <tr>\n",
       "      <th>3</th>\n",
       "      <td>3803.79</td>\n",
       "      <td>NaN</td>\n",
       "      <td>NaN</td>\n",
       "      <td>0.0</td>\n",
       "    </tr>\n",
       "    <tr>\n",
       "      <th>4</th>\n",
       "      <td>3824.68</td>\n",
       "      <td>NaN</td>\n",
       "      <td>NaN</td>\n",
       "      <td>0.0</td>\n",
       "    </tr>\n",
       "    <tr>\n",
       "      <th>5</th>\n",
       "      <td>3799.61</td>\n",
       "      <td>NaN</td>\n",
       "      <td>NaN</td>\n",
       "      <td>0.0</td>\n",
       "    </tr>\n",
       "    <tr>\n",
       "      <th>6</th>\n",
       "      <td>3801.19</td>\n",
       "      <td>NaN</td>\n",
       "      <td>NaN</td>\n",
       "      <td>0.0</td>\n",
       "    </tr>\n",
       "    <tr>\n",
       "      <th>...</th>\n",
       "      <td>...</td>\n",
       "      <td>...</td>\n",
       "      <td>...</td>\n",
       "      <td>...</td>\n",
       "    </tr>\n",
       "    <tr>\n",
       "      <th>313</th>\n",
       "      <td>4530.41</td>\n",
       "      <td>4411.0764</td>\n",
       "      <td>4543.3668</td>\n",
       "      <td>0.0</td>\n",
       "    </tr>\n",
       "    <tr>\n",
       "      <th>314</th>\n",
       "      <td>4545.86</td>\n",
       "      <td>4412.3390</td>\n",
       "      <td>4541.8084</td>\n",
       "      <td>0.0</td>\n",
       "    </tr>\n",
       "    <tr>\n",
       "      <th>315</th>\n",
       "      <td>4582.64</td>\n",
       "      <td>4416.0330</td>\n",
       "      <td>4540.7823</td>\n",
       "      <td>0.0</td>\n",
       "    </tr>\n",
       "    <tr>\n",
       "      <th>316</th>\n",
       "      <td>4525.12</td>\n",
       "      <td>4418.3328</td>\n",
       "      <td>4539.5664</td>\n",
       "      <td>0.0</td>\n",
       "    </tr>\n",
       "    <tr>\n",
       "      <th>317</th>\n",
       "      <td>4481.15</td>\n",
       "      <td>4420.8268</td>\n",
       "      <td>4537.8852</td>\n",
       "      <td>0.0</td>\n",
       "    </tr>\n",
       "  </tbody>\n",
       "</table>\n",
       "<p>316 rows × 4 columns</p>\n",
       "</div>"
      ],
      "text/plain": [
       "       Close      SMA50     SMA100  Signal\n",
       "2    3748.14        NaN        NaN     0.0\n",
       "3    3803.79        NaN        NaN     0.0\n",
       "4    3824.68        NaN        NaN     0.0\n",
       "5    3799.61        NaN        NaN     0.0\n",
       "6    3801.19        NaN        NaN     0.0\n",
       "..       ...        ...        ...     ...\n",
       "313  4530.41  4411.0764  4543.3668     0.0\n",
       "314  4545.86  4412.3390  4541.8084     0.0\n",
       "315  4582.64  4416.0330  4540.7823     0.0\n",
       "316  4525.12  4418.3328  4539.5664     0.0\n",
       "317  4481.15  4420.8268  4537.8852     0.0\n",
       "\n",
       "[316 rows x 4 columns]"
      ]
     },
     "execution_count": 158,
     "metadata": {},
     "output_type": "execute_result"
    }
   ],
   "source": [
    "signals_df = sp500_df.loc[:,[\"Close\"]]\n",
    "\n",
    "short_window = 50\n",
    "long_window = 100\n",
    "\n",
    "signals_df['SMA50'] = signals_df['Close'].rolling(window=short_window).mean()\n",
    "signals_df['SMA100'] = signals_df['Close'].rolling(window=long_window).mean()\n",
    "signals_df['Signal'] = 0.0\n",
    "\n",
    "signals_df\n",
    "\n",
    "# Here is reference code:\n",
    "# df = pd.DataFrame({\"name\": ['Alfred', 'Batman', 'Catwoman'],\n",
    "#                    \"toy\": [np.nan, 'Batmobile', 'Bullwhip'],\n",
    "#                    \"born\": [pd.NaT, pd.Timestamp(\"1940-04-25\"),\n",
    "#                             pd.NaT]})\n",
    "# df\n",
    "#        name        toy       born\n",
    "# 0    Alfred        NaN        NaT\n",
    "# 1    Batman  Batmobile 1940-04-25\n",
    "# 2  Catwoman   Bullwhip        NaT\n",
    "\n",
    "signals_df = pd.DataFrame({\"Close\": ['3748.14', \n",
    "                           \"SMA50\": [np.nan, \n",
    "                           \"SMA100\": [np.NaN,\n",
    "                           \"Signal\": [0.0\n",
    "                                      \n",
    "                                      "
   ]
  },
  {
   "cell_type": "code",
   "execution_count": 154,
   "id": "d04a98a3-94e6-44be-abf4-ab3ddd312f75",
   "metadata": {},
   "outputs": [],
   "source": [
    "signals_df['Signal'][short_window:] = np.where(\n",
    "    signals_df['SMA50'][short_window:] > signals_df['SMA100'][short_window:], 1.0, 0.0\n",
    ")\n",
    "signals_df['Entry/Exit'] = signals_df['Signal'].diff()\n"
   ]
  },
  {
   "cell_type": "code",
   "execution_count": 155,
   "id": "8aef77d3-e3af-4441-94d8-b24a73bc5c62",
   "metadata": {},
   "outputs": [
    {
     "data": {},
     "metadata": {},
     "output_type": "display_data"
    },
    {
     "data": {
      "application/vnd.holoviews_exec.v0+json": "",
      "text/html": [
       "<div id='2890'>\n",
       "\n",
       "\n",
       "\n",
       "\n",
       "\n",
       "  <div class=\"bk-root\" id=\"63a5f6ed-3080-47d2-87ed-81b6b5cc4a28\" data-root-id=\"2890\"></div>\n",
       "</div>\n",
       "<script type=\"application/javascript\">(function(root) {\n",
       "  function embed_document(root) {\n",
       "    var docs_json = {\"bed5ba08-a5ed-4541-b45c-10263cf32179\":{\"defs\":[{\"extends\":null,\"module\":null,\"name\":\"ReactiveHTML1\",\"overrides\":[],\"properties\":[]},{\"extends\":null,\"module\":null,\"name\":\"FlexBox1\",\"overrides\":[],\"properties\":[{\"default\":\"flex-start\",\"kind\":null,\"name\":\"align_content\"},{\"default\":\"flex-start\",\"kind\":null,\"name\":\"align_items\"},{\"default\":\"row\",\"kind\":null,\"name\":\"flex_direction\"},{\"default\":\"wrap\",\"kind\":null,\"name\":\"flex_wrap\"},{\"default\":\"flex-start\",\"kind\":null,\"name\":\"justify_content\"}]},{\"extends\":null,\"module\":null,\"name\":\"TemplateActions1\",\"overrides\":[],\"properties\":[{\"default\":0,\"kind\":null,\"name\":\"open_modal\"},{\"default\":0,\"kind\":null,\"name\":\"close_modal\"}]},{\"extends\":null,\"module\":null,\"name\":\"MaterialTemplateActions1\",\"overrides\":[],\"properties\":[{\"default\":0,\"kind\":null,\"name\":\"open_modal\"},{\"default\":0,\"kind\":null,\"name\":\"close_modal\"}]}],\"roots\":{\"references\":[{\"attributes\":{\"fill_alpha\":{\"value\":0.2},\"fill_color\":{\"value\":\"purple\"},\"hatch_alpha\":{\"value\":0.2},\"hatch_color\":{\"value\":\"purple\"},\"line_alpha\":{\"value\":0.2},\"line_color\":{\"value\":\"purple\"},\"marker\":{\"value\":\"triangle\"},\"size\":{\"value\":14.142135623730951},\"x\":{\"field\":\"index\"},\"y\":{\"field\":\"Close\"}},\"id\":\"3095\",\"type\":\"Scatter\"},{\"attributes\":{},\"id\":\"2916\",\"type\":\"SaveTool\"},{\"attributes\":{\"label\":{\"value\":\"SMA100\"},\"renderers\":[{\"id\":\"2974\"}]},\"id\":\"2990\",\"type\":\"LegendItem\"},{\"attributes\":{},\"id\":\"2931\",\"type\":\"BasicTickFormatter\"},{\"attributes\":{},\"id\":\"2917\",\"type\":\"PanTool\"},{\"attributes\":{\"coordinates\":null,\"data_source\":{\"id\":\"3099\"},\"glyph\":{\"id\":\"3102\"},\"group\":null,\"hover_glyph\":null,\"muted_glyph\":{\"id\":\"3104\"},\"nonselection_glyph\":{\"id\":\"3103\"},\"selection_glyph\":{\"id\":\"3107\"},\"view\":{\"id\":\"3106\"}},\"id\":\"3105\",\"type\":\"GlyphRenderer\"},{\"attributes\":{},\"id\":\"2918\",\"type\":\"WheelZoomTool\"},{\"attributes\":{},\"id\":\"2920\",\"type\":\"ResetTool\"},{\"attributes\":{\"end\":4904.792,\"reset_end\":4904.792,\"reset_start\":3606.008,\"start\":3606.008,\"tags\":[[[\"Close\",\"Close\",null]]]},\"id\":\"2893\",\"type\":\"Range1d\"},{\"attributes\":{\"margin\":[5,5,5,5],\"name\":\"HSpacer09566\",\"sizing_mode\":\"stretch_width\"},\"id\":\"2891\",\"type\":\"Spacer\"},{\"attributes\":{\"end\":317.0,\"reset_end\":317.0,\"reset_start\":2.0,\"start\":2.0,\"tags\":[[[\"index\",\"index\",null]]]},\"id\":\"2892\",\"type\":\"Range1d\"},{\"attributes\":{\"overlay\":{\"id\":\"2921\"}},\"id\":\"2919\",\"type\":\"BoxZoomTool\"},{\"attributes\":{\"fill_alpha\":{\"value\":0.1},\"fill_color\":{\"value\":\"purple\"},\"hatch_alpha\":{\"value\":0.1},\"hatch_color\":{\"value\":\"purple\"},\"line_alpha\":{\"value\":0.1},\"line_color\":{\"value\":\"purple\"},\"marker\":{\"value\":\"triangle\"},\"size\":{\"value\":14.142135623730951},\"x\":{\"field\":\"index\"},\"y\":{\"field\":\"Close\"}},\"id\":\"3094\",\"type\":\"Scatter\"},{\"attributes\":{\"angle\":{\"value\":3.141592653589793},\"fill_alpha\":{\"value\":1.0},\"fill_color\":{\"value\":\"yellow\"},\"hatch_alpha\":{\"value\":1.0},\"hatch_color\":{\"value\":\"yellow\"},\"hatch_scale\":{\"value\":12.0},\"hatch_weight\":{\"value\":1.0},\"line_alpha\":{\"value\":1.0},\"line_cap\":{\"value\":\"butt\"},\"line_color\":{\"value\":\"yellow\"},\"line_dash\":{\"value\":[]},\"line_dash_offset\":{\"value\":0},\"line_join\":{\"value\":\"bevel\"},\"line_width\":{\"value\":1},\"marker\":{\"value\":\"triangle\"},\"size\":{\"value\":14.142135623730951},\"x\":{\"field\":\"index\"},\"y\":{\"field\":\"Close\"}},\"id\":\"3107\",\"type\":\"Scatter\"},{\"attributes\":{\"callback\":null,\"renderers\":[{\"id\":\"2942\"},{\"id\":\"3096\"},{\"id\":\"3105\"}],\"tags\":[\"hv_created\"],\"tooltips\":[[\"index\",\"@{index}\"],[\"Close\",\"@{Close}\"]]},\"id\":\"2894\",\"type\":\"HoverTool\"},{\"attributes\":{},\"id\":\"3123\",\"type\":\"UnionRenderers\"},{\"attributes\":{\"line_alpha\":0.2,\"line_color\":\"lightgray\",\"line_width\":2,\"x\":{\"field\":\"index\"},\"y\":{\"field\":\"Close\"}},\"id\":\"2941\",\"type\":\"Line\"},{\"attributes\":{},\"id\":\"3100\",\"type\":\"Selection\"},{\"attributes\":{\"data\":{\"Variable\":[\"SMA50\",\"SMA50\",\"SMA50\",\"SMA50\",\"SMA50\",\"SMA50\",\"SMA50\",\"SMA50\",\"SMA50\",\"SMA50\",\"SMA50\",\"SMA50\",\"SMA50\",\"SMA50\",\"SMA50\",\"SMA50\",\"SMA50\",\"SMA50\",\"SMA50\",\"SMA50\",\"SMA50\",\"SMA50\",\"SMA50\",\"SMA50\",\"SMA50\",\"SMA50\",\"SMA50\",\"SMA50\",\"SMA50\",\"SMA50\",\"SMA50\",\"SMA50\",\"SMA50\",\"SMA50\",\"SMA50\",\"SMA50\",\"SMA50\",\"SMA50\",\"SMA50\",\"SMA50\",\"SMA50\",\"SMA50\",\"SMA50\",\"SMA50\",\"SMA50\",\"SMA50\",\"SMA50\",\"SMA50\",\"SMA50\",\"SMA50\",\"SMA50\",\"SMA50\",\"SMA50\",\"SMA50\",\"SMA50\",\"SMA50\",\"SMA50\",\"SMA50\",\"SMA50\",\"SMA50\",\"SMA50\",\"SMA50\",\"SMA50\",\"SMA50\",\"SMA50\",\"SMA50\",\"SMA50\",\"SMA50\",\"SMA50\",\"SMA50\",\"SMA50\",\"SMA50\",\"SMA50\",\"SMA50\",\"SMA50\",\"SMA50\",\"SMA50\",\"SMA50\",\"SMA50\",\"SMA50\",\"SMA50\",\"SMA50\",\"SMA50\",\"SMA50\",\"SMA50\",\"SMA50\",\"SMA50\",\"SMA50\",\"SMA50\",\"SMA50\",\"SMA50\",\"SMA50\",\"SMA50\",\"SMA50\",\"SMA50\",\"SMA50\",\"SMA50\",\"SMA50\",\"SMA50\",\"SMA50\",\"SMA50\",\"SMA50\",\"SMA50\",\"SMA50\",\"SMA50\",\"SMA50\",\"SMA50\",\"SMA50\",\"SMA50\",\"SMA50\",\"SMA50\",\"SMA50\",\"SMA50\",\"SMA50\",\"SMA50\",\"SMA50\",\"SMA50\",\"SMA50\",\"SMA50\",\"SMA50\",\"SMA50\",\"SMA50\",\"SMA50\",\"SMA50\",\"SMA50\",\"SMA50\",\"SMA50\",\"SMA50\",\"SMA50\",\"SMA50\",\"SMA50\",\"SMA50\",\"SMA50\",\"SMA50\",\"SMA50\",\"SMA50\",\"SMA50\",\"SMA50\",\"SMA50\",\"SMA50\",\"SMA50\",\"SMA50\",\"SMA50\",\"SMA50\",\"SMA50\",\"SMA50\",\"SMA50\",\"SMA50\",\"SMA50\",\"SMA50\",\"SMA50\",\"SMA50\",\"SMA50\",\"SMA50\",\"SMA50\",\"SMA50\",\"SMA50\",\"SMA50\",\"SMA50\",\"SMA50\",\"SMA50\",\"SMA50\",\"SMA50\",\"SMA50\",\"SMA50\",\"SMA50\",\"SMA50\",\"SMA50\",\"SMA50\",\"SMA50\",\"SMA50\",\"SMA50\",\"SMA50\",\"SMA50\",\"SMA50\",\"SMA50\",\"SMA50\",\"SMA50\",\"SMA50\",\"SMA50\",\"SMA50\",\"SMA50\",\"SMA50\",\"SMA50\",\"SMA50\",\"SMA50\",\"SMA50\",\"SMA50\",\"SMA50\",\"SMA50\",\"SMA50\",\"SMA50\",\"SMA50\",\"SMA50\",\"SMA50\",\"SMA50\",\"SMA50\",\"SMA50\",\"SMA50\",\"SMA50\",\"SMA50\",\"SMA50\",\"SMA50\",\"SMA50\",\"SMA50\",\"SMA50\",\"SMA50\",\"SMA50\",\"SMA50\",\"SMA50\",\"SMA50\",\"SMA50\",\"SMA50\",\"SMA50\",\"SMA50\",\"SMA50\",\"SMA50\",\"SMA50\",\"SMA50\",\"SMA50\",\"SMA50\",\"SMA50\",\"SMA50\",\"SMA50\",\"SMA50\",\"SMA50\",\"SMA50\",\"SMA50\",\"SMA50\",\"SMA50\",\"SMA50\",\"SMA50\",\"SMA50\",\"SMA50\",\"SMA50\",\"SMA50\",\"SMA50\",\"SMA50\",\"SMA50\",\"SMA50\",\"SMA50\",\"SMA50\",\"SMA50\",\"SMA50\",\"SMA50\",\"SMA50\",\"SMA50\",\"SMA50\",\"SMA50\",\"SMA50\",\"SMA50\",\"SMA50\",\"SMA50\",\"SMA50\",\"SMA50\",\"SMA50\",\"SMA50\",\"SMA50\",\"SMA50\",\"SMA50\",\"SMA50\",\"SMA50\",\"SMA50\",\"SMA50\",\"SMA50\",\"SMA50\",\"SMA50\",\"SMA50\",\"SMA50\",\"SMA50\",\"SMA50\",\"SMA50\",\"SMA50\",\"SMA50\",\"SMA50\",\"SMA50\",\"SMA50\",\"SMA50\",\"SMA50\",\"SMA50\",\"SMA50\",\"SMA50\",\"SMA50\",\"SMA50\",\"SMA50\",\"SMA50\",\"SMA50\",\"SMA50\",\"SMA50\",\"SMA50\",\"SMA50\",\"SMA50\",\"SMA50\",\"SMA50\",\"SMA50\",\"SMA50\",\"SMA50\",\"SMA50\",\"SMA50\",\"SMA50\",\"SMA50\",\"SMA50\",\"SMA50\",\"SMA50\",\"SMA50\",\"SMA50\",\"SMA50\",\"SMA50\",\"SMA50\",\"SMA50\",\"SMA50\",\"SMA50\",\"SMA50\",\"SMA50\",\"SMA50\",\"SMA50\"],\"index\":[2,3,4,5,6,7,8,9,10,11,12,13,14,15,16,17,18,19,20,21,22,23,24,25,26,27,28,29,30,31,32,33,34,35,36,37,38,39,40,41,42,43,44,45,46,47,48,49,50,51,52,53,54,55,56,57,58,59,60,61,62,63,64,65,66,67,68,69,70,71,72,73,74,75,76,77,78,79,80,81,82,83,84,85,86,87,88,89,90,91,92,93,94,95,96,97,98,99,100,101,102,103,104,105,106,107,108,109,110,111,112,113,114,115,116,117,118,119,120,121,122,123,124,125,126,127,128,129,130,131,132,133,134,135,136,137,138,139,140,141,142,143,144,145,146,147,148,149,150,151,152,153,154,155,156,157,158,159,160,161,162,163,164,165,166,167,168,169,170,171,172,173,174,175,176,177,178,179,180,181,182,183,184,185,186,187,188,189,190,191,192,193,194,195,196,197,198,199,200,201,202,203,204,205,206,207,208,209,210,211,212,213,214,215,216,217,218,219,220,221,222,223,224,225,226,227,228,229,230,231,232,233,234,235,236,237,238,239,240,241,242,243,244,245,246,247,248,249,250,251,252,253,254,255,256,257,258,259,260,261,262,263,264,265,266,267,268,269,270,271,272,273,274,275,276,277,278,279,280,281,282,283,284,285,286,287,288,289,290,291,292,293,294,295,296,297,298,299,300,301,302,303,304,305,306,307,308,309,310,311,312,313,314,315,316,317],\"value\":{\"__ndarray__\":\"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\",\"dtype\":\"float64\",\"order\":\"little\",\"shape\":[316]}},\"selected\":{\"id\":\"2946\"},\"selection_policy\":{\"id\":\"2962\"}},\"id\":\"2945\",\"type\":\"ColumnDataSource\"},{\"attributes\":{},\"id\":\"3121\",\"type\":\"UnionRenderers\"},{\"attributes\":{\"coordinates\":null,\"data_source\":{\"id\":\"3090\"},\"glyph\":{\"id\":\"3093\"},\"group\":null,\"hover_glyph\":null,\"muted_glyph\":{\"id\":\"3095\"},\"nonselection_glyph\":{\"id\":\"3094\"},\"selection_glyph\":{\"id\":\"3098\"},\"view\":{\"id\":\"3097\"}},\"id\":\"3096\",\"type\":\"GlyphRenderer\"},{\"attributes\":{\"callback\":null,\"renderers\":[{\"id\":\"2951\"},{\"id\":\"2974\"}],\"tags\":[\"hv_created\"],\"tooltips\":[[\"Variable\",\"@{Variable}\"],[\"index\",\"@{index}\"],[\"value\",\"@{value}\"]]},\"id\":\"2895\",\"type\":\"HoverTool\"},{\"attributes\":{\"bottom_units\":\"screen\",\"coordinates\":null,\"fill_alpha\":0.5,\"fill_color\":\"lightgrey\",\"group\":null,\"left_units\":\"screen\",\"level\":\"overlay\",\"line_alpha\":1.0,\"line_color\":\"black\",\"line_dash\":[4,4],\"line_width\":2,\"right_units\":\"screen\",\"syncable\":false,\"top_units\":\"screen\"},\"id\":\"2921\",\"type\":\"BoxAnnotation\"},{\"attributes\":{\"data\":{\"Close\":{\"__ndarray__\":\"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\",\"dtype\":\"float64\",\"order\":\"little\",\"shape\":[316]},\"index\":[2,3,4,5,6,7,8,9,10,11,12,13,14,15,16,17,18,19,20,21,22,23,24,25,26,27,28,29,30,31,32,33,34,35,36,37,38,39,40,41,42,43,44,45,46,47,48,49,50,51,52,53,54,55,56,57,58,59,60,61,62,63,64,65,66,67,68,69,70,71,72,73,74,75,76,77,78,79,80,81,82,83,84,85,86,87,88,89,90,91,92,93,94,95,96,97,98,99,100,101,102,103,104,105,106,107,108,109,110,111,112,113,114,115,116,117,118,119,120,121,122,123,124,125,126,127,128,129,130,131,132,133,134,135,136,137,138,139,140,141,142,143,144,145,146,147,148,149,150,151,152,153,154,155,156,157,158,159,160,161,162,163,164,165,166,167,168,169,170,171,172,173,174,175,176,177,178,179,180,181,182,183,184,185,186,187,188,189,190,191,192,193,194,195,196,197,198,199,200,201,202,203,204,205,206,207,208,209,210,211,212,213,214,215,216,217,218,219,220,221,222,223,224,225,226,227,228,229,230,231,232,233,234,235,236,237,238,239,240,241,242,243,244,245,246,247,248,249,250,251,252,253,254,255,256,257,258,259,260,261,262,263,264,265,266,267,268,269,270,271,272,273,274,275,276,277,278,279,280,281,282,283,284,285,286,287,288,289,290,291,292,293,294,295,296,297,298,299,300,301,302,303,304,305,306,307,308,309,310,311,312,313,314,315,316,317]},\"selected\":{\"id\":\"2937\"},\"selection_policy\":{\"id\":\"2960\"}},\"id\":\"2936\",\"type\":\"ColumnDataSource\"},{\"attributes\":{},\"id\":\"2969\",\"type\":\"Selection\"},{\"attributes\":{\"line_color\":\"#e5ae38\",\"line_width\":2,\"x\":{\"field\":\"index\"},\"y\":{\"field\":\"value\"}},\"id\":\"2991\",\"type\":\"Line\"},{\"attributes\":{},\"id\":\"2932\",\"type\":\"AllLabels\"},{\"attributes\":{\"line_color\":\"lightgray\",\"line_width\":2,\"x\":{\"field\":\"index\"},\"y\":{\"field\":\"Close\"}},\"id\":\"2944\",\"type\":\"Line\"},{\"attributes\":{\"source\":{\"id\":\"3099\"}},\"id\":\"3106\",\"type\":\"CDSView\"},{\"attributes\":{\"margin\":[5,5,5,5],\"name\":\"HSpacer09567\",\"sizing_mode\":\"stretch_width\"},\"id\":\"3270\",\"type\":\"Spacer\"},{\"attributes\":{\"line_alpha\":0.1,\"line_color\":\"#e5ae38\",\"line_width\":2,\"x\":{\"field\":\"index\"},\"y\":{\"field\":\"value\"}},\"id\":\"2972\",\"type\":\"Line\"},{\"attributes\":{\"line_alpha\":0.1,\"line_color\":\"lightgray\",\"line_width\":2,\"x\":{\"field\":\"index\"},\"y\":{\"field\":\"Close\"}},\"id\":\"2940\",\"type\":\"Line\"},{\"attributes\":{\"source\":{\"id\":\"3090\"}},\"id\":\"3097\",\"type\":\"CDSView\"},{\"attributes\":{\"tools\":[{\"id\":\"2894\"},{\"id\":\"2895\"},{\"id\":\"2916\"},{\"id\":\"2917\"},{\"id\":\"2918\"},{\"id\":\"2919\"},{\"id\":\"2920\"}]},\"id\":\"2922\",\"type\":\"Toolbar\"},{\"attributes\":{\"angle\":{\"value\":0},\"fill_alpha\":{\"value\":1.0},\"fill_color\":{\"value\":\"purple\"},\"hatch_alpha\":{\"value\":1.0},\"hatch_color\":{\"value\":\"purple\"},\"hatch_scale\":{\"value\":12.0},\"hatch_weight\":{\"value\":1.0},\"line_alpha\":{\"value\":1.0},\"line_cap\":{\"value\":\"butt\"},\"line_color\":{\"value\":\"purple\"},\"line_dash\":{\"value\":[]},\"line_dash_offset\":{\"value\":0},\"line_join\":{\"value\":\"bevel\"},\"line_width\":{\"value\":1},\"marker\":{\"value\":\"triangle\"},\"size\":{\"value\":14.142135623730951},\"x\":{\"field\":\"index\"},\"y\":{\"field\":\"Close\"}},\"id\":\"3098\",\"type\":\"Scatter\"},{\"attributes\":{},\"id\":\"2987\",\"type\":\"UnionRenderers\"},{\"attributes\":{\"children\":[{\"id\":\"2891\"},{\"id\":\"2899\"},{\"id\":\"3270\"}],\"margin\":[0,0,0,0],\"name\":\"Row09562\",\"tags\":[\"embedded\"]},\"id\":\"2890\",\"type\":\"Row\"},{\"attributes\":{\"coordinates\":null,\"data_source\":{\"id\":\"2968\"},\"glyph\":{\"id\":\"2971\"},\"group\":null,\"hover_glyph\":null,\"muted_glyph\":{\"id\":\"2973\"},\"nonselection_glyph\":{\"id\":\"2972\"},\"selection_glyph\":{\"id\":\"2991\"},\"view\":{\"id\":\"2975\"}},\"id\":\"2974\",\"type\":\"GlyphRenderer\"},{\"attributes\":{\"data\":{\"Variable\":[\"SMA100\",\"SMA100\",\"SMA100\",\"SMA100\",\"SMA100\",\"SMA100\",\"SMA100\",\"SMA100\",\"SMA100\",\"SMA100\",\"SMA100\",\"SMA100\",\"SMA100\",\"SMA100\",\"SMA100\",\"SMA100\",\"SMA100\",\"SMA100\",\"SMA100\",\"SMA100\",\"SMA100\",\"SMA100\",\"SMA100\",\"SMA100\",\"SMA100\",\"SMA100\",\"SMA100\",\"SMA100\",\"SMA100\",\"SMA100\",\"SMA100\",\"SMA100\",\"SMA100\",\"SMA100\",\"SMA100\",\"SMA100\",\"SMA100\",\"SMA100\",\"SMA100\",\"SMA100\",\"SMA100\",\"SMA100\",\"SMA100\",\"SMA100\",\"SMA100\",\"SMA100\",\"SMA100\",\"SMA100\",\"SMA100\",\"SMA100\",\"SMA100\",\"SMA100\",\"SMA100\",\"SMA100\",\"SMA100\",\"SMA100\",\"SMA100\",\"SMA100\",\"SMA100\",\"SMA100\",\"SMA100\",\"SMA100\",\"SMA100\",\"SMA100\",\"SMA100\",\"SMA100\",\"SMA100\",\"SMA100\",\"SMA100\",\"SMA100\",\"SMA100\",\"SMA100\",\"SMA100\",\"SMA100\",\"SMA100\",\"SMA100\",\"SMA100\",\"SMA100\",\"SMA100\",\"SMA100\",\"SMA100\",\"SMA100\",\"SMA100\",\"SMA100\",\"SMA100\",\"SMA100\",\"SMA100\",\"SMA100\",\"SMA100\",\"SMA100\",\"SMA100\",\"SMA100\",\"SMA100\",\"SMA100\",\"SMA100\",\"SMA100\",\"SMA100\",\"SMA100\",\"SMA100\",\"SMA100\",\"SMA100\",\"SMA100\",\"SMA100\",\"SMA100\",\"SMA100\",\"SMA100\",\"SMA100\",\"SMA100\",\"SMA100\",\"SMA100\",\"SMA100\",\"SMA100\",\"SMA100\",\"SMA100\",\"SMA100\",\"SMA100\",\"SMA100\",\"SMA100\",\"SMA100\",\"SMA100\",\"SMA100\",\"SMA100\",\"SMA100\",\"SMA100\",\"SMA100\",\"SMA100\",\"SMA100\",\"SMA100\",\"SMA100\",\"SMA100\",\"SMA100\",\"SMA100\",\"SMA100\",\"SMA100\",\"SMA100\",\"SMA100\",\"SMA100\",\"SMA100\",\"SMA100\",\"SMA100\",\"SMA100\",\"SMA100\",\"SMA100\",\"SMA100\",\"SMA100\",\"SMA100\",\"SMA100\",\"SMA100\",\"SMA100\",\"SMA100\",\"SMA100\",\"SMA100\",\"SMA100\",\"SMA100\",\"SMA100\",\"SMA100\",\"SMA100\",\"SMA100\",\"SMA100\",\"SMA100\",\"SMA100\",\"SMA100\",\"SMA100\",\"SMA100\",\"SMA100\",\"SMA100\",\"SMA100\",\"SMA100\",\"SMA100\",\"SMA100\",\"SMA100\",\"SMA100\",\"SMA100\",\"SMA100\",\"SMA100\",\"SMA100\",\"SMA100\",\"SMA100\",\"SMA100\",\"SMA100\",\"SMA100\",\"SMA100\",\"SMA100\",\"SMA100\",\"SMA100\",\"SMA100\",\"SMA100\",\"SMA100\",\"SMA100\",\"SMA100\",\"SMA100\",\"SMA100\",\"SMA100\",\"SMA100\",\"SMA100\",\"SMA100\",\"SMA100\",\"SMA100\",\"SMA100\",\"SMA100\",\"SMA100\",\"SMA100\",\"SMA100\",\"SMA100\",\"SMA100\",\"SMA100\",\"SMA100\",\"SMA100\",\"SMA100\",\"SMA100\",\"SMA100\",\"SMA100\",\"SMA100\",\"SMA100\",\"SMA100\",\"SMA100\",\"SMA100\",\"SMA100\",\"SMA100\",\"SMA100\",\"SMA100\",\"SMA100\",\"SMA100\",\"SMA100\",\"SMA100\",\"SMA100\",\"SMA100\",\"SMA100\",\"SMA100\",\"SMA100\",\"SMA100\",\"SMA100\",\"SMA100\",\"SMA100\",\"SMA100\",\"SMA100\",\"SMA100\",\"SMA100\",\"SMA100\",\"SMA100\",\"SMA100\",\"SMA100\",\"SMA100\",\"SMA100\",\"SMA100\",\"SMA100\",\"SMA100\",\"SMA100\",\"SMA100\",\"SMA100\",\"SMA100\",\"SMA100\",\"SMA100\",\"SMA100\",\"SMA100\",\"SMA100\",\"SMA100\",\"SMA100\",\"SMA100\",\"SMA100\",\"SMA100\",\"SMA100\",\"SMA100\",\"SMA100\",\"SMA100\",\"SMA100\",\"SMA100\",\"SMA100\",\"SMA100\",\"SMA100\",\"SMA100\",\"SMA100\",\"SMA100\",\"SMA100\",\"SMA100\",\"SMA100\",\"SMA100\",\"SMA100\",\"SMA100\",\"SMA100\",\"SMA100\",\"SMA100\",\"SMA100\",\"SMA100\",\"SMA100\",\"SMA100\",\"SMA100\",\"SMA100\",\"SMA100\",\"SMA100\",\"SMA100\",\"SMA100\",\"SMA100\",\"SMA100\",\"SMA100\",\"SMA100\",\"SMA100\",\"SMA100\",\"SMA100\",\"SMA100\",\"SMA100\",\"SMA100\",\"SMA100\",\"SMA100\",\"SMA100\",\"SMA100\",\"SMA100\",\"SMA100\",\"SMA100\",\"SMA100\",\"SMA100\",\"SMA100\",\"SMA100\",\"SMA100\",\"SMA100\",\"SMA100\"],\"index\":[2,3,4,5,6,7,8,9,10,11,12,13,14,15,16,17,18,19,20,21,22,23,24,25,26,27,28,29,30,31,32,33,34,35,36,37,38,39,40,41,42,43,44,45,46,47,48,49,50,51,52,53,54,55,56,57,58,59,60,61,62,63,64,65,66,67,68,69,70,71,72,73,74,75,76,77,78,79,80,81,82,83,84,85,86,87,88,89,90,91,92,93,94,95,96,97,98,99,100,101,102,103,104,105,106,107,108,109,110,111,112,113,114,115,116,117,118,119,120,121,122,123,124,125,126,127,128,129,130,131,132,133,134,135,136,137,138,139,140,141,142,143,144,145,146,147,148,149,150,151,152,153,154,155,156,157,158,159,160,161,162,163,164,165,166,167,168,169,170,171,172,173,174,175,176,177,178,179,180,181,182,183,184,185,186,187,188,189,190,191,192,193,194,195,196,197,198,199,200,201,202,203,204,205,206,207,208,209,210,211,212,213,214,215,216,217,218,219,220,221,222,223,224,225,226,227,228,229,230,231,232,233,234,235,236,237,238,239,240,241,242,243,244,245,246,247,248,249,250,251,252,253,254,255,256,257,258,259,260,261,262,263,264,265,266,267,268,269,270,271,272,273,274,275,276,277,278,279,280,281,282,283,284,285,286,287,288,289,290,291,292,293,294,295,296,297,298,299,300,301,302,303,304,305,306,307,308,309,310,311,312,313,314,315,316,317],\"value\":{\"__ndarray__\":\"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\",\"dtype\":\"float64\",\"order\":\"little\",\"shape\":[316]}},\"selected\":{\"id\":\"2969\"},\"selection_policy\":{\"id\":\"2987\"}},\"id\":\"2968\",\"type\":\"ColumnDataSource\"},{\"attributes\":{\"data\":{\"Close\":{\"__ndarray__\":\"j8L1KBxssEA=\",\"dtype\":\"float64\",\"order\":\"little\",\"shape\":[1]},\"index\":[101]},\"selected\":{\"id\":\"3091\"},\"selection_policy\":{\"id\":\"3121\"}},\"id\":\"3090\",\"type\":\"ColumnDataSource\"},{\"attributes\":{\"coordinates\":null,\"data_source\":{\"id\":\"2936\"},\"glyph\":{\"id\":\"2939\"},\"group\":null,\"hover_glyph\":null,\"muted_glyph\":{\"id\":\"2941\"},\"nonselection_glyph\":{\"id\":\"2940\"},\"selection_glyph\":{\"id\":\"2944\"},\"view\":{\"id\":\"2943\"}},\"id\":\"2942\",\"type\":\"GlyphRenderer\"},{\"attributes\":{\"line_color\":\"#fc4f30\",\"line_width\":2,\"x\":{\"field\":\"index\"},\"y\":{\"field\":\"value\"}},\"id\":\"2967\",\"type\":\"Line\"},{\"attributes\":{\"source\":{\"id\":\"2936\"}},\"id\":\"2943\",\"type\":\"CDSView\"},{\"attributes\":{\"label\":{\"value\":\"SMA50\"},\"renderers\":[{\"id\":\"2951\"}]},\"id\":\"2966\",\"type\":\"LegendItem\"},{\"attributes\":{\"click_policy\":\"mute\",\"coordinates\":null,\"group\":null,\"items\":[{\"id\":\"2966\"},{\"id\":\"2990\"}],\"location\":[0,0]},\"id\":\"2965\",\"type\":\"Legend\"},{\"attributes\":{\"line_alpha\":0.1,\"line_color\":\"#fc4f30\",\"line_width\":2,\"x\":{\"field\":\"index\"},\"y\":{\"field\":\"value\"}},\"id\":\"2949\",\"type\":\"Line\"},{\"attributes\":{\"line_color\":\"#e5ae38\",\"line_width\":2,\"x\":{\"field\":\"index\"},\"y\":{\"field\":\"value\"}},\"id\":\"2971\",\"type\":\"Line\"},{\"attributes\":{},\"id\":\"2937\",\"type\":\"Selection\"},{\"attributes\":{\"data\":{\"Close\":{\"__ndarray__\":\"AAAAAICBsEA=\",\"dtype\":\"float64\",\"order\":\"little\",\"shape\":[1]},\"index\":[287]},\"selected\":{\"id\":\"3100\"},\"selection_policy\":{\"id\":\"3123\"}},\"id\":\"3099\",\"type\":\"ColumnDataSource\"},{\"attributes\":{},\"id\":\"2960\",\"type\":\"UnionRenderers\"},{\"attributes\":{},\"id\":\"2904\",\"type\":\"LinearScale\"},{\"attributes\":{\"axis_label\":\"Price in $\",\"coordinates\":null,\"formatter\":{\"id\":\"2934\"},\"group\":null,\"major_label_policy\":{\"id\":\"2935\"},\"ticker\":{\"id\":\"2913\"}},\"id\":\"2912\",\"type\":\"LinearAxis\"},{\"attributes\":{\"fill_color\":{\"value\":\"purple\"},\"hatch_color\":{\"value\":\"purple\"},\"line_color\":{\"value\":\"purple\"},\"marker\":{\"value\":\"triangle\"},\"size\":{\"value\":14.142135623730951},\"x\":{\"field\":\"index\"},\"y\":{\"field\":\"Close\"}},\"id\":\"3093\",\"type\":\"Scatter\"},{\"attributes\":{\"coordinates\":null,\"group\":null,\"text\":\"Apple - SMA50, SMA100, Entry and Exit Points\",\"text_color\":\"black\",\"text_font_size\":\"12pt\"},\"id\":\"2900\",\"type\":\"Title\"},{\"attributes\":{\"coordinates\":null,\"data_source\":{\"id\":\"2945\"},\"glyph\":{\"id\":\"2948\"},\"group\":null,\"hover_glyph\":null,\"muted_glyph\":{\"id\":\"2950\"},\"nonselection_glyph\":{\"id\":\"2949\"},\"selection_glyph\":{\"id\":\"2967\"},\"view\":{\"id\":\"2952\"}},\"id\":\"2951\",\"type\":\"GlyphRenderer\"},{\"attributes\":{\"line_alpha\":0.2,\"line_color\":\"#e5ae38\",\"line_width\":2,\"x\":{\"field\":\"index\"},\"y\":{\"field\":\"value\"}},\"id\":\"2973\",\"type\":\"Line\"},{\"attributes\":{\"angle\":{\"value\":3.141592653589793},\"fill_alpha\":{\"value\":0.1},\"fill_color\":{\"value\":\"yellow\"},\"hatch_alpha\":{\"value\":0.1},\"hatch_color\":{\"value\":\"yellow\"},\"line_alpha\":{\"value\":0.1},\"line_color\":{\"value\":\"yellow\"},\"marker\":{\"value\":\"triangle\"},\"size\":{\"value\":14.142135623730951},\"x\":{\"field\":\"index\"},\"y\":{\"field\":\"Close\"}},\"id\":\"3103\",\"type\":\"Scatter\"},{\"attributes\":{},\"id\":\"2962\",\"type\":\"UnionRenderers\"},{\"attributes\":{\"line_alpha\":0.2,\"line_color\":\"#fc4f30\",\"line_width\":2,\"x\":{\"field\":\"index\"},\"y\":{\"field\":\"value\"}},\"id\":\"2950\",\"type\":\"Line\"},{\"attributes\":{},\"id\":\"2909\",\"type\":\"BasicTicker\"},{\"attributes\":{},\"id\":\"2946\",\"type\":\"Selection\"},{\"attributes\":{\"axis\":{\"id\":\"2912\"},\"coordinates\":null,\"dimension\":1,\"grid_line_color\":null,\"group\":null,\"ticker\":null},\"id\":\"2915\",\"type\":\"Grid\"},{\"attributes\":{\"axis_label\":\"\",\"coordinates\":null,\"formatter\":{\"id\":\"2931\"},\"group\":null,\"major_label_policy\":{\"id\":\"2932\"},\"ticker\":{\"id\":\"2909\"}},\"id\":\"2908\",\"type\":\"LinearAxis\"},{\"attributes\":{},\"id\":\"2906\",\"type\":\"LinearScale\"},{\"attributes\":{\"below\":[{\"id\":\"2908\"}],\"center\":[{\"id\":\"2911\"},{\"id\":\"2915\"}],\"height\":400,\"left\":[{\"id\":\"2912\"}],\"margin\":[5,5,5,5],\"min_border_bottom\":10,\"min_border_left\":10,\"min_border_right\":10,\"min_border_top\":10,\"renderers\":[{\"id\":\"2942\"},{\"id\":\"2951\"},{\"id\":\"2974\"},{\"id\":\"3096\"},{\"id\":\"3105\"}],\"right\":[{\"id\":\"2965\"}],\"sizing_mode\":\"fixed\",\"title\":{\"id\":\"2900\"},\"toolbar\":{\"id\":\"2922\"},\"width\":1000,\"x_range\":{\"id\":\"2892\"},\"x_scale\":{\"id\":\"2904\"},\"y_range\":{\"id\":\"2893\"},\"y_scale\":{\"id\":\"2906\"}},\"id\":\"2899\",\"subtype\":\"Figure\",\"type\":\"Plot\"},{\"attributes\":{\"source\":{\"id\":\"2945\"}},\"id\":\"2952\",\"type\":\"CDSView\"},{\"attributes\":{\"source\":{\"id\":\"2968\"}},\"id\":\"2975\",\"type\":\"CDSView\"},{\"attributes\":{\"axis\":{\"id\":\"2908\"},\"coordinates\":null,\"grid_line_color\":null,\"group\":null,\"ticker\":null},\"id\":\"2911\",\"type\":\"Grid\"},{\"attributes\":{},\"id\":\"2913\",\"type\":\"BasicTicker\"},{\"attributes\":{},\"id\":\"3091\",\"type\":\"Selection\"},{\"attributes\":{\"line_color\":\"lightgray\",\"line_width\":2,\"x\":{\"field\":\"index\"},\"y\":{\"field\":\"Close\"}},\"id\":\"2939\",\"type\":\"Line\"},{\"attributes\":{\"line_color\":\"#fc4f30\",\"line_width\":2,\"x\":{\"field\":\"index\"},\"y\":{\"field\":\"value\"}},\"id\":\"2948\",\"type\":\"Line\"},{\"attributes\":{\"angle\":{\"value\":3.141592653589793},\"fill_color\":{\"value\":\"yellow\"},\"hatch_color\":{\"value\":\"yellow\"},\"line_color\":{\"value\":\"yellow\"},\"marker\":{\"value\":\"triangle\"},\"size\":{\"value\":14.142135623730951},\"x\":{\"field\":\"index\"},\"y\":{\"field\":\"Close\"}},\"id\":\"3102\",\"type\":\"Scatter\"},{\"attributes\":{\"angle\":{\"value\":3.141592653589793},\"fill_alpha\":{\"value\":0.2},\"fill_color\":{\"value\":\"yellow\"},\"hatch_alpha\":{\"value\":0.2},\"hatch_color\":{\"value\":\"yellow\"},\"line_alpha\":{\"value\":0.2},\"line_color\":{\"value\":\"yellow\"},\"marker\":{\"value\":\"triangle\"},\"size\":{\"value\":14.142135623730951},\"x\":{\"field\":\"index\"},\"y\":{\"field\":\"Close\"}},\"id\":\"3104\",\"type\":\"Scatter\"},{\"attributes\":{},\"id\":\"2935\",\"type\":\"AllLabels\"},{\"attributes\":{},\"id\":\"2934\",\"type\":\"BasicTickFormatter\"}],\"root_ids\":[\"2890\"]},\"title\":\"Bokeh Application\",\"version\":\"2.4.2\"}};\n",
       "    var render_items = [{\"docid\":\"bed5ba08-a5ed-4541-b45c-10263cf32179\",\"root_ids\":[\"2890\"],\"roots\":{\"2890\":\"63a5f6ed-3080-47d2-87ed-81b6b5cc4a28\"}}];\n",
       "    root.Bokeh.embed.embed_items_notebook(docs_json, render_items);\n",
       "  }\n",
       "  if (root.Bokeh !== undefined && root.Bokeh.Panel !== undefined) {\n",
       "    embed_document(root);\n",
       "  } else {\n",
       "    var attempts = 0;\n",
       "    var timer = setInterval(function(root) {\n",
       "      if (root.Bokeh !== undefined && root.Bokeh.Panel !== undefined) {\n",
       "        clearInterval(timer);\n",
       "        embed_document(root);\n",
       "      } else if (document.readyState == \"complete\") {\n",
       "        attempts++;\n",
       "        if (attempts > 200) {\n",
       "          clearInterval(timer);\n",
       "          console.log(\"Bokeh: ERROR: Unable to run BokehJS code because BokehJS library is missing\");\n",
       "        }\n",
       "      }\n",
       "    }, 25, root)\n",
       "  }\n",
       "})(window);</script>"
      ],
      "text/plain": [
       ":Overlay\n",
       "   .Curve.I          :Curve   [index]   (Close)\n",
       "   .NdOverlay.I      :NdOverlay   [Variable]\n",
       "      :Curve   [index]   (value)\n",
       "   .Scatter.Close.I  :Scatter   [index]   (Close)\n",
       "   .Scatter.Close.II :Scatter   [index]   (Close)"
      ]
     },
     "execution_count": 155,
     "metadata": {
      "application/vnd.holoviews_exec.v0+json": {
       "id": "2890"
      }
     },
     "output_type": "execute_result"
    }
   ],
   "source": [
    "exit = signals_df[signals_df['Entry/Exit'] == -1.0]['Close'].hvplot.scatter(\n",
    "    color='yellow',\n",
    "    marker='v',\n",
    "    size=200,\n",
    "    legend=False,\n",
    "    ylabel='Price in $',\n",
    "    width=1000,\n",
    "    height=400\n",
    ")\n",
    "entry = signals_df[signals_df['Entry/Exit'] == 1.0]['Close'].hvplot.scatter(\n",
    "    color='purple',\n",
    "    marker='^',\n",
    "    size=200,\n",
    "    legend=False,\n",
    "    ylabel='Price in $',\n",
    "    width=1000,\n",
    "    height=400\n",
    ")\n",
    "\n",
    "# Visualize close price for the investment\n",
    "security_close = signals_df[['Close']].hvplot(\n",
    "    line_color='lightgray',\n",
    "    ylabel='Price in $',\n",
    "    width=1000,\n",
    "    height=400\n",
    ")\n",
    "\n",
    "# Visualize moving averages\n",
    "moving_avgs = signals_df[['SMA50', 'SMA100']].hvplot(\n",
    "    ylabel='Price in $',\n",
    "    width=1000,\n",
    "    height=400\n",
    ")\n",
    "\n",
    "# Create the overlay plot\n",
    "entry_exit_plot = security_close * moving_avgs * entry * exit\n",
    "\n",
    "# Show the plot\n",
    "entry_exit_plot.opts(\n",
    "    title=\"Apple - SMA50, SMA100, Entry and Exit Points\"\n",
    ")"
   ]
  },
  {
   "cell_type": "code",
   "execution_count": null,
   "id": "f959f2a2-cfee-43f3-83df-88230349b833",
   "metadata": {},
   "outputs": [],
   "source": [
    "# Use Support Vector Machines (SVM) to create a classifier model known as a Support Vector Classifier (SVC)\n",
    "# Create a function to find the optimal components for the trading algorithm\n",
    "# Filter the date index and close columns\n",
    "\n",
    "\n",
    "import numpy as np\n",
    "from sklearn.pipeline import make_pipeline\n",
    "from sklearn.preprocessing import StandardScaler\n",
    "from sklearn.svm import SVC\n",
    "\n",
    "\n",
    "def trading_algo(short_window_input, long_window_input, training_period_input):\n",
    "    signals_df = sp500_df.loc[:, [\"Close\"]]\n",
    "\n",
    "    # Use the pct_change function to generate  returns from close prices\n",
    "    signals_df[\"Actual Returns\"] = signals_df[\"Close\"].pct_change()\n",
    "\n",
    "    # Drop all NaN values from the DataFrame\n",
    "    signals_df = signals_df.dropna()\n",
    "\n",
    "\n",
    "    short_window = short_window_input\n",
    "    long_window =long_window_input\n",
    "\n",
    "    # Generate the fast and slow simple moving averages (4 and 100 days, respectively)\n",
    "    signals_df['SMA_Fast'] = signals_df['Close'].rolling(window=short_window).mean()\n",
    "    signals_df['SMA_Slow'] = signals_df['Close'].rolling(window=long_window).mean()\n",
    "\n",
    "    signals_df = signals_df.dropna()\n",
    "\n",
    "\n",
    "    # Initialize the new Signal column\n",
    "    signals_df['Signal'] = 0.0\n",
    "\n",
    "    # When Actual Returns are greater than or equal to 0, generate signal to buy stock long\n",
    "    signals_df.loc[(signals_df['Actual Returns'] >= 0), 'Signal'] = 1\n",
    "\n",
    "    # When Actual Returns are less than 0, generate signal to sell stock short\n",
    "    signals_df.loc[(signals_df['Actual Returns'] < 0), 'Signal'] = 0\n",
    "\n",
    "\n",
    "    # Calculate the strategy returns and add them to the signals_df DataFrame\n",
    "    signals_df['Strategy Returns'] = signals_df['Actual Returns'] * signals_df['Signal'].shift()\n",
    "\n",
    "    # Assign a copy of the sma_fast and sma_slow columns to a features DataFrame called X\n",
    "    X = signals_df[['SMA_Fast', 'SMA_Slow']].shift().dropna()\n",
    "\n",
    "    # Create the target set selecting the Signal column and assiging it to y\n",
    "    y = signals_df['Signal']\n",
    "\n",
    "    # Select the start of the training period\n",
    "    training_begin = X.index.min()\n",
    "\n",
    "    # Select the ending period for the training data with an offset of 3 months\n",
    "    training_end = X.index.min() + DateOffset(months=training_period_input)\n",
    "\n",
    "\n",
    "    # Generate the X_train and y_train DataFrames\n",
    "    X_train = X.loc[training_begin:training_end]\n",
    "    y_train = y.loc[training_begin:training_end]\n",
    "\n",
    "\n",
    "    # Generate the X_test and y_test DataFrames\n",
    "    X_test = X.loc[training_end+DateOffset(hours=1):]\n",
    "    y_test = y.loc[training_end+DateOffset(hours=1):]\n",
    "\n",
    "\n",
    "    # Scale the features DataFrames\n",
    "\n",
    "    # Create a StandardScaler instance\n",
    "    scaler = StandardScaler()\n",
    "\n",
    "    # Apply the scaler model to fit the X-train data\n",
    "    X_scaler = scaler.fit(X_train)\n",
    "\n",
    "    # Transform the X_train and X_test DataFrames using the X_scaler\n",
    "    X_train_scaled = X_scaler.transform(X_train)\n",
    "    X_test_scaled = X_scaler.transform(X_test)\n",
    "    X_test_scaled\n",
    "\n",
    "    # From SVM, instantiate SVC classifier model instance\n",
    "    svm_model = svm.SVC()\n",
    "\n",
    "    # Fit the model to the data using the training data\n",
    "    svm_model = svm_model.fit(X_train_scaled, y_train)\n",
    "\n",
    "    # Use the testing data to make the model predictions\n",
    "    svm_pred = svm_model.predict(X_test_scaled)\n",
    "\n",
    "\n",
    "    # Use a classification report to evaluate the model using the predictions and testing data\n",
    "    svm_testing_report = classification_report(y_test, svm_pred)\n",
    "\n",
    "\n",
    "    # Create a new empty predictions DataFrame.\n",
    "\n",
    "    # Create a predictions DataFrame\n",
    "    predictions_df = pd.DataFrame(index=X_test.index)\n",
    "\n",
    "    # Add the SVM model predictions to the DataFrame\n",
    "    predictions_df['Predicted'] = svm_pred\n",
    "\n",
    "    # Add the actual returns to the DataFrame\n",
    "    predictions_df['Actual Returns'] = signals_df[\"Actual Returns\"]\n",
    "\n",
    "    # Add the strategy returns to the DataFrame\n",
    "    predictions_df['Strategy Returns'] = signals_df[\"Actual Returns\"] * predictions_df[\"Predicted\"]\n",
    "\n",
    "\n",
    "  \n",
    "    # Create the column names for the dataframe to find the optimal components for the algorithm. The column names will be generated by the for loop\n",
    "    predictions_df[f'{short_window}_{long_window}_{training_period_input}'] = (1+predictions_df[\"Strategy Returns\"]).cumprod()\n",
    "    # Plot the actual returns versus the strategy returns\n",
    "    #(1+predictions_df[[\"Actual Returns\", \"Strategy Returns\"]]).cumprod().plot(title= f\"{short_window}, {long_window}, {training_period_input}\")\n",
    "\n",
    "# Building the Decision Tree Model on our dataset   \n",
    "# from sklearn.tree import DecisionTreeRegressor\n",
    "# #DT_model = DecisionTreeRegressor(max_depth=5).fit(X_train, y_train)\n",
    "# DT_model = DecisionTreeRegressor(max_depth=5).fit(X_train_scaled, y_train)\n",
    "# DT_predict = DT_model.predict(X_test) \n",
    "#Predictions on Testing data\n",
    "# print(DT_predict)\n",
    "\n",
    "# # example of training a final classification model\n",
    "# from sklearn.linear_model import LogisticRegression\n",
    "# from sklearn.datasets import make_blobs\n",
    "# # generate 2d classification dataset\n",
    "# X, y = make_blobs(n_samples=100, centers=2, n_features=2, random_state=1)\n",
    "# # fit final model\n",
    "# model = LogisticRegression()\n",
    "# model.fit(X, y)\n",
    "# model.predict(AAPL_df)\n",
    "\n",
    "    \n",
    "    "
   ]
  },
  {
   "cell_type": "code",
   "execution_count": null,
   "id": "3566de6a-bda2-4a92-9708-d3be1b41497e",
   "metadata": {},
   "outputs": [],
   "source": [
    "# Next Steps by Attempting Unsupervised Machine Learning using K-values"
   ]
  },
  {
   "cell_type": "markdown",
   "id": "j_tX2ULC_XFK",
   "metadata": {
    "id": "j_tX2ULC_XFK"
   },
   "source": [
    "Attempting code for Unsupervised learning"
   ]
  },
  {
   "cell_type": "code",
   "execution_count": null,
   "id": "78xBsbKQqKWV",
   "metadata": {
    "id": "78xBsbKQqKWV"
   },
   "outputs": [],
   "source": [
    "# Imports\n",
    "#import pandas as pd\n",
    "#import numpy as np\n",
    "#from pathlib import Path\n",
    "#import hvplot.pandas\n",
    "#import matplotlib.pyplot as plt\n",
    "from sklearn import svm\n",
    "from sklearn.preprocessing import StandardScaler\n",
    "from pandas.tseries.offsets import DateOffset\n",
    "from sklearn.metrics import classification_report\n",
    "from sklearn.metrics import mean_squared_error\n",
    "from sklearn.linear_model import LinearRegression\n",
    "from sklearn.preprocessing import StandardScaler\n",
    "\n"
   ]
  },
  {
   "cell_type": "code",
   "execution_count": null,
   "id": "0nydRzR77_j4",
   "metadata": {
    "colab": {
     "base_uri": "https://localhost:8080/",
     "height": 389
    },
    "id": "0nydRzR77_j4",
    "outputId": "ff68a2cb-17cd-4932-90f8-2259d490d2f3"
   },
   "outputs": [],
   "source": [
    "from sklearn.linear_model import SGDClassifier\n",
    "from sklearn.datasets import make_classification\n",
    "import numpy as np\n",
    "\n",
    "   # Assign a copy of the sma_fast and sma_slow columns to a features DataFrame called X\n",
    "X = signals_df[['SMA_Fast', 'SMA_Slow']].shift().dropna()\n",
    "\n",
    "    # Create the target set selecting the Signal column and assiging it to y\n",
    "y = signals_df['Signal']\n",
    "\n",
    "rng = np.random.RandomState(0)\n",
    "# X, y = make_classification(n_features=5, random_state=rng)\n",
    "\n",
    "# We are testing the SGDCClassifier unsupervised machine learning here\n",
    "sgd = SGDClassifier(random_state=rng)\n",
    "\n",
    "sgd.fit(X, y).coef_\n",
    "\n",
    "from sklearn.model_selection import KFold\n",
    "import numpy as np\n",
    "\n",
    "# We are testing the KFold unsupervised machine learning here\n",
    "\n",
    "# X = y = np.arange(10)\n",
    "# rng = np.random.RandomState(0)\n",
    "cv = KFold(n_splits=2, shuffle=True, random_state=rng)\n",
    "\n",
    "for train, test in cv.split(X, y):\n",
    "  print(train, test)\n",
    "\n",
    "for train, test in cv.split(X, y):\n",
    "  print(train, test)\n",
    "\n",
    "scaler = StandardScaler()\n",
    "\n",
    "from sklearn.ensemble import RandomForestClassifier\n",
    "from sklearn.datasets import make_classification\n",
    "from sklearn.model_selection import cross_val_score\n",
    "import numpy as np\n",
    "\n",
    "# We are testing the RandomForestClassifier unsupervised machine learning here\n",
    "rf_123 = RandomForestClassifier(random_state=123)\n",
    "cross_val_score(rf_123, X, y)\n",
    "\n",
    "rf_inst = RandomForestClassifier(random_state=np.random.RandomState(0))\n",
    "cross_val_score(rf_inst, X, y)"
   ]
  },
  {
   "cell_type": "code",
   "execution_count": null,
   "id": "jYKDwxIsEFN2",
   "metadata": {
    "id": "jYKDwxIsEFN2"
   },
   "outputs": [],
   "source": [
    "import numpy as np\n",
    "\n",
    "import scipy.stats as sp\n",
    "class GaussianMixModel(object):\n",
    "    def __init__(self, X, k=2):\n",
    "        # Algorithm can work for any number of columns in dataset\n",
    "        X = np.asarray(X)\n",
    "        self.m, self.n = X.shape\n",
    "        self.data = X.copy()\n",
    "        print (np.mean(X))\n",
    "        # number of mixtures\n",
    "        self.k = k\n",
    "\n",
    "    def _init(self):\n",
    "        # init mixture means/sigmas\n",
    "        self.mean_arr = np.asmatrix(np.random.random((self.k, self.n))+np.mean(self.data))\n",
    "        #self.mean_arr[0]=0;\n",
    "        #self.mean_arr[1]=25;\n",
    "        self.sigma_arr = np.array([np.asmatrix(np.identity(self.n)) for i in range(self.k)])\n",
    "        self.phi = np.ones(self.k)/self.k\n",
    "        self.Z = np.asmatrix(np.empty((self.m, self.k), dtype=float))\n",
    "        #Z Latent Variable giving probability of each point for each distribution\n",
    "\n",
    "    def fit(self, tol=1e-4):\n",
    "        # Algorithm will run unti max of log-likelihood is achieved\n",
    "        self._init()\n",
    "        num_iters = 0\n",
    "        logl = 1\n",
    "        previous_logl = 0\n",
    "        while(logl-previous_logl > tol):\n",
    "            previous_logl = self.loglikelihood()\n",
    "            self.e_step()\n",
    "            self.m_step()\n",
    "            num_iters += 1\n",
    "            logl = self.loglikelihood()\n",
    "            print('Iteration %d: log-likelihood is %.6f'%(num_iters, logl))\n",
    "        print('Terminate at %d-th iteration:log-likelihood is %.6f'%(num_iters, logl))\n",
    "\n",
    "    def loglikelihood(self):\n",
    "        logl = 0\n",
    "        for i in range(self.m):\n",
    "            tmp = 0\n",
    "            for j in range(self.k):\n",
    "                #print(self.sigma_arr[j])\n",
    "                tmp += sp.multivariate_normal.pdf(self.data[i, :],self.mean_arr[j, :].A1,self.sigma_arr[j, :]) * self.phi[j]\n",
    "            logl += np.log(tmp)\n",
    "        return logl\n",
    "\n",
    "\n",
    "\n",
    "\n",
    "    def e_step(self):\n",
    "        #Finding probability of each point belonging to each pdf and putting it in latent variable Z\n",
    "        for i in range(self.m):\n",
    "            den = 0\n",
    "            for j in range(self.k):\n",
    "                #print (self.data[i, :])\n",
    "                num = sp.multivariate_normal.pdf(self.data[i, :],\n",
    "                                                       self.mean_arr[j].A1,\n",
    "                                                       self.sigma_arr[j]) *\\\n",
    "                      self.phi[j]\n",
    "                den += num\n",
    "\n",
    "                self.Z[i, j] = num\n",
    "            self.Z[i, :] /= den\n",
    "            assert self.Z[i, :].sum() - 1 < 1e-4  # Program stop if this condition is false\n",
    "\n",
    "    def m_step(self):\n",
    "        #Updating mean and variance\n",
    "        for j in range(self.k):\n",
    "            const = self.Z[:, j].sum()\n",
    "            self.phi[j] = 1/self.m * const\n",
    "            _mu_j = np.zeros(self.n)\n",
    "            _sigma_j = np.zeros((self.n, self.n))\n",
    "            for i in range(self.m):\n",
    "                _mu_j += (self.data[i, :] * self.Z[i, j])\n",
    "                _sigma_j += self.Z[i, j] * ((self.data[i, :] - self.mean_arr[j, :]).T * (self.data[i, :] - self.mean_arr[j, :]))\n",
    "\n",
    "            self.mean_arr[j] = _mu_j / const\n",
    "            self.sigma_arr[j] = _sigma_j / const\n"
   ]
  },
  {
   "cell_type": "markdown",
   "id": "zoGNtB1NUn_N",
   "metadata": {
    "id": "zoGNtB1NUn_N"
   },
   "source": [
    "Unsupervised machine learning model to find clustering in AAPL Stock Price"
   ]
  },
  {
   "cell_type": "markdown",
   "id": "1pXr1whgZjLW",
   "metadata": {
    "id": "1pXr1whgZjLW"
   },
   "source": [
    "\n",
    "Here we combine our financial Python programming skills with the new unsupervised learning skills to \n",
    "\n",
    "The steps are broken out into the following sections:\n",
    "\n",
    "Import the Data \n",
    "\n",
    "The stock data is from \n",
    "url_gh = 'https://raw.githubusercontent.com/KaliPatternbraker/Project_2_Team_3/main/aapl_stock_price_Jan_01_2021_to_April_7_2022.csv'\n",
    "AAPL_df = pd.read_csv(url_gh)\n",
    "\n",
    "Prepare the Data \n",
    "Find the Best Value for k Using the Original Data\n",
    "Cluster AAPL stock prices with K-means Using the Original Data\n",
    "Optimize Clusters with Principal Component Analysis\n",
    "Find the Best Value for k Using the PCA Data\n",
    "Cluster the AAPL stock prices with K-means Using the PCA Data\n",
    "Visualize and Compare the Results"
   ]
  },
  {
   "cell_type": "markdown",
   "id": "xWCfscXIZL-Y",
   "metadata": {
    "id": "xWCfscXIZL-Y"
   },
   "source": [
    "This section imports the data into a new DataFrame. It follows these steps:\n",
    "\n",
    "Read the “url_gh” AAPL stock data file from a web url_gh into a DataFrame, and use index_col=\"AAPL_id\" to set the AAPL stock price as the index. Review the DataFrame.\n",
    "\n",
    "Generate the summary statistics, and use HvPlot to visualize our data to observe what our DataFrame contains.\n",
    "\n",
    "Rewind: The Pandasdescribe()function generates summary statistics for a DataFrame."
   ]
  },
  {
   "cell_type": "code",
   "execution_count": null,
   "id": "eEdVK_yQZqJI",
   "metadata": {
    "id": "eEdVK_yQZqJI"
   },
   "outputs": [],
   "source": [
    "# Import required libraries and dependencies\n",
    "import pandas as pd\n",
    "import hvplot.pandas\n",
    "# from path import Path\n",
    "from sklearn.cluster import KMeans\n",
    "from sklearn.decomposition import PCA\n",
    "from sklearn.preprocessing import StandardScaler"
   ]
  },
  {
   "cell_type": "code",
   "execution_count": null,
   "id": "ptSZRoYIp14a",
   "metadata": {
    "colab": {
     "base_uri": "https://localhost:8080/",
     "height": 206
    },
    "id": "ptSZRoYIp14a",
    "outputId": "16f088e0-45c8-40b5-d23d-e30977a1ab23"
   },
   "outputs": [],
   "source": [
    "url_gh = 'https://raw.githubusercontent.com/KaliPatternbraker/Project_2_Team_3/main/aapl_stock_price_Jan_01_2021_to_April_7_2022.csv'\n",
    "AAPL_df = pd.read_csv(url_gh)\n",
    "\n",
    "# Full file_path name = './Users/kalyana/Desktop/Project_2_Team_3/Project_2_Team_3/aapl_stock_price_Jan_01_2021_to_April_7_2022.csv\n",
    "# This is path name of csv file: Project_2_Team_3/aapl_stock_price_Jan_01_2021_to_April_7_2022.csv\n",
    "\n",
    "#file_path = './aapl_stock_price_Jan_01_2021_to_April_7_2022.csv'\n",
    "\n",
    "#commenting out the code below because it worked n jupyter lab but not in Google Colab\n",
    "#AAPL_df = pd.read_csv(Path(file_path),index_col='Date', parse_dates=True, infer_datetime_format=True)\n",
    "\n",
    "AAPL_df['Adj Close'] = AAPL_df['Close'].pct_change()\n",
    "\n",
    "AAPL_df = AAPL_df.dropna()\n",
    "\n",
    "AAPL_df.head()\n"
   ]
  },
  {
   "cell_type": "code",
   "execution_count": null,
   "id": "F0jPc3-3Z3iG",
   "metadata": {
    "id": "F0jPc3-3Z3iG"
   },
   "outputs": [],
   "source": []
  },
  {
   "cell_type": "code",
   "execution_count": null,
   "id": "8fjGkLMMZ31z",
   "metadata": {
    "colab": {
     "base_uri": "https://localhost:8080/",
     "height": 300
    },
    "id": "8fjGkLMMZ31z",
    "outputId": "8ab41dc0-d607-44ed-8e83-10a6a7194a6c"
   },
   "outputs": [],
   "source": [
    "# Generate summary statistics\n",
    "AAPL_df.describe()"
   ]
  },
  {
   "cell_type": "code",
   "execution_count": null,
   "id": "smwD2dC2cPs3",
   "metadata": {
    "colab": {
     "base_uri": "https://localhost:8080/",
     "height": 17
    },
    "id": "smwD2dC2cPs3",
    "outputId": "9f47b745-50f5-4eff-eb78-d8f011eaff76"
   },
   "outputs": [],
   "source": [
    "# Plot your data to see what's in your DataFrame\n",
    "AAPL_df.hvplot.line(\n",
    "    width=800,\n",
    "    height=400,\n",
    "    rot=90\n",
    ")"
   ]
  },
  {
   "cell_type": "markdown",
   "id": "o59IlXu2cbAD",
   "metadata": {
    "id": "o59IlXu2cbAD"
   },
   "source": [
    "Prepare the Data\n",
    "This section prepares the data before running the K-Means algorithm. It follows these steps:\n",
    "\n",
    "Use the StandardScaler module from scikit-learn to normalize the CSV file data. This will require us to utilize the fit_transform function.\n",
    "\n",
    "Create a DataFrame that contains the scaled data. Be sure to set the stock_price index from the original DataFrame as the index for the new DataFrame. Review the resulting DataFrame."
   ]
  },
  {
   "cell_type": "code",
   "execution_count": null,
   "id": "wowXX-hucUI2",
   "metadata": {
    "colab": {
     "base_uri": "https://localhost:8080/",
     "height": 371
    },
    "id": "wowXX-hucUI2",
    "outputId": "b7754b0c-9f7c-458b-853a-9e7440f7c5bc"
   },
   "outputs": [],
   "source": [
    "from pandas.core.arrays import string_\n",
    "AAPL_df\n",
    "\n",
    "\n",
    "# Use the `StandardScaler()` module from scikit-learn to normalize the data from the CSV file\n",
    "scaled_data = StandardScaler().fit_transform(AAPL_df)\n",
    "scaled_data"
   ]
  },
  {
   "cell_type": "code",
   "execution_count": null,
   "id": "qC-_Alc7cv6b",
   "metadata": {
    "colab": {
     "base_uri": "https://localhost:8080/",
     "height": 240
    },
    "id": "qC-_Alc7cv6b",
    "outputId": "0e1f7aaa-bf55-4a58-be86-f97dc53d8e92"
   },
   "outputs": [],
   "source": [
    "# Create a DataFrame with the scaled data\n",
    "df_market_data_scaled = pd.DataFrame(\n",
    "    scaled_data,\n",
    "    columns=df_market_data.columns\n",
    ")\n",
    "\n",
    "# Copy the crypto names from the original data\n",
    "df_market_data_scaled[\"coin_id\"] = df_market_data.index\n",
    "\n",
    "# Set the coinid column as index\n",
    "df_market_data_scaled = df_market_data_scaled.set_index(\"coin_id\")\n",
    "\n",
    "# Display sample data\n",
    "df_market_data_scaled.head()"
   ]
  },
  {
   "cell_type": "markdown",
   "id": "Pp9qyEYyc74D",
   "metadata": {
    "id": "Pp9qyEYyc74D"
   },
   "source": [
    "Find the Best Value for k Using the Original Data\n",
    "In this section, you will use the elbow method to find the best value for k.\n",
    "\n",
    "Code the elbow method algorithm to find the best value for k. Use a range from 1 to 11.\n",
    "\n",
    "Plot a line chart with all the inertia values computed with the different values of k to visually identify the optimal value for k.\n",
    "\n",
    "Answer the following question: What is the best value for k?"
   ]
  },
  {
   "cell_type": "code",
   "execution_count": null,
   "id": "enFf2ci0c34u",
   "metadata": {
    "colab": {
     "base_uri": "https://localhost:8080/"
    },
    "id": "enFf2ci0c34u",
    "outputId": "803da750-0c3a-4a91-8365-17e8350ee554"
   },
   "outputs": [],
   "source": [
    "# Create a list with the number of k-values to try\n",
    "# Use a range from 1 to 11\n",
    "k_values = list(range(1, 11))\n",
    "k_values"
   ]
  },
  {
   "cell_type": "code",
   "execution_count": null,
   "id": "tdFGJcVWdEew",
   "metadata": {
    "id": "tdFGJcVWdEew"
   },
   "outputs": [],
   "source": [
    "# Create an empy list to store the inertia values\n",
    "inertia = []"
   ]
  },
  {
   "cell_type": "code",
   "execution_count": null,
   "id": "dn5_j0pidHaO",
   "metadata": {
    "colab": {
     "base_uri": "https://localhost:8080/",
     "height": 222
    },
    "id": "dn5_j0pidHaO",
    "outputId": "ca964eca-d05f-4669-abdb-32a9764ecd93"
   },
   "outputs": [],
   "source": [
    "# Create a for loop to compute the inertia with each possible value of k\n",
    "# Inside the loop:\n",
    "# 1. Create a KMeans model using the loop counter for the n_clusters\n",
    "# 2. Fit the model to the data using `df_market_data_scaled`\n",
    "# 3. Append the model.inertia_ to the inertia list\n",
    "\n",
    "# Append the value of the computed inertia from the `inertia_` attribute of the KMeans model instance\n",
    "for k in k_values:\n",
    "    k_model = KMeans(n_clusters=k, random_state=1)\n",
    "    k_model.fit(df_market_data_scaled)\n",
    "    inertia.append(k_model.inertia_)"
   ]
  },
  {
   "cell_type": "code",
   "execution_count": null,
   "id": "mqmAJ0c5dPKe",
   "metadata": {
    "colab": {
     "base_uri": "https://localhost:8080/",
     "height": 371
    },
    "id": "mqmAJ0c5dPKe",
    "outputId": "b5a1f93b-7a5e-4f73-d644-3e6f3cc24c9a"
   },
   "outputs": [],
   "source": [
    "# Create a dictionary with the data to plot the Elbow curve\n",
    "elbow_data = {\"k\": k_values, \"inertia\": inertia}\n",
    "\n",
    "# Create a DataFrame with the data to plot the Elbow curve\n",
    "df_elbow = pd.DataFrame(elbow_data)\n",
    "df_elbow"
   ]
  },
  {
   "cell_type": "code",
   "execution_count": null,
   "id": "0N43hAkBdS77",
   "metadata": {
    "colab": {
     "base_uri": "https://localhost:8080/",
     "height": 240
    },
    "id": "0N43hAkBdS77",
    "outputId": "2b9f2743-5132-4f19-d739-5b15cd946626"
   },
   "outputs": [],
   "source": [
    "df_elbow.hvplot.line(\n",
    "    x=\"k\", \n",
    "    y=\"inertia\", \n",
    "    title=\"Elbow Curve\", \n",
    "    xticks=k_values\n",
    ")"
   ]
  },
  {
   "cell_type": "markdown",
   "id": "5J6gzRh6denT",
   "metadata": {
    "id": "5J6gzRh6denT"
   },
   "source": [
    "Answer the following question: What is the best value for k?\n",
    "Question: What is the best value for k?\n",
    "\n",
    "Answer: The elbow appears to be around 3, because this has a low inertia but still maintains a small number of clusters."
   ]
  },
  {
   "cell_type": "markdown",
   "id": "z-DtCrBudjsQ",
   "metadata": {
    "id": "z-DtCrBudjsQ"
   },
   "source": [
    "Cluster Cryptocurrencies with K-means Using the Original Data\n",
    "In this section, you will use the K-Means algorithm with the best value for k found in the previous section to cluster the cryptocurrencies according to the price changes of cryptocurrencies provided.\n",
    "\n",
    "Initialize the K-Means model with four clusters using the best value for k.\n",
    "\n",
    "Fit the K-Means model using the original data.\n",
    "\n",
    "Predict the clusters to group the cryptocurrencies using the original data. View the resulting array of cluster values.\n",
    "\n",
    "Create a copy of the original data and add a new column with the predicted clusters.\n",
    "\n",
    "Create a scatter plot using hvPlot by setting x=\"price_change_percentage_24h\" and y=\"price_change_percentage_7d\". Color the graph points with the labels found using K-Means and add the crypto name in the hover_cols parameter to identify the cryptocurrency represented by each data point."
   ]
  },
  {
   "cell_type": "code",
   "execution_count": null,
   "id": "FSeixv6UdXFK",
   "metadata": {
    "id": "FSeixv6UdXFK"
   },
   "outputs": [],
   "source": [
    "# Initialize the K-Means model using the best value for k\n",
    "model = KMeans(n_clusters=3, random_state=1)"
   ]
  },
  {
   "cell_type": "code",
   "execution_count": null,
   "id": "XlboOrT1drYI",
   "metadata": {
    "colab": {
     "base_uri": "https://localhost:8080/",
     "height": 186
    },
    "id": "XlboOrT1drYI",
    "outputId": "05f689b7-8c9a-425f-ffcc-82fada078e8b"
   },
   "outputs": [],
   "source": [
    "# Fit the K-Means model using the scaled data\n",
    "model.fit(df_market_data_scaled)"
   ]
  },
  {
   "cell_type": "code",
   "execution_count": null,
   "id": "TPl1Lz30drO2",
   "metadata": {
    "colab": {
     "base_uri": "https://localhost:8080/",
     "height": 186
    },
    "id": "TPl1Lz30drO2",
    "outputId": "195ea608-daa8-48ba-d665-948385d46e9d"
   },
   "outputs": [],
   "source": [
    "# Predict the clusters to group the cryptocurrencies using the scaled data\n",
    "k_3 = model.predict(df_market_data_scaled)"
   ]
  },
  {
   "cell_type": "code",
   "execution_count": null,
   "id": "NbHjURSJdrE4",
   "metadata": {
    "colab": {
     "base_uri": "https://localhost:8080/",
     "height": 186
    },
    "id": "NbHjURSJdrE4",
    "outputId": "3e348357-c60f-42a2-dc11-c2fd8c27592c"
   },
   "outputs": [],
   "source": [
    "# Create a copy of the DataFrame\n",
    "df_market_data_scaled_predictions = df_market_data_scaled.copy()"
   ]
  },
  {
   "cell_type": "code",
   "execution_count": null,
   "id": "hdj7Es45dq6j",
   "metadata": {
    "colab": {
     "base_uri": "https://localhost:8080/",
     "height": 240
    },
    "id": "hdj7Es45dq6j",
    "outputId": "a5500055-9a86-4079-b1e6-34ee091c0866"
   },
   "outputs": [],
   "source": [
    "# Add a new column to the DataFrame with the predicted clusters\n",
    "df_market_data_scaled_predictions['Predicted Cluster'] = k_3\n",
    "\n",
    "# Display sample data\n",
    "df_market_data_scaled_predictions.head()"
   ]
  },
  {
   "cell_type": "code",
   "execution_count": null,
   "id": "-n9k3oVVd3xo",
   "metadata": {
    "colab": {
     "base_uri": "https://localhost:8080/",
     "height": 240
    },
    "id": "-n9k3oVVd3xo",
    "outputId": "2f711b37-b367-41a9-b9c6-86e9fccb1574"
   },
   "outputs": [],
   "source": [
    "# Create a scatter plot using hvPlot by setting \n",
    "# `x=\"price_change_percentage_24h\"` and `y=\"price_change_percentage_7d\"`. \n",
    "# Color the graph points with the labels found using K-Means and \n",
    "# add the crypto name in the `hover_cols` parameter to identify \n",
    "# the cryptocurrency represented by each data point.\n",
    "\n",
    "df_market_data_scaled_predictions.hvplot.scatter(\n",
    "    x=\"price_change_percentage_24h\", \n",
    "    y=\"price_change_percentage_7d\", \n",
    "    title=\"Elbow Curve\", \n",
    "    xticks=k_values,\n",
    "    by=\"Predicted Cluster\",\n",
    "    hover_cols=[df_market_data_scaled_predictions.index]\n",
    ")"
   ]
  },
  {
   "cell_type": "markdown",
   "id": "TiHnz780eBI5",
   "metadata": {
    "id": "TiHnz780eBI5"
   },
   "source": [
    "Optimize Clusters with Principal Component Analysis\n",
    "In this section, you will perform a principal component analysis (PCA) and reduce the features to three principal components.\n",
    "\n",
    "Create a PCA model instance and set n_components=3.\n",
    "\n",
    "Use the PCA model to reduce to three principal components. View the first five rows of the DataFrame.\n",
    "\n",
    "Retrieve the explained variance to determine how much information can be attributed to each principal component.\n",
    "\n",
    "Answer the following question: What is the total explained variance of the three principal components?\n",
    "\n",
    "Create a new DataFrame with the PCA data. Be sure to set the coin_id index from the original DataFrame as the index for the new DataFrame. Review the resulting DataFrame."
   ]
  },
  {
   "cell_type": "code",
   "execution_count": null,
   "id": "_hDCTvNkeD_S",
   "metadata": {
    "id": "_hDCTvNkeD_S"
   },
   "outputs": [],
   "source": [
    "# Create a PCA model instance and set `n_components=3`.\n",
    "from sklearn.decomposition import PCA\n",
    "pca = PCA(n_components=3)"
   ]
  },
  {
   "cell_type": "code",
   "execution_count": null,
   "id": "MI5fl6SLeD2T",
   "metadata": {
    "colab": {
     "base_uri": "https://localhost:8080/",
     "height": 240
    },
    "id": "MI5fl6SLeD2T",
    "outputId": "b29bac4a-1928-4d18-ab00-030897afff29"
   },
   "outputs": [],
   "source": [
    "# Use the PCA model with `fit_transform` to reduce to \n",
    "# three principal components.\n",
    "pca_data = pca.fit_transform(df_market_data_scaled_predictions)\n",
    "\n",
    "# View the first five rows of the DataFrame. \n",
    "pca_data[:5]"
   ]
  },
  {
   "cell_type": "code",
   "execution_count": null,
   "id": "aGg15BKfeDt8",
   "metadata": {
    "colab": {
     "base_uri": "https://localhost:8080/",
     "height": 204
    },
    "id": "aGg15BKfeDt8",
    "outputId": "98523772-ec98-4636-e900-5ff2f53aace3"
   },
   "outputs": [],
   "source": [
    "# Retrieve the explained variance to determine how much information \n",
    "# can be attributed to each principal component.\n",
    "pca.explained_variance_ratio_"
   ]
  },
  {
   "cell_type": "code",
   "execution_count": null,
   "id": "P4cN_5wFeDjt",
   "metadata": {
    "colab": {
     "base_uri": "https://localhost:8080/",
     "height": 168
    },
    "id": "P4cN_5wFeDjt",
    "outputId": "ba8f5cad-1ce1-40b7-9906-ab34aa01c6f6"
   },
   "outputs": [],
   "source": [
    "sum(pca.explained_variance_ratio_)"
   ]
  },
  {
   "cell_type": "markdown",
   "id": "SvVR0SI3eSJi",
   "metadata": {
    "id": "SvVR0SI3eSJi"
   },
   "source": [
    "Answer the following question: What is the total explained variance of the three principal components?\n",
    "Question: What is the total explained variance of the three principal components?"
   ]
  },
  {
   "cell_type": "code",
   "execution_count": null,
   "id": "-iMoNbBmeT_s",
   "metadata": {
    "colab": {
     "base_uri": "https://localhost:8080/",
     "height": 240
    },
    "id": "-iMoNbBmeT_s",
    "outputId": "a98faf8f-4a80-4ec9-88c8-3f6272596e7a"
   },
   "outputs": [],
   "source": [
    "# Create a new DataFrame with the PCA data.\n",
    "\n",
    "# Creating a DataFrame with the PCA data\n",
    "pca_df = pd.DataFrame(pca_data, columns=[\"PCA1\", \"PCA2\", \"PCA3\"])\n",
    "\n",
    "# Copy the crypto names from the original data\n",
    "crypto_names = df_market_data_scaled_predictions.index\n",
    "\n",
    "# Set the coinid column as index\n",
    "pca_df = pca_df.set_index(crypto_names)\n",
    "\n",
    "# Display sample data\n",
    "pca_df"
   ]
  },
  {
   "cell_type": "markdown",
   "id": "GuIgQ9_Cehx_",
   "metadata": {
    "id": "GuIgQ9_Cehx_"
   },
   "source": [
    "Find the Best Value for k Using the PCA Data\n",
    "In this section, you will use the elbow method to find the best value for k using the PCA data.\n",
    "\n",
    "Code the elbow method algorithm and use the PCA data to find the best value for k. Use a range from 1 to 11.\n",
    "\n",
    "Plot a line chart with all the inertia values computed with the different values of k to visually identify the optimal value for k.\n",
    "\n",
    "Answer the following questions: What is the best value for k when using the PCA data? Does it differ from the best k value found using the original data?"
   ]
  },
  {
   "cell_type": "code",
   "execution_count": null,
   "id": "rc06LhmneT7N",
   "metadata": {
    "colab": {
     "base_uri": "https://localhost:8080/"
    },
    "id": "rc06LhmneT7N",
    "outputId": "31821a87-4f2a-41b9-a63f-7a7bb1123428"
   },
   "outputs": [],
   "source": [
    "# Create a list with the number of k-values to try\n",
    "# Use a range from 1 to 11\n",
    "# YOUR CODE HERE!\n",
    "k_values_list = list(range(1,11))\n",
    "print(k_values_list)\n"
   ]
  },
  {
   "cell_type": "code",
   "execution_count": null,
   "id": "jVpAy6_8eT2C",
   "metadata": {
    "id": "jVpAy6_8eT2C"
   },
   "outputs": [],
   "source": [
    "# Create an empy list to store the inertia values\n",
    "# YOUR CODE HERE!\n",
    "inertia_values = []\n"
   ]
  },
  {
   "cell_type": "code",
   "execution_count": null,
   "id": "3zip1bKdeTvo",
   "metadata": {
    "id": "3zip1bKdeTvo"
   },
   "outputs": [],
   "source": [
    "# Create a for loop to compute the inertia with each possible value of k\n",
    "# Inside the loop:\n",
    "# 1. Create a KMeans model using the loop counter for the n_clusters\n",
    "# 2. Fit the model to the data using `df_market_data_pca`\n",
    "# 3. Append the model.inertia_ to the inertia list\n",
    "# YOUR CODE HERE!\n",
    "\n",
    "for i in k_values_list:\n",
    "    K_model = KMeans(n_clusters = i)\n"
   ]
  },
  {
   "cell_type": "code",
   "execution_count": null,
   "id": "ERUbEuGUeDYI",
   "metadata": {
    "id": "ERUbEuGUeDYI"
   },
   "outputs": [],
   "source": []
  },
  {
   "cell_type": "code",
   "execution_count": null,
   "id": "TkffXWYQd9xo",
   "metadata": {
    "id": "TkffXWYQd9xo"
   },
   "outputs": [],
   "source": []
  },
  {
   "cell_type": "code",
   "execution_count": null,
   "id": "TAYxTOllADf9",
   "metadata": {
    "colab": {
     "base_uri": "https://localhost:8080/",
     "height": 133
    },
    "id": "TAYxTOllADf9",
    "outputId": "60d3a1c1-26a6-485c-e928-d9a8beecdfc7"
   },
   "outputs": [],
   "source": [
    "L#Make a Model\n",
    "#Fit the Model with X_train_scaled, y_train data\n",
    "#Make comparision report\n",
    "\n",
    "from sklearn.linear_model import LinearRegression, LogisticRegression\n",
    "from sklearn.tree import DecisionTreeClassifier\n",
    "from sklearn.svm import SVC \n",
    "from sklearn.naive_bayes import GaussianNB\n",
    "from sklearn.ensemble import RandomForestClassifier\n",
    "\n",
    "#Make models\n",
    "\n",
    "#Logistic Regression model\n",
    "LR_model = LogisticRegression(random_state=1)\n",
    "LR_model.fit(X_train_scaled,y_train)\n",
    "y_predict_test_LR = LR_model.predict(X_test_scaled)\n",
    "print('Logistic Regression model')\n",
    "print(classification_report(y_test,y_predict_test_LR)"
   ]
  },
  {
   "cell_type": "code",
   "execution_count": null,
   "id": "hhstpJlCq8cu",
   "metadata": {
    "colab": {
     "base_uri": "https://localhost:8080/"
    },
    "id": "hhstpJlCq8cu",
    "outputId": "bb3862af-e7a6-4519-f35f-b07c5b9be01b"
   },
   "outputs": [],
   "source": [
    "# Import the OHLCV dataset into a Pandas Dataframe\n",
    "AAPL_df = pd.read_csv(\n",
    "    url_gh),\n",
    "index_col='date', \n",
    "infer_datetime_format=True, \n",
    "parse_dates=True\n",
    "\n",
    "# Review the DataFrame\n",
    "print(AAPL_df)"
   ]
  },
  {
   "cell_type": "markdown",
   "id": "kKjsetFysi6d",
   "metadata": {
    "id": "kKjsetFysi6d"
   },
   "source": [
    "Generate trading signals using short- and long-window SMA values.\n"
   ]
  },
  {
   "cell_type": "code",
   "execution_count": null,
   "id": "HsHLpiaqq9Ct",
   "metadata": {
    "colab": {
     "base_uri": "https://localhost:8080/",
     "height": 240
    },
    "id": "HsHLpiaqq9Ct",
    "outputId": "eded1fba-cb16-4328-88c5-9a38e7407a74"
   },
   "outputs": [],
   "source": [
    "model = LinearRegression().fit(x_train, y_train)\n",
    "mean_squared_error(y_test, model.predict(X_test))\n",
    "\n",
    "x_test_scaled = scaler.test()\n",
    "mean_squared_error(y_test, model.predict(x_test_transformed))\n",
    "\n",
    "\n",
    "from sklearn.pipeline import make_pipeline\n",
    "\n",
    "model = make_pipeline(StandardScaler(), LinearRegression())\n",
    "model.fit(X_train, y_train)\n",
    "Pipeline(steps=[('standardscaler', StandardScaler()),\n",
    "                ('linearregression', LinearRegression())])\n",
    "mean_squared_error(y_test, model.predict(X_test))\n",
    "\n",
    "\n",
    "\n",
    "# Set the short window and long window\n",
    "short_window = 4\n",
    "long_window = 100\n",
    "\n",
    "\n",
    "# Generate the fast and slow simple moving averages (4 and 100 days, respectively)\n",
    "predictions_df['sma_fast'] = predictions_df['Close'].rolling(window=short_window).mean()\n",
    "predictions_df['sma_slow'] = predictions_df['Close'].rolling(window=long_window).mean()\n",
    "\n",
    "predictions_df_df = predictions_df_df.dropna()\n",
    "\n",
    "# Review the DataFrame\n",
    "display(predictions_df.head())\n",
    "display(predictions_df.tail())"
   ]
  },
  {
   "cell_type": "code",
   "execution_count": null,
   "id": "b640f281-0c81-4b0d-b864-8f65af95495b",
   "metadata": {
    "colab": {
     "base_uri": "https://localhost:8080/",
     "height": 365
    },
    "id": "b640f281-0c81-4b0d-b864-8f65af95495b",
    "outputId": "3d04ce52-7c89-4cd1-bdc5-f83355ca9212"
   },
   "outputs": [],
   "source": [
    "sma_fast = 4\n",
    "sma_slow = 100\n",
    "ema = 50\n",
    "volatility_window = 4\n",
    "\n",
    "signals_df['sma_fast'] = TA.SMA(signals_df, sma_fast)\n",
    "signals_df['sma_slow'] = TA.SMA(signals_df, sma_slow)\n",
    "signals_df['ssma'] = TA.SSMA(signals_df)\n",
    "signals_df['ema'] = TA.EMA(signals_df, ema)\n",
    "signals_df['dema'] = TA.DEMA(signals_df)\n",
    "signals_df['tema'] = TA.TEMA(signals_df)\n",
    "signals_df['trima'] = TA.TRIMA(signals_df)\n",
    "signals_df['volatility'] = signals_df['Adj Close'].rolling(window=volatility_window).std()\n",
    "\n",
    "signals_df.dropna(inplace=True)\n",
    "signals_df"
   ]
  },
  {
   "cell_type": "code",
   "execution_count": null,
   "id": "9e292cb1-f352-4c85-8186-ff875cd307d7",
   "metadata": {
    "colab": {
     "base_uri": "https://localhost:8080/",
     "height": 371
    },
    "id": "9e292cb1-f352-4c85-8186-ff875cd307d7",
    "outputId": "59b1ab6b-4aee-44fd-cf76-f01eb8cd19b3"
   },
   "outputs": [],
   "source": [
    "#Make X Data Set\n",
    "\n",
    "X = signals_df[['sma_fast', 'ssma', 'ema', 'dema', 'tema','trima', 'volatility', 'sma_slow']].shift().dropna().copy\n",
    "X\n"
   ]
  },
  {
   "cell_type": "code",
   "execution_count": null,
   "id": "pldNJiMLqWkr",
   "metadata": {
    "id": "pldNJiMLqWkr"
   },
   "outputs": [],
   "source": []
  },
  {
   "cell_type": "code",
   "execution_count": null,
   "id": "5MPeigxNqi4r",
   "metadata": {
    "id": "5MPeigxNqi4r"
   },
   "outputs": [],
   "source": []
  },
  {
   "cell_type": "code",
   "execution_count": null,
   "id": "10b09ac8-9d55-43ea-b37a-9ce167280760",
   "metadata": {
    "colab": {
     "base_uri": "https://localhost:8080/",
     "height": 240
    },
    "id": "10b09ac8-9d55-43ea-b37a-9ce167280760",
    "outputId": "ea466a6e-1880-45f4-8847-6177aba05f0d"
   },
   "outputs": [],
   "source": [
    "#Make Y Data Set\n",
    "\n",
    "#Make the Buy/Sell signal and populate them with two opposing integers: +1 or -1\n",
    "\n",
    "signals_df['signal'] = 0.0\n",
    "\n",
    "#Make buy and sell signal\n",
    "signals_df['signal'] = numpy.where(signals_df['Adj Close'] >=0, 1, -1)\n",
    "\n",
    "y = signals_df['signal']"
   ]
  },
  {
   "cell_type": "code",
   "execution_count": null,
   "id": "lOfZ9TDEqm5R",
   "metadata": {
    "id": "lOfZ9TDEqm5R"
   },
   "outputs": [],
   "source": []
  },
  {
   "cell_type": "code",
   "execution_count": null,
   "id": "5fad03b8-36c8-46e7-9fa6-aae5297b73a2",
   "metadata": {
    "colab": {
     "base_uri": "https://localhost:8080/",
     "height": 240
    },
    "id": "5fad03b8-36c8-46e7-9fa6-aae5297b73a2",
    "outputId": "55be7448-29f8-4a06-8128-906b44c94759"
   },
   "outputs": [],
   "source": [
    "#Make Train and Test Data: X_train, y_train, X_test, y_test\n",
    "#offset_years as a parameter\n",
    "\n",
    "offset_years = 8\n",
    "training_begin = X.index.min()\n",
    "training_end = training_begin + DateOffset(years=offset_years)\n",
    "\n",
    "X_train = X.loc[training_begin:training_end]\n",
    "y_train = y.loc[training_begin:training_end]\n",
    "\n",
    "test_begin = X.loc[training_end : ].index.min()\n",
    "X_test = X.loc[test_begin : ]\n",
    "y_test = y.loc[test_begin : ]\n"
   ]
  },
  {
   "cell_type": "code",
   "execution_count": null,
   "id": "26c7dd2b-3a0d-4866-a712-1a8becb38747",
   "metadata": {
    "colab": {
     "base_uri": "https://localhost:8080/",
     "height": 240
    },
    "id": "26c7dd2b-3a0d-4866-a712-1a8becb38747",
    "outputId": "915dbacf-435c-4acb-ed65-bb5bffbedc22"
   },
   "outputs": [],
   "source": [
    "#Standardizing Our Data Set\n",
    "\n",
    "#Scaling the features Dataframes\n",
    "\n",
    "#Make a StandardScaler instance\n",
    "scaler = StandardScaler()\n",
    "\n",
    "#Apply the scaler model to fit the X_train data set\n",
    "X_scaler = scaler.fit(X_train)\n",
    "\n",
    "#Transform the X_train and X_test Dataframes using the X_scaler\n",
    "X_train_scaled = X_scaler.transform(X_train)\n",
    "X_test_scaled = X_scaler.transform(X_test)\n"
   ]
  },
  {
   "cell_type": "code",
   "execution_count": null,
   "id": "78a44c33-76dc-46a9-9f1f-14a134264338",
   "metadata": {
    "colab": {
     "base_uri": "https://localhost:8080/",
     "height": 133
    },
    "id": "78a44c33-76dc-46a9-9f1f-14a134264338",
    "outputId": "deb7cfc2-c5fd-4522-f802-c060d900bcc5"
   },
   "outputs": [],
   "source": [
    "#Make a Model\n",
    "#Fit the Model with X_train_scaled, y_train data\n",
    "#Make comparision report\n",
    "\n",
    "\n",
    "from sklearn.linear_model import LinearRegression, LogisticRegression\n",
    "from sklearn.tree import DecisionTreeClassifier\n",
    "from sklearn.svm import SVC \n",
    "from sklearn.naive_bayes import GaussianNB\n",
    "from sklearn.ensemble import RandomForestClassifier\n",
    "\n",
    "#Make models\n",
    "\n",
    "#Logistic Regression model\n",
    "LR_model = LogisticRegression(random_state=1)\n",
    "LR_model.fit(X_train_scaled,y_train)\n",
    "y_predict_test_LR = LR_model.predict(X_test_scaled)\n",
    "print('Logistic Regression model')\n",
    "print(classification_report(y_test,y_predict_test_LR)\n",
    "\n",
    "# #DecisionTreeClassifier model\n",
    "DTC_model = DecisionTreeClassifier(random_state=1)\n",
    "DTC_model.fit(X_train_scaled, y_train)\n",
    "y_predict_test_DTC = DTC_model.predict(X_test_scaled) \n",
    "print('Decision Tree Classifier')\n",
    "print(classification_report(y_test, y_predict_test_DTC))\n",
    "\n",
    "# # SVM model\n",
    "SVM_model = SVC(random_state=1)\n",
    "SVM_model.fit(X_train_scaled,y_train)\n",
    "y_predict_test_SVM = SVM_model.predict(X_test_scaled)\n",
    "print('SVM Classifier')\n",
    "print(classification_report(y_test,y_predict_test_test_SVM)\n",
    "      \n",
    "# # GaussianNB model\n",
    "GaussianNB_model = GaussianNB()\n",
    "GaussianNB_model.fit(X_train_scaled,y_train)\n",
    "y_predict_test_GaussianNB = GaussianNB_model.predict(X_test_scaled)\n",
    "print('GaussianNB Classifier')\n",
    "print(classification_report(y_test,y_predit_test_GaussianNB)\n",
    "      \n",
    "# #Random Forest Classifier model\n",
    "RandomForestClassifier = RandomForestClassifier()\n",
    "RandomForestClassifier_model_model.fit(X_train_scaled,y_train)\n",
    "y_predict_test_GRandomForestClassifier = RandomForestClassifier_model.predict(X_test_scaled)\n",
    "print('RandomForestClassifier_model')\n",
    "print(classification_report(y_test,y_predit_test_RandomForestClassifier)\n",
    "      \n",
    "\n"
   ]
  },
  {
   "cell_type": "markdown",
   "id": "MXOXhEu_POPV",
   "metadata": {
    "id": "MXOXhEu_POPV"
   },
   "source": [
    "Import S&P 500 Data"
   ]
  },
  {
   "cell_type": "code",
   "execution_count": null,
   "id": "611af7ca-d899-4cd9-a381-27098d2ff7c9",
   "metadata": {
    "id": "611af7ca-d899-4cd9-a381-27098d2ff7c9"
   },
   "outputs": [],
   "source": [
    "# Read the S&P 500 CSV data into a DataFrame\n",
    "url_sp = 'https://finance.yahoo.com/quote/%5EGSPC/history?period1=1609459200&period2=1649289600&interval=1d&filter=history&frequency=1d&includeAdjustedClose=true'\n",
    "df_sp500 = pd.read_csv(url_sp)\n",
    "                      \n",
    "# Display the DataFrame\n",
    "df_sp500.head(10)\n",
    "\n",
    "\n",
    "df_sp500['adj close'] = df_sp500['close'].pct_change()\n",
    "\n",
    "df_sp500 = df_sp500.dropna()\n",
    "\n",
    "df_sp500.head()\n"
   ]
  },
  {
   "cell_type": "code",
   "execution_count": null,
   "id": "95367153-879b-49bb-be04-951cf3b7e3d0",
   "metadata": {},
   "outputs": [],
   "source": [
    "df_sp500['adj close'] = df_sp500['close'].pct_change()\n",
    "\n",
    "df_sp500 = df_sp500.dropna()\n",
    "\n",
    "df_sp500.head()"
   ]
  },
  {
   "cell_type": "code",
   "execution_count": null,
   "id": "b173765b-91ff-4381-b079-287c954b9c06",
   "metadata": {
    "id": "b173765b-91ff-4381-b079-287c954b9c06"
   },
   "outputs": [],
   "source": []
  },
  {
   "cell_type": "code",
   "execution_count": null,
   "id": "5HmAkUWfPsP3",
   "metadata": {
    "id": "5HmAkUWfPsP3"
   },
   "outputs": [],
   "source": []
  },
  {
   "cell_type": "code",
   "execution_count": null,
   "id": "u5lPmzY4PsIs",
   "metadata": {
    "id": "u5lPmzY4PsIs"
   },
   "outputs": [],
   "source": []
  },
  {
   "cell_type": "code",
   "execution_count": null,
   "id": "FTEBUu3QPsBy",
   "metadata": {
    "id": "FTEBUu3QPsBy"
   },
   "outputs": [],
   "source": []
  },
  {
   "cell_type": "code",
   "execution_count": null,
   "id": "lXKKSCEJPr7L",
   "metadata": {
    "id": "lXKKSCEJPr7L"
   },
   "outputs": [],
   "source": []
  },
  {
   "cell_type": "code",
   "execution_count": null,
   "id": "BNpwU-KXPr0E",
   "metadata": {
    "id": "BNpwU-KXPr0E"
   },
   "outputs": [],
   "source": []
  },
  {
   "cell_type": "code",
   "execution_count": null,
   "id": "TDGHtzmmPrsQ",
   "metadata": {
    "id": "TDGHtzmmPrsQ"
   },
   "outputs": [],
   "source": []
  },
  {
   "cell_type": "code",
   "execution_count": null,
   "id": "Z72OUvmPPrjP",
   "metadata": {
    "id": "Z72OUvmPPrjP"
   },
   "outputs": [],
   "source": []
  },
  {
   "cell_type": "code",
   "execution_count": null,
   "id": "0s6YKNBUPrab",
   "metadata": {
    "id": "0s6YKNBUPrab"
   },
   "outputs": [],
   "source": []
  },
  {
   "cell_type": "code",
   "execution_count": null,
   "id": "dlkgwrGUPrMG",
   "metadata": {
    "id": "dlkgwrGUPrMG"
   },
   "outputs": [],
   "source": []
  }
 ],
 "metadata": {
  "colab": {
   "collapsed_sections": [],
   "name": "backtesting_trading_bot (2).ipynb",
   "provenance": []
  },
  "kernelspec": {
   "display_name": "Python 3 (ipykernel)",
   "language": "python",
   "name": "python3"
  },
  "language_info": {
   "codemirror_mode": {
    "name": "ipython",
    "version": 3
   },
   "file_extension": ".py",
   "mimetype": "text/x-python",
   "name": "python",
   "nbconvert_exporter": "python",
   "pygments_lexer": "ipython3",
   "version": "3.7.11"
  }
 },
 "nbformat": 4,
 "nbformat_minor": 5
}
